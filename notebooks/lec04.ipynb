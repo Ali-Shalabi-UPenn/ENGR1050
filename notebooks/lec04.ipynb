{
 "cells": [
  {
   "cell_type": "markdown",
   "id": "3a855527",
   "metadata": {},
   "source": [
    "# Lecture 4: Plots and User I/O\n",
    "\n",
    "[![Open In Colab](https://colab.research.google.com/assets/colab-badge.svg)](https://colab.research.google.com/github/PIMILab/ENGR1050/blob/main/notebooks/lec04.ipynb)\n",
    "\n",
    "> Click the badge above to open this notebook in Google Colab. You are also welcome to run notebooks in your own environment (VSCode, jupyter-notebook server, etc) if you know how to do that, but for now this link will let you get started without configuring your computer.\n",
    "\n",
    "Today we will practice the basic control logic we learned about in the previous lecture by doing a few exercises and learning to make plots. For today's lecture, you will be working in pairs and are welcome to move through the material at your own pace while we float around the room and give individual guidance."
   ]
  },
  {
   "cell_type": "markdown",
   "id": "465ab8fa",
   "metadata": {},
   "source": [
    "\n",
    "## To get started\n",
    "\n",
    "\n",
    "1. Log into your Google Drive folder. Every SEAS student should have access to Google Drive through their SEAS account.\n",
    "1. Create a new folder to store all of your ENGR 1050 work.\n",
    "1. In this document, click on `File > Save a copy in Drive`, and put the document in your ENGR 1050 folder.\n",
    "<font color=\"blue\">MAKE SURE YOU DO THIS STEP. This is a read-only document and while you can edit it in your browser, your changes will NOT be saved.</font>\n",
    "\n",
    "(You may have to add the Colaboratory add-on. If you are not able to edit this notebook within your Drive, click on `New > More > Connect more apps` and search for \"Collaboratory.\")"
   ]
  },
  {
   "cell_type": "markdown",
   "id": "66801ee3",
   "metadata": {},
   "source": [
    "# **Review from last class**\n",
    "\n",
    "We'll gather here for quick reference the basic syntax for the material we learned in the previous lecture."
   ]
  },
  {
   "cell_type": "markdown",
   "id": "4f37c614",
   "metadata": {},
   "source": [
    "# Lists\n",
    "\n",
    "**Basic list syntax**\n",
    "\n",
    "- Create a list: example = [1, 2, 3]\n",
    "- Empty list: empty = []\n",
    "- Mixed types allowed: mixed = [1, \"hi\", 3.14, True]\n",
    "\n",
    "**Indexing and slicing**\n",
    "\n",
    "- Indexing: example[0]  # first element, example[-1]  # last element\n",
    "- Slicing: example[1:3]  # elements at indices 1 and 2\n",
    "- Shorthand: example[:], example[1:], example[:-1]\n",
    "- Reverse slice: example[::-1]\n",
    "\n",
    "**Common list methods and Python idioms (with short examples)**\n",
    "\n",
    "- append(x): add one item to the end\n",
    "  ```python\n",
    "  a = [1,2]\n",
    "  a.append(3)      # a -> [1,2,3]\n",
    "  ```\n",
    "- extend(iterable): add multiple items\n",
    "  ```python\n",
    "  a.extend([4,5])  # a -> [1,2,3,4,5]\n",
    "  ```\n",
    "- insert(i, x): insert x at index i\n",
    "  ```python\n",
    "  a.insert(1, 9)   # a -> [1,9,2,3,4,5]\n",
    "  ```\n",
    "- pop([i]): remove and return last (or index i)\n",
    "  ```python\n",
    "  last = a.pop()   # removes 5, a -> [1,9,2,3,4]\n",
    "  mid = a.pop(2)   # removes element at index 2, a -> [1,9,3,4]\n",
    "  ```\n",
    "- remove(x): remove first occurrence of x\n",
    "  ```python\n",
    "  a.remove(9)      # removes element at index 2, a -> [1,3,4]\n",
    "  ```\n",
    "- index(x): find index of first occurrence\n",
    "  ```python\n",
    "  i = a.index(2)\n",
    "  ```\n",
    "- count(x): number of occurrences\n",
    "  ```python\n",
    "  a.count(2)\n",
    "  ```\n",
    "- sort() / sorted(): sort in place or return a new list\n",
    "  ```python\n",
    "  a.sort()\n",
    "  b = sorted(a, reverse=True)\n",
    "  ```\n",
    "- reverse(): reverse in place\n",
    "  ```python\n",
    "  a.reverse()\n",
    "  ```\n",
    "\n",
    "**Idioms and advanced syntax**\n",
    "\n",
    "- enumerate: get index and value\n",
    "  ```python\n",
    "  for i, v in enumerate(a):\n",
    "      print(i, v)\n",
    "  ```\n",
    "- zip: iterate multiple lists together\n",
    "  ```python\n",
    "  for name, avg in zip(players, batting_averages):\n",
    "      print(name, avg)\n",
    "  ```\n",
    "- list comprehensions (concise mapping/filtering)\n",
    "  ```python\n",
    "  squares = [x*x for x in range(6)]\n",
    "  evens = [x for x in range(10) if x % 2 == 0]\n",
    "  ```\n"
   ]
  },
  {
   "cell_type": "markdown",
   "id": "bf7e8738",
   "metadata": {},
   "source": [
    "## For Loops\n",
    "\n",
    "\n",
    "**Basic syntax**\n",
    "\n",
    "```python\n",
    "for variable in sequence:\n",
    "    # indented block runs once per item, with `variable` set to the current item\n",
    "```\n",
    "\n",
    "**Key ideas**\n",
    "- Indentation defines the loop body (Python uses indentation syntactically).\n",
    "- The loop variable takes each value from the sequence in order.\n",
    "- Sequences can be lists, strings, tuples, range(...) objects, generators, etc.\n",
    "\n",
    "**Common patterns and idioms**\n",
    "\n",
    "- Iterating over a list directly (preferred):\n",
    "  ```python\n",
    "  names = [\"Alice\", \"Bob\", \"Charlie\"]\n",
    "  for name in names:\n",
    "      print(name)\n",
    "  ```\n",
    "\n",
    "- Iterating by index (when you need indices):\n",
    "  ```python\n",
    "  for i in range(len(names)):\n",
    "      print(i, names[i])\n",
    "  ```\n",
    "  Better alternative: use `enumerate` to get index + value:\n",
    "  ```python\n",
    "  for i, name in enumerate(names):\n",
    "      print(i, name)\n",
    "  ```\n",
    "\n",
    "- Iterating multiple lists together: use `zip`:\n",
    "  ```python\n",
    "  for a, b in zip(list1, list2):\n",
    "      # a from list1, b from list2\n",
    "  ```\n",
    "\n",
    "- Building lists with a loop + append (explicit) vs list comprehensions (concise):\n",
    "  ```python\n",
    "  squares = []\n",
    "  for x in range(6):\n",
    "      squares.append(x*x)\n",
    "\n",
    "  # same result with comprehension\n",
    "  squares = [x*x for x in range(6)]\n",
    "  ```\n",
    "\n",
    "**Safe patterns and pitfalls**\n",
    "- Don’t modify a list (remove/insert) while iterating over it. \n",
    "- Prefer built-ins (`max`, `min`, `sum`, `sorted`) when possible for clarity and speed.\n"
   ]
  },
  {
   "cell_type": "markdown",
   "id": "04893821",
   "metadata": {},
   "source": [
    "# If statements (aka conditional statements)"
   ]
  },
  {
   "cell_type": "markdown",
   "id": "8310826b",
   "metadata": {},
   "source": [
    "\n",
    "```python\n",
    "if condition1:\n",
    "    # runs if condition1 is true\n",
    "elif condition2:\n",
    "    # runs if condition1 is false AND condition2 is true\n",
    "elif condition3:\n",
    "    # runs if condition1 is false AND condition2 is false AND condition3 is true\n",
    "else:\n",
    "    # runs if none of the above conditions are true\n",
    "```\n",
    "\n",
    "\n",
    "- Syntax:\n",
    "  - if condition:\n",
    "      indented block runs when condition is True\n",
    "  - elif (else if) and else provide additional branches\n",
    "- Conditions must evaluate to a boolean (True/False). Use comparison operators: `==`, `!=`, `<`, `<=`, `>`, `>=`.\n",
    "- Logical operators: `and`, `or`, `not`.\n",
    "- Indentation defines the controlled block — be consistent (4 spaces is typical).\n",
    "- Values like `0`, `0.0`, `\"\"` (empty string), `[]`, `None`, and `False` evaluate as False in conditions.\n",
    "- Floating-point equality: avoid direct `==` for floats. Use a tolerance with `abs(a - b) < tol`.\n",
    "\n",
    "The cells below give some examples of conditional syntax"
   ]
  },
  {
   "cell_type": "code",
   "execution_count": null,
   "id": "ce679e49",
   "metadata": {},
   "outputs": [],
   "source": [
    "# Example 1: simple if / elif / else\n",
    "x = 5\n",
    "if x > 10:\n",
    "    print(\"x is greater than 10\")\n",
    "elif x > 3:\n",
    "    print(\"x is greater than 3 but not greater than 10\")\n",
    "else:\n",
    "    print(\"x is 3 or less\")\n",
    "\n",
    "# This line always runs (not part of the conditional block)\n",
    "print(\"Done with Example 1\")"
   ]
  },
  {
   "cell_type": "code",
   "execution_count": null,
   "id": "bb42eab1",
   "metadata": {},
   "outputs": [],
   "source": [
    "# Example 2: floating-point comparison using a tolerance\n",
    "z = 0.1 + 0.2\n",
    "print(\"z ->\", z)\n",
    "if abs(z - 0.3) < 1e-9:\n",
    "    print(\"z is approximately 0.3 (within tolerance)\")\n",
    "else:\n",
    "    print(f\"z is NOT exactly 0.3 (difference = {z - 0.3})\")"
   ]
  },
  {
   "cell_type": "code",
   "execution_count": null,
   "id": "12e3e045",
   "metadata": {},
   "outputs": [],
   "source": [
    "# Example 3: logical operators and nested conditionals\n",
    "score = 85\n",
    "if score >= 90:\n",
    "    grade = 'A'\n",
    "elif score >= 80:\n",
    "    grade = 'B'\n",
    "else:\n",
    "    grade = 'C'\n",
    "print(f\"Score {score} => grade {grade}\")\n",
    "\n",
    "# Logical operators\n",
    "a = True\n",
    "b = False\n",
    "if a and not b:\n",
    "    print('a is True and b is False')\n",
    "\n",
    "# Truthiness example\n",
    "items = []\n",
    "if items:\n",
    "    print('list is non-empty')\n",
    "else:\n",
    "    print('list is empty (falsy)')"
   ]
  },
  {
   "cell_type": "markdown",
   "id": "f83efd97",
   "metadata": {},
   "source": [
    "# Today's new material\n",
    "\n",
    "Lists, loops and conditionals are "
   ]
  },
  {
   "cell_type": "markdown",
   "id": "909f0a7b",
   "metadata": {},
   "source": [
    "# A motivating example\n",
    "**Attribution:** material taken from [here](https://www.uwyo.edu/mechanical/_files/docs/meref/example-long-report.pdf).\n",
    "\n",
    "**Data Source:** “Data for Numisheet 2020 uniaxial tensile and tension/compression tests,” National Institute of Standards and Technology, retrieved from Data.gov. Further details and methodology described in Rust, E., Luecke, W. E., & Iadicola, M. A. (2020). 2020 Numisheet benchmark study uniaxial tensile tests summary. DOI: 10.18434/M32202.\n",
    "\n",
    "When people characterize the mechanical response of a material, they perform what's called a *uniaxial tension* experiment. A \"dogbone\" shape piece of material is attached between two fixtures which pull the material apart, and the force required to hold the material in place is recorded. "
   ]
  },
  {
   "cell_type": "markdown",
   "id": "c42cf424",
   "metadata": {},
   "source": [
    "![image.png](attachment:image.png)"
   ]
  },
  {
   "cell_type": "markdown",
   "id": "e78b9a10",
   "metadata": {},
   "source": [
    "The material response is split up into three regimes:\n",
    "- *Elastic deformation:* For small displacements, there is a linear and reversible response from the material\n",
    "- *Plastic deformation:* When the stress exceeds a critical \"yield stress\" the material switches to a nonlinear, irreversible deformation\n",
    "- *Fracture:* After reaching the \"ultimate tensile strength\" the material fractures and can no longer sustain a load\n",
    "\n",
    "![image.png](attachment:image.png)"
   ]
  },
  {
   "cell_type": "markdown",
   "id": "9d2ca7a4",
   "metadata": {},
   "source": [
    "The National Institute of Standards and Technology (NIST) is a U.S. federal agency within the Department of Commerce that develops and maintains measurement standards, calibration methods, and reference data. Its mission is to promote innovation and industrial competitiveness by advancing measurement science, standards, and technology. \n",
    "\n",
    "As part of their job, they do a lot of work testing materials, performing experiments, like the one we just described, which allow engineers to understand how a given structural loading will map onto a given design. By understanding how one of these \"dogbones\" deform, they give material parameters like the yield strength or ultimate tensilve strength which we can use to design more complex geometries.\n",
    "\n",
    "Today, we are going to use one of these datasets to practice manipulating lists, using for loops and conditionals, and generating plots of the data. The code block below will grab the data files from the internet. Don't worry too much about the details - I've explained what different pieces of the code do, but if you run it you will now have a `curves` variable stored which contains force/displacement curves from three different NIST experiments."
   ]
  },
  {
   "cell_type": "code",
   "execution_count": null,
   "id": "7f8e48af",
   "metadata": {},
   "outputs": [
    {
     "name": "stdout",
     "output_type": "stream",
     "text": [
      "3 curves loaded\n",
      "First 5 points of curve 1: [[-22.3829, -0.0061], [-22.3699, 0.0102], [-22.3829, 0.0134], [-22.3699, 0.0134], [-22.3667, 0.0134]]\n"
     ]
    }
   ],
   "source": [
    "# We need some libraries to handle CSV files (the file format NIST used to store their data) and to download files from the internet\n",
    "import csv\n",
    "import urllib.request\n",
    "\n",
    "# NIST CSVs for the same material: AA6xxx-T81 sheet (three different orientations/repeats)\n",
    "urls = [\n",
    "    \"https://data.nist.gov/od/ds/ark:/88434/mds2-2202/UniaxialTension/Al6xxx-T81/U15Al6XXX-T81_BatchB13R01T2.6921W12.71.csv\",\n",
    "    \"https://data.nist.gov/od/ds/ark:/88434/mds2-2202/UniaxialTension/Al6xxx-T81/U30Al6XXX-T81_BatchB8R01T2.693W12.66.csv\",\n",
    "    \"https://data.nist.gov/od/ds/ark:/88434/mds2-2202/UniaxialTension/Al6xxx-T81/U90Al6XXX-T81_BatchB5R03T2.684W12.68.csv\",\n",
    "]\n",
    "\n",
    "# curves will be a list where each element is a list of [displacement_mm, force_kN] pairs\n",
    "curves = []\n",
    "\n",
    "# Loop over each URL, download the file, read the data, and store it in curves\n",
    "for url in urls:\n",
    "    local_name = url.split(\"/\")[-1]\n",
    "    urllib.request.urlretrieve(url, local_name)  # download the file to the current directory\n",
    "\n",
    "    # Read in the CSV file, appending each [displacement, force] pair as a new entry in the list\n",
    "    data = []\n",
    "    with open(local_name, newline=\"\") as f:\n",
    "        reader = csv.DictReader(f)\n",
    "        for row in reader:\n",
    "            # Columns per NIST spec: \"Displacement_(mm)\" and \"Force_(kN)\"\n",
    "            d = float(row[\"Displacement_(mm)\"])\n",
    "            F = float(row[\"Force_(kN)\"])\n",
    "            data.append([d, F])\n",
    "    curves.append(data)\n",
    "\n",
    "# Curvess is now a list of lists: 3 lists for each experiment, each containing [displacement, force] pairs\n",
    "print(len(curves), \"curves loaded\")\n",
    "print(\"First 5 [displacement_mm, force_kN] points of curve 1:\", curves[0][:5])\n"
   ]
  },
  {
   "cell_type": "markdown",
   "id": "8e73f224",
   "metadata": {},
   "source": [
    "<div style=\"text-align:center\"> <img src=\"Images/lec04_rawplot.png\" width=\"700\" alt=\"lec04 plot\"> </div>"
   ]
  },
  {
   "cell_type": "markdown",
   "id": "09347737",
   "metadata": {},
   "source": [
    "This code stores the three experiments as a list of lists. `curves` is a list with three entries corresponding to each experiment, each of which is a list of its own storing pairs of force and displacement entries for the material "
   ]
  },
  {
   "cell_type": "markdown",
   "id": "d7ef2e4c",
   "metadata": {},
   "source": [
    "# Submit today's work #\n",
    "1. Run any blocks of code so that the notebook contains the output of your code.\n",
    "2. Save your notebook (File > Save or Ctrl+S).\n",
    "3. Download your notebook as an `.ipynb` file:\n",
    "   - In Colab: File > Download > Download .ipynb\n",
    "   - In Jupyter: File > Download as > Notebook (.ipynb)\n",
    "4. Go to the [Canvas assignment page](https://canvas.upenn.edu/courses/1881448/assignments/13942478) for this lecture.\n",
    "5. Upload your `.ipynb` file and submit.\n",
    "6. Double-check that your file uploaded correctly and is not empty.\n",
    "\n",
    "For this project we will submit **individually** (i.e. not as a group). While we're still learning the ropes, you **should not be using AI**. Discussion with your neighbors is welcome. Attribute any external resources you used here to comply with Penn's academic integrity policy."
   ]
  },
  {
   "cell_type": "markdown",
   "id": "b5d0b277",
   "metadata": {},
   "source": []
  }
 ],
 "metadata": {
  "kernelspec": {
   "display_name": "base",
   "language": "python",
   "name": "python3"
  },
  "language_info": {
   "codemirror_mode": {
    "name": "ipython",
    "version": 3
   },
   "file_extension": ".py",
   "mimetype": "text/x-python",
   "name": "python",
   "nbconvert_exporter": "python",
   "pygments_lexer": "ipython3",
   "version": "3.12.7"
  }
 },
 "nbformat": 4,
 "nbformat_minor": 5
}
