{
 "cells": [
  {
   "cell_type": "markdown",
   "id": "3a855527",
   "metadata": {},
   "source": [
    "# Lecture 4: Plots and data cleanup, and uniaxial extension.\n",
    "\n",
    "[![Open In Colab](https://colab.research.google.com/assets/colab-badge.svg)](https://colab.research.google.com/github/PIMILab/ENGR1050/blob/main/notebooks/lec04.ipynb)\n",
    "\n",
    "> Click the badge above to open this notebook in Google Colab. You are also welcome to run notebooks in your own environment (VSCode, jupyter-notebook server, etc) if you know how to do that, but for now this link will let you get started without configuring your computer.\n",
    "\n",
    "Today we will practice the basic control logic we learned about in the previous lecture by doing a few exercises and learning to make plots. For today's lecture, you will be working in pairs and are welcome to move through the material at your own pace while we float around the room and give individual guidance.\n",
    "\n",
    "Some code we write today will generate figures and save them in an Images folder. Depending on where you run your code, you may or may not be able to access them (e.g. if you run these on your google drive, you will be able to). Run the following block of code to make sure a folder exists to save into."
   ]
  },
  {
   "cell_type": "code",
   "execution_count": null,
   "id": "f90730bf",
   "metadata": {},
   "outputs": [],
   "source": [
    "import os\n",
    "# Ensure the Images/ folder exists so plt.savefig won't fail\n",
    "os.makedirs('Images', exist_ok=True)\n",
    "print('Images/ directory ensured')"
   ]
  },
  {
   "cell_type": "markdown",
   "id": "465ab8fa",
   "metadata": {},
   "source": [
    "\n",
    "## To get started\n",
    "\n",
    "\n",
    "1. Log into your Google Drive folder. Every SEAS student should have access to Google Drive through their SEAS account.\n",
    "1. Create a new folder to store all of your ENGR 1050 work.\n",
    "1. In this document, click on `File > Save a copy in Drive`, and put the document in your ENGR 1050 folder.\n",
    "<font color=\"blue\">MAKE SURE YOU DO THIS STEP. This is a read-only document and while you can edit it in your browser, your changes will NOT be saved.</font>\n",
    "\n",
    "(You may have to add the Colaboratory add-on. If you are not able to edit this notebook within your Drive, click on `New > More > Connect more apps` and search for \"Collaboratory.\")"
   ]
  },
  {
   "cell_type": "markdown",
   "id": "66801ee3",
   "metadata": {},
   "source": [
    "# **Review from last class**\n",
    "\n",
    "We'll gather here for quick reference the basic syntax for the material we learned in the previous lecture."
   ]
  },
  {
   "cell_type": "markdown",
   "id": "4f37c614",
   "metadata": {},
   "source": [
    "# Lists\n",
    "\n",
    "**Basic list syntax**\n",
    "\n",
    "- Create a list: example = [1, 2, 3]\n",
    "- Empty list: empty = []\n",
    "- Mixed types allowed: mixed = [1, \"hi\", 3.14, True]\n",
    "\n",
    "**Indexing and slicing**\n",
    "\n",
    "- Indexing: example[0]  # first element, example[-1]  # last element\n",
    "- Slicing: example[1:3]  # elements at indices 1 and 2\n",
    "- Shorthand: example[:], example[1:], example[:-1]\n",
    "- Reverse slice: example[::-1]\n",
    "\n",
    "**Common list methods and Python idioms (with short examples)**\n",
    "\n",
    "- append(x): add one item to the end\n",
    "  ```python\n",
    "  a = [1,2]\n",
    "  a.append(3)      # a -> [1,2,3]\n",
    "  ```\n",
    "- extend(list): add multiple items\n",
    "  ```python\n",
    "  a.extend([4,5])  # a -> [1,2,3,4,5]\n",
    "  ```\n",
    "- insert(i, x): insert x at index i\n",
    "  ```python\n",
    "  a.insert(1, 9)   # a -> [1,9,2,3,4,5]\n",
    "  ```\n",
    "- pop([i]): remove and return last (or index i)\n",
    "  ```python\n",
    "  last = a.pop()   # removes 5, a -> [1,9,2,3,4]\n",
    "  mid = a.pop(2)   # removes element at index 2, a -> [1,9,3,4]\n",
    "  ```\n",
    "- remove(x): remove first occurrence of x\n",
    "  ```python\n",
    "  a.remove(9)      # removes element at index 2, a -> [1,3,4]\n",
    "  ```\n",
    "- index(x): find index of first occurrence\n",
    "  ```python\n",
    "  i = a.index(2)\n",
    "  ```\n",
    "- count(x): number of occurrences\n",
    "  ```python\n",
    "  a.count(2)\n",
    "  ```\n",
    "- sort() / sorted(): sort in place or return a new list\n",
    "  ```python\n",
    "  a.sort()\n",
    "  b = sorted(a, reverse=True)\n",
    "  ```\n",
    "- reverse(): reverse in place\n",
    "  ```python\n",
    "  a.reverse()\n",
    "  ```\n",
    "\n",
    "**Idioms and advanced syntax**\n",
    "\n",
    "- enumerate: get index and value\n",
    "  ```python\n",
    "  for i, v in enumerate(a):\n",
    "      print(i, v)\n",
    "  ```\n",
    "- zip: iterate multiple lists together\n",
    "  ```python\n",
    "  for name, avg in zip(players, batting_averages):\n",
    "      print(name, avg)\n",
    "  ```\n",
    "- list comprehensions (concise mapping/filtering)\n",
    "  ```python\n",
    "  squares = [x*x for x in range(6)]\n",
    "  evens = [x for x in range(10) if x % 2 == 0]\n",
    "  ```\n"
   ]
  },
  {
   "cell_type": "markdown",
   "id": "bf7e8738",
   "metadata": {},
   "source": [
    "## For Loops\n",
    "\n",
    "\n",
    "**Basic syntax**\n",
    "\n",
    "```python\n",
    "for variable in sequence:\n",
    "    # indented block runs once per item, with `variable` set to the current item\n",
    "```\n",
    "\n",
    "**Key ideas**\n",
    "- Indentation defines the loop body (Python uses indentation syntactically).\n",
    "- The loop variable takes each value from the sequence in order.\n",
    "- Sequences can be lists, strings, tuples, range(...) objects, generators, etc.\n",
    "\n",
    "**Common patterns and idioms**\n",
    "\n",
    "- Iterating over a list directly (preferred):\n",
    "  ```python\n",
    "  names = [\"Alice\", \"Bob\", \"Charlie\"]\n",
    "  for name in names:\n",
    "      print(name)\n",
    "  ```\n",
    "\n",
    "- Iterating by index (when you need indices):\n",
    "  ```python\n",
    "  for i in range(len(names)):\n",
    "      print(i, names[i])\n",
    "  ```\n",
    "  Better alternative: use `enumerate` to get index + value:\n",
    "  ```python\n",
    "  for i, name in enumerate(names):\n",
    "      print(i, name)\n",
    "  ```\n",
    "\n",
    "- Iterating multiple lists together: use `zip`:\n",
    "  ```python\n",
    "  for a, b in zip(list1, list2):\n",
    "      # a from list1, b from list2\n",
    "  ```\n",
    "\n",
    "- Building lists with a loop + append (explicit) vs list comprehensions (concise):\n",
    "  ```python\n",
    "  squares = []\n",
    "  for x in range(6):\n",
    "      squares.append(x*x)\n",
    "\n",
    "  # same result with comprehension\n",
    "  squares = [x*x for x in range(6)]\n",
    "  ```\n",
    "\n",
    "**Safe patterns and pitfalls**\n",
    "- Don’t modify a list (remove/insert) while iterating over it. \n",
    "- Prefer built-ins (`max`, `min`, `sum`, `sorted`) when possible for clarity and speed.\n"
   ]
  },
  {
   "cell_type": "markdown",
   "id": "04893821",
   "metadata": {},
   "source": [
    "# If statements (aka conditional statements)"
   ]
  },
  {
   "cell_type": "markdown",
   "id": "8310826b",
   "metadata": {},
   "source": [
    "\n",
    "```python\n",
    "if condition1:\n",
    "    # runs if condition1 is true\n",
    "elif condition2:\n",
    "    # runs if condition1 is false AND condition2 is true\n",
    "elif condition3:\n",
    "    # runs if condition1 is false AND condition2 is false AND condition3 is true\n",
    "else:\n",
    "    # runs if none of the above conditions are true\n",
    "```\n",
    "\n",
    "\n",
    "- Syntax:\n",
    "  - if condition:\n",
    "      indented block runs when condition is True\n",
    "  - elif (else if) and else provide additional branches\n",
    "- Conditions must evaluate to a boolean (True/False). Use comparison operators: `==`, `!=`, `<`, `<=`, `>`, `>=`.\n",
    "- Logical operators: `and`, `or`, `not`.\n",
    "- Indentation defines the controlled block — be consistent (4 spaces is typical).\n",
    "- Values like `0`, `0.0`, `\"\"` (empty string), `[]`, `None`, and `False` evaluate as False in conditions.\n",
    "- Floating-point equality: avoid direct `==` for floats. Use a tolerance with `abs(a - b) < tol`.\n",
    "\n",
    "The cells below give some examples of conditional syntax"
   ]
  },
  {
   "cell_type": "code",
   "execution_count": null,
   "id": "ce679e49",
   "metadata": {},
   "outputs": [],
   "source": [
    "# Example 1: simple if / elif / else\n",
    "x = 5\n",
    "if x > 10:\n",
    "    print(\"x is greater than 10\")\n",
    "elif x > 3:\n",
    "    print(\"x is greater than 3 but not greater than 10\")\n",
    "else:\n",
    "    print(\"x is 3 or less\")\n",
    "\n",
    "# This line always runs (not part of the conditional block)\n",
    "print(\"Done with Example 1\")"
   ]
  },
  {
   "cell_type": "code",
   "execution_count": null,
   "id": "bb42eab1",
   "metadata": {},
   "outputs": [],
   "source": [
    "# Example 2: floating-point comparison using a tolerance\n",
    "z = 0.1 + 0.2\n",
    "print(\"z ->\", z)\n",
    "if abs(z - 0.3) < 1e-9:\n",
    "    print(\"z is approximately 0.3 (within tolerance)\")\n",
    "else:\n",
    "    print(f\"z is NOT exactly 0.3 (difference = {z - 0.3})\")"
   ]
  },
  {
   "cell_type": "code",
   "execution_count": null,
   "id": "12e3e045",
   "metadata": {},
   "outputs": [],
   "source": [
    "# Example 3: logical operators and nested conditionals\n",
    "score = 85\n",
    "if score >= 90:\n",
    "    grade = 'A'\n",
    "elif score >= 80:\n",
    "    grade = 'B'\n",
    "else:\n",
    "    grade = 'C'\n",
    "print(f\"Score {score} => grade {grade}\")\n",
    "\n",
    "# Logical operators\n",
    "a = True\n",
    "b = False\n",
    "if a and not b:\n",
    "    print('a is True and b is False')\n",
    "\n",
    "# Interpreting non-Boolean variables as Booleans example\n",
    "items = []\n",
    "if items:\n",
    "    print('list is non-empty')\n",
    "else:\n",
    "    print('list is empty (falsy)')"
   ]
  },
  {
   "cell_type": "markdown",
   "id": "f83efd97",
   "metadata": {},
   "source": [
    "# Today's new material\n",
    "\n",
    "Lists, loops and conditionals are going to be our bread and butter for putting programs together. It will take a few iterations for you to get truly comfortable with them, so the next few lectures will give you an opportunity to use them over and over again and build up some muscle memory. Today we are going to learn how to make plots of data. Data usually comes as a list of data points, and we will clean up and process data by looping over it and performing actions on it.\n",
    "\n",
    "First, we will need to introduce the basics of plotting, before we can do some hands on data processing."
   ]
  },
  {
   "cell_type": "markdown",
   "id": "2f67b777",
   "metadata": {},
   "source": [
    "## Importing libraries to get access to new sets of functions\n",
    "\n",
    "So far we have only used the built in functions that come in the vanilla Python. There are massive numbers of additional modules or libraries that let you do new things. These can range from standard ones like the `math` library, which gives you access to standard mathematical functions, to specialized ones like `torch` to use PyTorch for AI. You can even make your own to bundle up code and easily share with others. The following syntax is all you need to load a module that's already installed on your machine.\n",
    "\n",
    "- `import math`\n",
    "  - loads the module; use names with the module prefix: `math.sin(x)`, `math.pi`.\n",
    "- `import math as m`\n",
    "  - creates an alias (`m`) so you can write `m.sin(x)` (shorter name).\n",
    "- `from math import sin, pi`\n",
    "  - imports specific names directly so you can call `sin(x)` and `pi` without a prefix."
   ]
  },
  {
   "cell_type": "markdown",
   "id": "06e560a4",
   "metadata": {},
   "source": [
    "**Examples:**"
   ]
  },
  {
   "cell_type": "markdown",
   "id": "ac402493",
   "metadata": {},
   "source": [
    "(1) Use `import math` to load the whole module and call names with the module prefix."
   ]
  },
  {
   "cell_type": "code",
   "execution_count": null,
   "id": "9876d08d",
   "metadata": {},
   "outputs": [],
   "source": [
    "import math\n",
    "# use with module prefix\n",
    "x = math.sin(math.pi / 4)\n",
    "print(\"Example 1: import math -> sin(pi/4) = \" + str(x))"
   ]
  },
  {
   "cell_type": "markdown",
   "id": "537bb086",
   "metadata": {},
   "source": [
    "(2) Use `import math as m` to create a short alias for convenience. Be careful with this one, you want to pick an alias which is quick to type but still readable. Some libraries have idiomatic aliases - `m` is actually a pretty terrible name (is it short for math or is it short for Massachusetts?) but it is one that everybody uses. Others include `np` for numpy, `sp` for scipy, `tf` for tensorflow, `pd` for pandas."
   ]
  },
  {
   "cell_type": "code",
   "execution_count": null,
   "id": "84584fa9",
   "metadata": {},
   "outputs": [],
   "source": [
    "import math as m\n",
    "# use the alias `m` as a short name for the module\n",
    "x = m.sin(m.pi / 4)\n",
    "print(\"Example 2: import math as m -> sin(pi/4) = \" +str(x))"
   ]
  },
  {
   "cell_type": "markdown",
   "id": "5d0b2b32",
   "metadata": {},
   "source": [
    "(3) Use `from math import sin, pi` to bring selected names directly into the namespace. Be careful with this one, because you may end up *overloading* if two libraries use the same name."
   ]
  },
  {
   "cell_type": "code",
   "execution_count": null,
   "id": "11d09beb",
   "metadata": {},
   "outputs": [],
   "source": [
    "from math import sin, pi\n",
    "# call names directly without a module prefix\n",
    "x = sin(pi / 4)\n",
    "print(\"Example 3: from math import sin, pi -> sin(pi/4) = \" + str(x))"
   ]
  },
  {
   "cell_type": "markdown",
   "id": "e70970b0",
   "metadata": {},
   "source": [
    "## Generating plots with Matplotlib — basics and examples\n",
    "\n",
    "We're going to use a couple modules to make plots of numerical data. Matplotlib is a library with useful functions for generating plots, and numpy is a library with tools for numeric computation, like sampling random numbers and providing mathematical functions.\n",
    "\n",
    "1. Import the plotting API: `import matplotlib.pyplot as plt` (conventionally aliased to `plt`).\n",
    "2. Prepare your data as lists or NumPy arrays (e.g., `x = [0, 0.1, ...]`, `y = [...]`).\n",
    "3. Create a figure and axes, draw your data (`plt.plot`, `plt.scatter`, etc.).\n",
    "4. Label axes, add a title and legend, and call `plt.show()` to display the figure.\n",
    "5. Optionally save the figure with `plt.savefig('Images/yourfile.png')`.\n",
    "\n",
    "Common functions you will use:\n",
    "- `plt.figure(figsize=(w,h))` — create a new figure with a given size (in inches).\n",
    "- `plt.plot(x, y, marker='o', linestyle='-', color='tab:blue', label='label')` — simple line plot.\n",
    "- `plt.scatter(x, y, c='r', s=20)` — scatter plot.\n",
    "- `plt.xlabel(...)`, `plt.ylabel(...)`, `plt.title(...)`, `plt.legend()`, `plt.grid()` — annotate the plot.\n",
    "- `plt.savefig(path, dpi=150, bbox_inches='tight')` — save to file.\n",
    "- `plt.show()` — render inline in the notebook.\n",
    "\n",
    "So far we have only used functions that take a single argument. In future classes we'll learn all of the details regarding more advanced properties for functions. For now we're going to \"play by ear\" and I'll step you through how to tweak these examples to make plots.\n",
    "\n",
    "Later in the course we will have an advanced plotting lecture. The curation of data into intuitive visualizations is an incredibly important professional tool, but we will hold off on that until we have a better handle of Python fundamentals."
   ]
  },
  {
   "cell_type": "markdown",
   "id": "75eed19d",
   "metadata": {},
   "source": [
    "### Example 1 — Simple line plot\n",
    "Create x and y lists, plot them with markers and a line, label the axes, and save the image to `Images/lec04_line.png`."
   ]
  },
  {
   "cell_type": "code",
   "execution_count": null,
   "id": "fbef129f",
   "metadata": {},
   "outputs": [],
   "source": [
    "import math\n",
    "import numpy as np\n",
    "import matplotlib.pyplot as plt\n",
    "\n",
    "# Create data\n",
    "x = [i * 0.1 for i in range(0, 31)]            # 0.0 .. 3.0\n",
    "y = [2.0 * xi for xi in x]                     # simple linear relation\n",
    "\n",
    "# Plot\n",
    "plt.figure(figsize=(7,4))\n",
    "plt.plot(x, y, marker='o', linestyle='-', color='tab:blue', label='linear model')\n",
    "plt.xlabel('X axis label')\n",
    "plt.ylabel('Y axis label')\n",
    "plt.title('Example 1 — Line plot')\n",
    "plt.grid(alpha=0.3) # alpha sets the transparency of the grid lines\n",
    "plt.legend()\n",
    "plt.savefig('Images/lec04_line.png', dpi=150, bbox_inches='tight') #dpi and bbox set the resolution and trim whitespace to look nice\n",
    "plt.show()"
   ]
  },
  {
   "cell_type": "markdown",
   "id": "a07419fe",
   "metadata": {},
   "source": [
    "**Notes:**\n",
    "- This code uses *list comprehension* to compactly define `x` and `y` in a single line of code.\n",
    "- Try experimenting with different markers, linestyles, and colors\n",
    "\n",
    "  - Markers (point style):\n",
    "    - 'o' : circle\n",
    "    - 's' : square\n",
    "    - '^' : triangle_up\n",
    "    - 'v' : triangle_down\n",
    "    - '<' , '>' : triangle left / right\n",
    "    - 'd' : diamond\n",
    "    - 'D' : thin diamond\n",
    "    - 'x' : x marker\n",
    "    - '+' : plus marker\n",
    "    - 'p' : pentagon\n",
    "    - '.' : point\n",
    "    - ',' : pixel\n",
    "\n",
    "  - Linestyles:\n",
    "    - '-'  : solid line\n",
    "    - '--' : dashed line\n",
    "    - '-.' : dash-dot line\n",
    "    - ':'  : dotted line\n",
    "    - 'None' or '' : no connecting line (use markers only)\n",
    "\n",
    "  - Colors:\n",
    "    - Short single-letter: 'r','g','b','c','m','y','k','w'\n",
    "    - Named colors: 'red', 'blue', 'green', 'orange', 'purple', 'black', 'gray'\n",
    "    - Tab color cycle: 'tab:blue', 'tab:orange', 'tab:green', 'tab:red', 'tab:purple', 'tab:brown', 'tab:pink', 'tab:gray'\n",
    "    - Hex colors: '#1f77b4' (or any '#RRGGBB' value)\n",
    "\n",
    "- Try adding a `#` to the front of the plt.grid function to comment it out. What happens?"
   ]
  },
  {
   "cell_type": "markdown",
   "id": "99dfb6ad",
   "metadata": {},
   "source": [
    "### Example 2 — Scatter plot\n",
    "Plot discrete measurements as a scatter, add a small random jitter to make overlapping points visible, save to `Images/lec04_scatter.png`.\n"
   ]
  },
  {
   "cell_type": "code",
   "execution_count": null,
   "id": "5ad908a1",
   "metadata": {},
   "outputs": [],
   "source": [
    "import random\n",
    "import matplotlib.pyplot as plt\n",
    "\n",
    "# Simulated measured points (with small jitter)\n",
    "x = [0.1 * i for i in range(1, 21)]\n",
    "y = [1.5 * xi + random.uniform(-0.5, 0.5) for xi in x] # this adds a little bit of noise randomly chosen between -0.5 and 0.5\n",
    "\n",
    "plt.figure(figsize=(7,4))\n",
    "plt.scatter(x, y, c='tab:orange', s=40, alpha=0.8)\n",
    "plt.xlabel('X axis')\n",
    "plt.ylabel('Y axis')\n",
    "plt.title('Example 2 — Scatter plot (measurements)')\n",
    "plt.grid(alpha=0.3)\n",
    "plt.savefig('Images/lec04_scatter.png', dpi=150, bbox_inches='tight')\n",
    "plt.show()"
   ]
  },
  {
   "cell_type": "markdown",
   "id": "cf78a81e",
   "metadata": {},
   "source": [
    "### Example 3 — Overlay multiple plots\n",
    "Plot several curves on the same axes (different colors and labels) to compare results. Save to `Images/lec04_overlay.png`."
   ]
  },
  {
   "cell_type": "code",
   "execution_count": null,
   "id": "ddafab02",
   "metadata": {},
   "outputs": [],
   "source": [
    "import math\n",
    "import matplotlib.pyplot as plt\n",
    "\n",
    "# Build x as a list of 80 evenly spaced points between 0 and 4 \n",
    "x = [i * 4.0 / 79 for i in range(80)]\n",
    "\n",
    "# Compute y-series using math.sin and list comprehensions\n",
    "y1 = [math.sin(xi) for xi in x]\n",
    "y2 = [1.2 * math.sin(xi) for xi in x]\n",
    "y3 = [math.sin(xi + 0.5) for xi in x]\n",
    "\n",
    "plt.figure(figsize=(8,4.5))\n",
    "plt.plot(x, y1, label='sin(x)', lw=2)\n",
    "plt.plot(x, y2, label='1.2*sin(x)', lw=2, linestyle='--')\n",
    "plt.plot(x, y3, label='sin(x+0.5)', lw=2, linestyle=':')\n",
    "plt.xlabel('x')\n",
    "plt.ylabel('value')\n",
    "plt.title('Example 3 — Overlaying multiple curves')\n",
    "plt.legend()\n",
    "plt.grid(alpha=0.25)\n",
    "plt.savefig('Images/lec04_overlay.png', dpi=150, bbox_inches='tight')\n",
    "plt.show()"
   ]
  },
  {
   "cell_type": "markdown",
   "id": "21d7c96a",
   "metadata": {},
   "source": [
    "### Example 4 — Multiple plots side-by-side (subplots)\n",
    "Use `plt.subplots` to create several plots in one figure. This example places three small plots next to each other and saves the result to `Images/lec04_subplots.png`.\n",
    "\n",
    "This example is likely to be a little advanced, but I'm including it here in case you need an example of how to do this in the future."
   ]
  },
  {
   "cell_type": "code",
   "execution_count": null,
   "id": "5785f6b4",
   "metadata": {},
   "outputs": [],
   "source": [
    "import numpy as np\n",
    "import matplotlib.pyplot as plt\n",
    "\n",
    "x = np.linspace(0, 10, 200)\n",
    "fig, axes = plt.subplots(1, 3, figsize=(12,4))\n",
    "\n",
    "# left: line\n",
    "axes[0].plot(x, np.sin(x), color='tab:blue')\n",
    "axes[0].set_title('sin(x)')\n",
    "axes[0].grid(alpha=0.2)\n",
    "\n",
    "# middle: scatter of noisy samples\n",
    "y = np.sin(x) + 0.2 * np.random.randn(len(x))\n",
    "axes[1].scatter(x[::8], y[::8], s=20, color='tab:orange')\n",
    "axes[1].set_title('sampled noisy')\n",
    "axes[1].grid(alpha=0.2)\n",
    "\n",
    "# right: histogram of sampled amplitudes\n",
    "axes[2].hist(y, bins=25, color='tab:green', alpha=0.7)\n",
    "axes[2].set_title('amplitude histogram')\n",
    "axes[2].grid(alpha=0.2)\n",
    "\n",
    "fig.suptitle('Example 4 — Multiple subplots')\n",
    "plt.tight_layout(rect=[0, 0.03, 1, 0.95])\n",
    "fig.savefig('Images/lec04_subplots.png', dpi=150, bbox_inches='tight')\n",
    "plt.show()"
   ]
  },
  {
   "cell_type": "markdown",
   "id": "909f0a7b",
   "metadata": {},
   "source": [
    "# Today's problem: NIST data\n",
    "**Attribution:** material taken from [here](https://www.uwyo.edu/mechanical/_files/docs/meref/example-long-report.pdf).\n",
    "\n",
    "**Data Source:** “Data for Numisheet 2020 uniaxial tensile and tension/compression tests,” National Institute of Standards and Technology, retrieved from Data.gov. Further details and methodology described in Rust, E., Luecke, W. E., & Iadicola, M. A. (2020). 2020 Numisheet benchmark study uniaxial tensile tests summary. DOI: 10.18434/M32202.\n",
    "\n",
    "When people characterize the mechanical response of a material, they perform what's called a *uniaxial tension* experiment. A \"dogbone\" shape piece of material is attached between two fixtures which pull the material apart, and the force required to hold the material in place is recorded. "
   ]
  },
  {
   "cell_type": "markdown",
   "id": "c42cf424",
   "metadata": {},
   "source": [
    "<div style=\"text-align:center\"> <img src=\"Images/lec04_dogbone.png\" width=\"700\" alt=\"lec04 plot\"> </div>"
   ]
  },
  {
   "cell_type": "markdown",
   "id": "e78b9a10",
   "metadata": {},
   "source": [
    "The material response is split up into three regimes:\n",
    "- *Elastic deformation:* For small displacements, there is a linear and reversible response from the material\n",
    "- *Plastic deformation:* When the stress exceeds a critical \"yield stress\" the material switches to a nonlinear, irreversible deformation\n",
    "- *Fracture:* After reaching the \"ultimate tensile strength\" the material fractures and can no longer sustain a load\n",
    "\n",
    "<div style=\"text-align:center\"> <img src=\"Images/lec04_forcedisp.png\" width=\"700\" alt=\"lec04 plot\"> </div>"
   ]
  },
  {
   "cell_type": "markdown",
   "id": "9d2ca7a4",
   "metadata": {},
   "source": [
    "The National Institute of Standards and Technology (NIST) is a U.S. federal agency within the Department of Commerce that develops and maintains measurement standards, calibration methods, and reference data. Its mission is to promote innovation and industrial competitiveness by advancing measurement science, standards, and technology. \n",
    "\n",
    "As part of their job, they do a lot of work testing materials, performing experiments, like the one we just described, which allow engineers to understand how a given structural loading will map onto a given design. By understanding how one of these \"dogbones\" deform, they give material parameters like the yield strength or ultimate tensile strength which we can use to design more complex geometries.\n",
    "\n",
    "Today, we are going to use one of these datasets to practice manipulating lists, using for loops and conditionals, and generating plots of the data. The code block below will grab the data files from the internet. Don't worry too much about the details - I've explained what different pieces of the code do, but if you run it you will now have a `curves` variable stored which contains force/displacement curves from three different NIST experiments."
   ]
  },
  {
   "cell_type": "code",
   "execution_count": null,
   "id": "7f8e48af",
   "metadata": {},
   "outputs": [],
   "source": [
    "# We need some libraries to handle CSV files (the file format NIST used to store their data) and to download files from the internet\n",
    "import csv\n",
    "import urllib.request\n",
    "\n",
    "# NIST CSVs for the same material: AA6xxx-T81 sheet (three different orientations/repeats)\n",
    "urls = [\n",
    "    \"https://data.nist.gov/od/ds/ark:/88434/mds2-2202/UniaxialTension/Al6xxx-T81/U15Al6XXX-T81_BatchB13R01T2.6921W12.71.csv\",\n",
    "    \"https://data.nist.gov/od/ds/ark:/88434/mds2-2202/UniaxialTension/Al6xxx-T81/U30Al6XXX-T81_BatchB8R01T2.693W12.66.csv\",\n",
    "    \"https://data.nist.gov/od/ds/ark:/88434/mds2-2202/UniaxialTension/Al6xxx-T81/U90Al6XXX-T81_BatchB5R03T2.684W12.68.csv\",\n",
    "]\n",
    "\n",
    "# curves will be a list where each element is a list of [displacement_mm, force_kN] pairs\n",
    "curves = []\n",
    "\n",
    "# Loop over each URL, download the file, read the data, and store it in curves\n",
    "for url in urls:\n",
    "    local_name = url.split(\"/\")[-1]\n",
    "    urllib.request.urlretrieve(url, local_name)  # download the file to the current directory\n",
    "\n",
    "    # Read in the CSV file, appending each [displacement, force] pair as a new entry in the list\n",
    "    data = []\n",
    "    with open(local_name, newline=\"\") as f:\n",
    "        reader = csv.DictReader(f)\n",
    "        for row in reader:\n",
    "            # Columns per NIST spec: \"Displacement_(mm)\" and \"Force_(kN)\"\n",
    "            d = float(row[\"Displacement_(mm)\"])\n",
    "            F = float(row[\"Force_(kN)\"])\n",
    "            data.append([d, F])\n",
    "    curves.append(data)\n",
    "\n",
    "# Curvess is now a list of lists: 3 lists for each experiment, each containing [displacement, force] pairs\n",
    "print(len(curves), \"curves loaded\")\n",
    "print(\"First 5 [displacement_mm, force_kN] points of curve 1:\", curves[0][:5])\n"
   ]
  },
  {
   "cell_type": "markdown",
   "id": "0d84d8c6",
   "metadata": {},
   "source": [
    "<div style=\"text-align:center\"> <img src=\"Images/lec04_rawplot.png\" width=\"700\" alt=\"lec04 plot\"> </div>"
   ]
  },
  {
   "cell_type": "markdown",
   "id": "51d34fcb",
   "metadata": {},
   "source": [
    "# Exercises"
   ]
  },
  {
   "cell_type": "markdown",
   "id": "fa7bb522",
   "metadata": {},
   "source": [
    "**Exercise 1:**\n",
    "\n",
    "Take the list of lists `curves` and store them in new variables: `curve1`, `curve2` and `curve3`. To do this, you will want to use square brackets. Recall that you can pull out an element of a list as follows.\n",
    "\n",
    "```python\n",
    "myList = [3, 5, 6]\n",
    "print(myList[2])     # prints 6\n",
    "print(len(myList))   # prints the length of myList -> 3\n",
    "```\n",
    "\n",
    "Use print statements to check what you've pulled out. If you print `len(curves)` you should get 3 experiments. If you print `len(curve1)` you should get the number of force/displacement pairs in the dataset (1093). If you print `len(curve1[0])`, you should get the number of numbers in a force/displacement pair (2). Using `print` in this way is how you can check your work and make sure you are pulling things out in the right way."
   ]
  },
  {
   "cell_type": "code",
   "execution_count": null,
   "id": "87d9c945",
   "metadata": {},
   "outputs": [],
   "source": [
    "# Your code here"
   ]
  },
  {
   "cell_type": "markdown",
   "id": "957357bc",
   "metadata": {},
   "source": [
    "**Exercise 2:** To get a sense of the raw data, we will plot it to understand what it looks like. In Exercise 3 above, we showed how to generate a plot of three different lists overlaid on top of each other. Copy that code into the block below, and change the definitions of `y1`, `y2` and `y3` to point to `curve1`, `curve2` and `curve3` instead. Modify the axes labels and legends to make this make sense for the current dataset.\n",
    "\n",
    "*Note:* This kind of copy and pasting is how you will do most assignments in this class. You can always take code snippets from the examples and cobble them together as a starting point for code."
   ]
  },
  {
   "cell_type": "code",
   "execution_count": null,
   "id": "42da0d70",
   "metadata": {},
   "outputs": [],
   "source": [
    "# Your code here"
   ]
  },
  {
   "cell_type": "markdown",
   "id": "2b270aa0",
   "metadata": {},
   "source": [
    "**Exercise 3:** From your plot, you should see that all of the curves don't line up. The displacement for the first is around -22.5, while the other two start at -25. This is because from experiment to experiment, the machine may have a slightly different offset when the samples are loaded into the machine. We will clean up our data by instead plotting by the *relative displacement*, \n",
    "\n",
    "$$\n",
    "x_{\\mathrm{rel},i} = x_{\\mathrm{abs},i} - x_{\\mathrm{abs},0}\n",
    "$$\n",
    "that is, we subtract the first entry of the list from every entry to instead work with the relative difference from the starting point.\n",
    "\n",
    "To do this, we will generate **three new lists** called `cleanedCurve1`,`cleanedCurve2`, and `cleanedCurve3`. \n",
    "- Generate three empty lists (e.g. `cleanedCurve1 = []`)\n",
    "- Store the first entry of each list (e.g. `firstEntry1 = curve1[0]`)\n",
    "- Use a for loop to loop over each entry (e.g. \n",
    " ```python\n",
    "for currentEntry in curve1:\n",
    "    print(currentEntry) # this is a placeholder for what you want to do to currentEntry\n",
    "```\n",
    "- Evaluate the shifted displacement for this entry (e.g. `newDisplacement = currentEntry[0] - firstEntry1[0] `)\n",
    "- Make a new list consisting of the (relative displacement/force) pair (e.g. `newEntry = [newDisplacement,currentEntry[1]`])\n",
    "- Add the new entry to the list using append (e.g. `cleanedCurve1.append(newEntry)`)\n",
    "\n",
    "You should do this three times to build up each of `cleanedCurve1`,`cleanedCurve2`, and `cleanedCurve3`. You could either do this by copy and pasting your code three times with an appropriate modification, or you can do it a clever way with a `for` loop. "
   ]
  },
  {
   "cell_type": "code",
   "execution_count": null,
   "id": "e5e68cba",
   "metadata": {},
   "outputs": [],
   "source": [
    "# Your code here"
   ]
  },
  {
   "cell_type": "markdown",
   "id": "82791eda",
   "metadata": {},
   "source": [
    "**Exercise 4:** Repeat Exercise 2 but with the cleaned up data. You can do this quickly by copy and pasting your code from Exercise 2 and swapping out the cleaned curves for the plotting variables. \n",
    "\n",
    "*Note:* If you had any mistakes in the last exercise you will see it here. A good practice for writing code is to constantly perform little checks like this to make sure things are working correctly."
   ]
  },
  {
   "cell_type": "code",
   "execution_count": null,
   "id": "4058208a",
   "metadata": {},
   "outputs": [],
   "source": [
    "# Your code here"
   ]
  },
  {
   "cell_type": "markdown",
   "id": "5a0cbf37",
   "metadata": {},
   "source": [
    "**Exercise 5:** Now, we are going to take a look at `cleanedCurve1` only, and generate a nice plot to help visualize the elastic, plastic, and fracture parts. To do this, you can use *index slicing* (described below). \n",
    "- Split `cleanedCurve1` into three smaller lists `elasticPart`, `plasticPart`, and `fracturePart`\n",
    "- Plot all three on the same curve\n",
    "- Use the legend labels to indicate which part is which\n",
    "- Don't worry about the precise boundary for each one - I just want to see a plot with three different colors in roughly the right spot. \n",
    "\n",
    "*Index slicing* allows you to extract a portion (sublist) of a list or array using the syntax `myList[start:stop]`. The slice includes elements from the `start` index up to, but not including, the `stop` index.\n",
    "\n",
    "*Examples:*\n",
    "- `myList[2:5]` returns elements at indices 2, 3, and 4.\n",
    "- `myList[:3]` returns the first three elements (indices 0, 1, 2).\n",
    "- `myList[5:]` returns all elements from index 5 to the end.\n",
    "- `myList[-3:]` returns the last three elements.\n",
    "\n",
    "You can also use a third argument for step size: `myList[start:stop:step]`."
   ]
  },
  {
   "cell_type": "code",
   "execution_count": null,
   "id": "cf292ad3",
   "metadata": {},
   "outputs": [],
   "source": [
    "# Your code here"
   ]
  },
  {
   "cell_type": "markdown",
   "id": "f1edb9a3",
   "metadata": {},
   "source": [
    "**Exercise 6:** Make a new list which is the average of the other three. Generate a new plot overlaying the mean on top of the other three. You can modify the line width (`lw`) by modifying `plt.plot` as follows.\n",
    "\n",
    "```python\n",
    "plt.plot(x, y1, lw=1, label='thin')\n",
    "plt.plot(x, y2, lw=4, label='thick')   # change width for this line\n",
    "plt.legend()\n",
    "```"
   ]
  },
  {
   "cell_type": "code",
   "execution_count": null,
   "id": "4ed31fb7",
   "metadata": {},
   "outputs": [],
   "source": [
    "# Your code here"
   ]
  },
  {
   "cell_type": "markdown",
   "id": "d7ef2e4c",
   "metadata": {},
   "source": [
    "# Submit today's work #\n",
    "Today's assignment will be submitted in groups of two. As always, add yourself to a group in Canvas, have one group member submit, and **each group member is responsible** for confirming their assignment was submitted.\n",
    "\n",
    "1. Run any blocks of code so that the notebook contains the output of your code.\n",
    "2. Save your notebook (File > Save or Ctrl+S).\n",
    "3. Download your notebook as an `.ipynb` file:\n",
    "   - In Colab: File > Download > Download .ipynb\n",
    "   - In Jupyter: File > Download as > Notebook (.ipynb)\n",
    "4. Go to the [Canvas assignment page](https://canvas.upenn.edu/courses/1881448/assignments/13942478) for this lecture.\n",
    "5. Upload your `.ipynb` file and submit.\n",
    "6. Double-check that your file uploaded correctly and is not empty.\n",
    "\n",
    "While we're still learning the ropes, you **should not be using AI**. Discussion with your neighbors is welcome. Attribute any external resources you used here to comply with Penn's academic integrity policy."
   ]
  },
  {
   "cell_type": "markdown",
   "id": "b5d0b277",
   "metadata": {},
   "source": []
  }
 ],
 "metadata": {
  "kernelspec": {
   "display_name": "base",
   "language": "python",
   "name": "python3"
  },
  "language_info": {
   "codemirror_mode": {
    "name": "ipython",
    "version": 3
   },
   "file_extension": ".py",
   "mimetype": "text/x-python",
   "name": "python",
   "nbconvert_exporter": "python",
   "pygments_lexer": "ipython3",
   "version": "3.12.7"
  }
 },
 "nbformat": 4,
 "nbformat_minor": 5
}
