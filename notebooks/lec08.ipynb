{
  "cells": [
    {
      "cell_type": "markdown",
      "id": "e1defda3",
      "metadata": {
        "id": "e1defda3"
      },
      "source": [
        "# Lecture 8: Review and prep for lab\n",
        "[![Open In Colab](https://colab.research.google.com/assets/colab-badge.svg)](https://colab.research.google.com/github/PIMILab/ENGR1050/blob/main/notebooks/lec08.ipynb)\n"
      ]
    },
    {
      "cell_type": "markdown",
      "id": "256e4b37",
      "metadata": {
        "id": "256e4b37"
      },
      "source": [
        "## To get started\n",
        "\n",
        "Run the block of code to generate a subdirectory where you can store data."
      ]
    },
    {
      "cell_type": "code",
      "execution_count": null,
      "id": "5ba11abb",
      "metadata": {
        "id": "5ba11abb"
      },
      "outputs": [],
      "source": [
        "import os\n",
        "# Ensure a small data folder to store downloaded data\n",
        "os.makedirs('Data', exist_ok=True)\n",
        "print('Data/ directory ensured')"
      ]
    },
    {
      "cell_type": "markdown",
      "id": "eaa15059",
      "metadata": {
        "id": "eaa15059"
      },
      "source": [
        "# Overview for today"
      ]
    },
    {
      "cell_type": "markdown",
      "id": "be995f5c",
      "metadata": {
        "id": "be995f5c"
      },
      "source": [
        "In the last class survey, folks felt like the material was going too quickly. I wanted to make sure that everyone feels like they've got their feet under them before we move to the next unit, so **I pushed the exam back a week to Wed Oct. 1st**. Today I will lead some exercises giving some practice on how to design functions and classes, and then I'll step through some material to prepare for our **first lab Wed Sept 24th**.\n",
        "\n",
        "From the surveys, a large contingent of those who were feeling behind have not been to office hours. We strongly recommend you come to office hours. I also suggest you get more practice using the links below.\n",
        "\n",
        "| Platform | Link | Key Features | Notes |\n",
        "|----------|------|--------------|--------------------|\n",
        "| **FutureCoder** | [futurecoder.io](https://futurecoder.io) | Fully interactive, step-by-step lessons with debugging tools, error explanations, and exercises. | Excellent for complete beginners; focuses on learning by doing. |\n",
        "| **LearnPython.org** | [learnpython.org](https://www.learnpython.org) | Interactive tutorials covering Python basics (variables, loops, functions, data structures). | More comprehensive, including more features than we covered in class.|"
      ]
    },
    {
      "cell_type": "markdown",
      "id": "f000af01",
      "metadata": {
        "id": "f000af01"
      },
      "source": [
        "# Last time: Classes"
      ]
    },
    {
      "cell_type": "markdown",
      "id": "c3caae83",
      "metadata": {
        "id": "c3caae83"
      },
      "source": [
        "I'm including here some code for the three types of classes we discussed last time that will be easy to copy and paste. For the exercises, you can use these to get started whenever you need a class."
      ]
    },
    {
      "cell_type": "code",
      "execution_count": 3,
      "id": "14086a93",
      "metadata": {
        "id": "14086a93"
      },
      "outputs": [],
      "source": [
        "class baseClass:\n",
        "    '''A simple base class with a name and a value that can be incremented.'''\n",
        "    def __init__(self, name):\n",
        "        self.name = name\n",
        "        self.value = 0\n",
        "\n",
        "    def increment(self):\n",
        "        self.value += 1\n",
        "\n",
        "    def display(self):\n",
        "        return f\"Name: {self.name}, Value: {self.value}\""
      ]
    },
    {
      "cell_type": "code",
      "execution_count": 4,
      "id": "e4741f02",
      "metadata": {
        "id": "e4741f02"
      },
      "outputs": [],
      "source": [
        "class derivedClass(baseClass):\n",
        "    '''A derived class that extends baseClass with an extra attribute and a modified display method.'''\n",
        "    def __init__(self, name, extra):\n",
        "        super().__init__(name) #super goes back to base class\n",
        "        self.extra = extra\n",
        "\n",
        "    def display(self):\n",
        "        return f\"Name: {self.name}, Value: {self.value}, Extra: {self.extra}\"\n"
      ]
    },
    {
      "cell_type": "code",
      "execution_count": 5,
      "id": "f6a331a8",
      "metadata": {
        "colab": {
          "base_uri": "https://localhost:8080/"
        },
        "id": "f6a331a8",
        "outputId": "3d983d31-1fe9-4e1a-e9fd-55d4d290b058"
      },
      "outputs": [
        {
          "output_type": "stream",
          "name": "stdout",
          "text": [
            "Name: classesName, Value: 0\n",
            "Name: classesName, Value: 1\n",
            "Name: derivedName, Value: 0, Extra: extraInfo\n"
          ]
        }
      ],
      "source": [
        "myclass1 = baseClass(\"classesName\")\n",
        "myclass2 = derivedClass(\"derivedName\", \"extraInfo\")\n",
        "print(myclass1.display())\n",
        "myclass1.increment()\n",
        "print(myclass1.display())\n",
        "print(myclass2.display())\n"
      ]
    },
    {
      "cell_type": "markdown",
      "id": "a79e64aa",
      "metadata": {
        "id": "a79e64aa"
      },
      "source": [
        "## More exercises with classes"
      ]
    },
    {
      "cell_type": "markdown",
      "id": "9a161060",
      "metadata": {
        "id": "9a161060"
      },
      "source": [
        "1. Implement a counter class, which can be used to keep a running tally. It should have the following functions:\n",
        "    - `increment()` - add one to the running tally\n",
        "    - `decrement()` - subtract one from the running tally\n",
        "    - `reset()` - set the tally to 0\n",
        "    - `value()` - return the current value of the tally"
      ]
    },
    {
      "cell_type": "code",
      "execution_count": null,
      "id": "b127a5a8",
      "metadata": {
        "id": "b127a5a8"
      },
      "outputs": [],
      "source": [
        "# Code from exercise will go here.\n",
        "# running number called tally, 4 functions for it.\n",
        "class CounterClass:\n",
        "  def __init__(self)\n",
        "    self.tally=0\n",
        "  def increment(self):\n",
        "    self.tally+=1\n",
        "  def decrement(self);\n",
        "    self.tally-=1\n",
        ""
      ]
    },
    {
      "cell_type": "markdown",
      "id": "a83e5d34",
      "metadata": {
        "id": "a83e5d34"
      },
      "source": [
        "2. Implement a `Die` class, which will roll a 6-sided die by calling the function `roll()`. We will need the following code for random number generation:\n",
        "```python\n",
        "import random\n",
        "\n",
        "def pick_1_to_4():\n",
        "    \"\"\"Return a random integer from 1 to 4 inclusive.\"\"\"\n",
        "    return random.randint(1, 4)\n",
        "\n",
        "print(pick_1_to_4())\n",
        "```"
      ]
    },
    {
      "cell_type": "code",
      "execution_count": 107,
      "id": "9c699b9f",
      "metadata": {
        "id": "9c699b9f"
      },
      "outputs": [],
      "source": [
        "# Code from exercise will go here. add vars and functions to a class and make it do something or explain what it does.\n",
        "import random\n",
        "class DieClass():\n",
        "  def __init__(self):\n",
        "    self.dievalue=random.randint(1,14)\n",
        "  def roll(self):\n",
        "    self.dievalue=random.randint(1,14)\n",
        "  def read(self):\n",
        "    return self.dievalue"
      ]
    },
    {
      "cell_type": "code",
      "source": [
        "myDie=DieClass()\n",
        "print(myDie.read())\n",
        "myDie.roll()\n",
        "print(myDie.read())"
      ],
      "metadata": {
        "colab": {
          "base_uri": "https://localhost:8080/"
        },
        "id": "tU-sC5lcoYVW",
        "outputId": "365a9507-d712-49d0-c886-b37a78e9892d"
      },
      "id": "tU-sC5lcoYVW",
      "execution_count": 140,
      "outputs": [
        {
          "output_type": "stream",
          "name": "stdout",
          "text": [
            "14\n",
            "3\n"
          ]
        }
      ]
    },
    {
      "cell_type": "markdown",
      "id": "ceb2eba9",
      "metadata": {
        "id": "ceb2eba9"
      },
      "source": [
        "3. Derive a `NsidedDie` class from the `Die` class. It should take the number of sides as an input to the initializer"
      ]
    },
    {
      "cell_type": "code",
      "execution_count": null,
      "id": "66bb925e",
      "metadata": {
        "id": "66bb925e"
      },
      "outputs": [],
      "source": [
        "# Code from exercise will go here.\n",
        "class NsidedDie(DieClass):\n",
        "  def __init__(self,sides):\n",
        "    self.sides = sides"
      ]
    },
    {
      "cell_type": "markdown",
      "id": "b5491687",
      "metadata": {
        "id": "b5491687"
      },
      "source": [
        "# Whack-a-mole"
      ]
    },
    {
      "cell_type": "markdown",
      "id": "cbdf23f6",
      "metadata": {
        "id": "cbdf23f6"
      },
      "source": [
        "In lab we are going to build a whack-a-mole game. To get ready for that we will step through together as a class how to design a similar version of the problem. The code will randomly assign a number 1-4, and then ask the user for a number 1-4. If the numbers are the different, the user will be prompted for another guess. If the guessed correctly, the program will restart.\n",
        "\n",
        "In lab, we will do the same, but using buttons and LEDs to set it up. This exercise will help you understand how to organize the program and set up some useful classes.\n",
        "\n",
        "To organize our code, we will break it into a few pieces\n",
        "- A class called `whackamole`, which tracks the current number and gives functions to help play the game\n",
        "- A while loop that repeats the game.\n",
        "- A class called `userIO` whose job is to collect and process user input that can be handed to the whackamole class\n"
      ]
    },
    {
      "cell_type": "code",
      "execution_count": 152,
      "id": "106ab4f0",
      "metadata": {
        "colab": {
          "base_uri": "https://localhost:8080/",
          "height": 228
        },
        "id": "106ab4f0",
        "outputId": "95f0ac3d-0d79-4fd8-9659-531e2dcf5dd3"
      },
      "outputs": [
        {
          "name": "stdout",
          "output_type": "stream",
          "text": [
            "Type \"exit\" to quit.\n",
            "enter a number 1-4 or type quit to quit:1\n"
          ]
        },
        {
          "output_type": "error",
          "ename": "AttributeError",
          "evalue": "'fileIO' object has no attribute 'string2number'",
          "traceback": [
            "\u001b[0;31m---------------------------------------------------------------------------\u001b[0m",
            "\u001b[0;31mAttributeError\u001b[0m                            Traceback (most recent call last)",
            "\u001b[0;32m/tmp/ipython-input-3919210965.py\u001b[0m in \u001b[0;36m<cell line: 0>\u001b[0;34m()\u001b[0m\n\u001b[1;32m     22\u001b[0m     \u001b[0;32mbreak\u001b[0m\u001b[0;34m\u001b[0m\u001b[0;34m\u001b[0m\u001b[0m\n\u001b[1;32m     23\u001b[0m   \u001b[0;32melse\u001b[0m\u001b[0;34m:\u001b[0m\u001b[0;34m\u001b[0m\u001b[0;34m\u001b[0m\u001b[0m\n\u001b[0;32m---> 24\u001b[0;31m     \u001b[0mwheretohit\u001b[0m \u001b[0;34m=\u001b[0m \u001b[0mmyfilething\u001b[0m\u001b[0;34m.\u001b[0m\u001b[0mstring2number\u001b[0m\u001b[0;34m(\u001b[0m\u001b[0muser_input\u001b[0m\u001b[0;34m)\u001b[0m\u001b[0;34m\u001b[0m\u001b[0;34m\u001b[0m\u001b[0m\n\u001b[0m\u001b[1;32m     25\u001b[0m     \u001b[0mgame\u001b[0m\u001b[0;34m.\u001b[0m\u001b[0mwhack\u001b[0m\u001b[0;34m(\u001b[0m\u001b[0mwheretohit\u001b[0m\u001b[0;34m)\u001b[0m\u001b[0;34m\u001b[0m\u001b[0;34m\u001b[0m\u001b[0m\n",
            "\u001b[0;31mAttributeError\u001b[0m: 'fileIO' object has no attribute 'string2number'"
          ]
        }
      ],
      "source": [
        "# Code from exercise will go here.\n",
        "class Whackamole:\n",
        "  def __init__(self):\n",
        "    self.litupslot = random.randint(1,4)\n",
        "  def whack (self, slotnumber):\n",
        "    if slotnumber == self.litupslot:\n",
        "      print(\"HIT!\")\n",
        "      self.litupslot= random.randint(1,4)\n",
        "\n",
        "class fileIO:\n",
        "  def __init__(self):\n",
        "    self.wheretohit=0\n",
        "    def string2number(self):\n",
        "      return int(self.wheretohit)\n",
        "game=Whackamole()\n",
        "myfilething=fileIO()\n",
        "\n",
        "while True:\n",
        "  print('Type \"exit\" to quit.')\n",
        "  user_input = input(\"enter a number 1-4 or type quit to quit:\")\n",
        "  if user_input.lower() == \"exit\":\n",
        "    break\n",
        "  else:\n",
        "    wheretohit = myfilething.string2number(user_input)\n",
        "    game.whack(wheretohit)\n"
      ]
    },
    {
      "cell_type": "markdown",
      "id": "35fcef5b",
      "metadata": {
        "id": "35fcef5b"
      },
      "source": [
        "# Exercises\n"
      ]
    },
    {
      "cell_type": "markdown",
      "id": "15891ada",
      "metadata": {
        "id": "15891ada"
      },
      "source": [
        "As we've moved through the class, you've seen a range of difficulty in terms of the questions we've solved. Getting fluent in Python is going to take time, and you will reinforce these Python fundamentals over and over for the rest of the semester. The following examples give a sense of the level of difficulty that I'm expecting you're able to handle.\n",
        "- You should be comfortable with basic Python syntax\n",
        "- You should be able to independently write simple programs\n",
        "- You should be able to read a list comprehension and explain what it's doing\n",
        "- If somebody hands you a class you should be able to use it\n",
        "- With guidance, you should be able to define your own functions/classes\n",
        "\n",
        "If you can complete the examples below, you should be in good shape for next weeks exam. You should anticipate questions of a similar difficulty to these."
      ]
    },
    {
      "cell_type": "markdown",
      "id": "31268e5d",
      "metadata": {
        "id": "31268e5d"
      },
      "source": [
        "## Exercises: basic command over python fundamentals"
      ]
    },
    {
      "cell_type": "markdown",
      "id": "542ef5d0",
      "metadata": {
        "id": "542ef5d0"
      },
      "source": [
        "\\1. Write a for loop that prints the numbers 1 through 10"
      ]
    },
    {
      "cell_type": "code",
      "execution_count": 159,
      "id": "d151d901",
      "metadata": {
        "colab": {
          "base_uri": "https://localhost:8080/"
        },
        "id": "d151d901",
        "outputId": "7506a3e4-8483-43fb-f504-b43905f0f1e8"
      },
      "outputs": [
        {
          "output_type": "stream",
          "name": "stdout",
          "text": [
            "1\n",
            "2\n",
            "3\n",
            "4\n",
            "5\n",
            "6\n",
            "7\n",
            "8\n",
            "9\n",
            "10\n"
          ]
        }
      ],
      "source": [
        "# Your code here.\n",
        "\n",
        "for i in range(1,11):\n",
        "    print(i)"
      ]
    },
    {
      "cell_type": "markdown",
      "id": "ca4c39be",
      "metadata": {
        "id": "ca4c39be"
      },
      "source": [
        "2. Write a while loop that does the same thing"
      ]
    },
    {
      "cell_type": "code",
      "execution_count": 162,
      "id": "17e82d4a",
      "metadata": {
        "colab": {
          "base_uri": "https://localhost:8080/"
        },
        "id": "17e82d4a",
        "outputId": "299c8477-ee01-4689-e7cb-4ded269e5a93"
      },
      "outputs": [
        {
          "output_type": "stream",
          "name": "stdout",
          "text": [
            "1\n",
            "2\n",
            "3\n",
            "4\n",
            "5\n",
            "6\n",
            "7\n",
            "8\n",
            "9\n",
            "10\n"
          ]
        }
      ],
      "source": [
        "i=1\n",
        "while i<11:\n",
        "  print(i)\n",
        "  i+=1"
      ]
    },
    {
      "cell_type": "markdown",
      "id": "14c09355",
      "metadata": {
        "id": "14c09355"
      },
      "source": [
        "3. Use a for loop to generate a list of even numbers between 0 and 10 (inclusive)."
      ]
    },
    {
      "cell_type": "code",
      "execution_count": 165,
      "id": "6dc56685",
      "metadata": {
        "colab": {
          "base_uri": "https://localhost:8080/"
        },
        "id": "6dc56685",
        "outputId": "ec6567f8-554a-417f-c11d-0a730b40e606"
      },
      "outputs": [
        {
          "output_type": "stream",
          "name": "stdout",
          "text": [
            "0\n",
            "2\n",
            "4\n",
            "6\n",
            "8\n",
            "10\n"
          ]
        }
      ],
      "source": [
        "for i in range(0,11):\n",
        "  if i%2==0:\n",
        "    print(i)"
      ]
    },
    {
      "cell_type": "markdown",
      "id": "9343bee9",
      "metadata": {
        "id": "9343bee9"
      },
      "source": [
        "4. Given a list, generate a new list that consists of the initial list in reverse order."
      ]
    },
    {
      "cell_type": "code",
      "execution_count": 166,
      "id": "4dae164e",
      "metadata": {
        "colab": {
          "base_uri": "https://localhost:8080/"
        },
        "id": "4dae164e",
        "outputId": "7880f368-2408-435a-f1c9-98195012dc9c"
      },
      "outputs": [
        {
          "output_type": "stream",
          "name": "stdout",
          "text": [
            "['tiger', 'sheep', 'rabbit', 'quail', 'pig', 'octopus', 'newt', 'monkey', 'lemur', 'kangaroo', 'jaguar', 'iguana', 'horse', 'goat', 'fox', 'elephant', 'dog', 'cat', 'bear', 'aardvark']\n"
          ]
        }
      ],
      "source": [
        "initialList = ['aardvark', 'bear', 'cat', 'dog', 'elephant', 'fox', 'goat', 'horse', 'iguana', 'jaguar', 'kangaroo', 'lemur', 'monkey', 'newt', 'octopus', 'pig', 'quail', 'rabbit', 'sheep', 'tiger']\n",
        "\n",
        "newList = sorted(initialList, reverse = True)\n",
        "print(newList)"
      ]
    },
    {
      "cell_type": "markdown",
      "id": "bb45456d",
      "metadata": {
        "id": "bb45456d"
      },
      "source": [
        "5. Use a for loop to sum even numbers between 0 and 50."
      ]
    },
    {
      "cell_type": "code",
      "execution_count": 170,
      "id": "3c0fad55",
      "metadata": {
        "colab": {
          "base_uri": "https://localhost:8080/"
        },
        "id": "3c0fad55",
        "outputId": "b403d4a1-9e8e-4cc8-edba-f3774cf344b2"
      },
      "outputs": [
        {
          "output_type": "stream",
          "name": "stdout",
          "text": [
            "650\n"
          ]
        }
      ],
      "source": [
        "sum=0\n",
        "for i in range (0,51):\n",
        "  if i%2 ==0:\n",
        "    sum+=i\n",
        "print(sum)"
      ]
    },
    {
      "cell_type": "markdown",
      "id": "e7993b2c",
      "metadata": {
        "id": "e7993b2c"
      },
      "source": [
        "6. Write a function that takes two numbers as input and returns their sum\n",
        "\n",
        "*   List item\n",
        "*   List item\n",
        "\n"
      ]
    },
    {
      "cell_type": "code",
      "execution_count": null,
      "id": "496f4f64",
      "metadata": {
        "id": "496f4f64"
      },
      "outputs": [],
      "source": [
        "input1=input(\"input 1:\")\n",
        "input2=input(\"input 2:\")\n",
        "\n"
      ]
    },
    {
      "cell_type": "markdown",
      "id": "0dbca83e",
      "metadata": {
        "id": "0dbca83e"
      },
      "source": [
        "Recall that you can work with strings the same as lists:\n",
        "```python\n",
        "mystring = \"It's a beautiful data for ENGR1050\"\n",
        "for letter in mystring:\n",
        "    print(letter)\n",
        "```\n",
        "7. Write a function that counts the number of vowels in a string."
      ]
    },
    {
      "cell_type": "code",
      "execution_count": 184,
      "id": "395e218b",
      "metadata": {
        "colab": {
          "base_uri": "https://localhost:8080/",
          "height": 106
        },
        "id": "395e218b",
        "outputId": "2bceec96-c764-4c57-e098-fbf572a872e0"
      },
      "outputs": [
        {
          "output_type": "error",
          "ename": "IndentationError",
          "evalue": "expected an indented block after function definition on line 2 (ipython-input-2224991811.py, line 3)",
          "traceback": [
            "\u001b[0;36m  File \u001b[0;32m\"/tmp/ipython-input-2224991811.py\"\u001b[0;36m, line \u001b[0;32m3\u001b[0m\n\u001b[0;31m    i=0\u001b[0m\n\u001b[0m    ^\u001b[0m\n\u001b[0;31mIndentationError\u001b[0m\u001b[0;31m:\u001b[0m expected an indented block after function definition on line 2\n"
          ]
        }
      ],
      "source": [
        "stringToCount = \"It's a beautiful day for ENGR1050\"\n",
        "def count_vowels(s):\n",
        "i=0\n",
        "for letter in str(stringToCount):\n",
        "  if letter in str(stringToCount) == (\"a\",\"e\",\"i\",\"o\",\"u\"):\n",
        "    i+=1\n",
        "print(count_vowels)\n",
        "\n"
      ]
    },
    {
      "cell_type": "markdown",
      "id": "891d8777",
      "metadata": {
        "id": "891d8777"
      },
      "source": [
        "8. Repeat the last exercise, but using a dictionary. You might use `vowelDict = {'a':0, 'e':0, 'i':0, 'o':0, 'u':0}` to get started."
      ]
    },
    {
      "cell_type": "code",
      "execution_count": null,
      "id": "2edd89c6",
      "metadata": {
        "id": "2edd89c6"
      },
      "outputs": [],
      "source": [
        "stringToCount = \"It's a beautiful day for ENGR1050\"\n",
        "# Your code here"
      ]
    },
    {
      "cell_type": "markdown",
      "id": "d07cdd3c",
      "metadata": {
        "id": "d07cdd3c"
      },
      "source": [
        "9. The factorial function is defined, for an integer n ≥ 0,\n",
        "\n",
        "$$\n",
        "n! = \\prod_{k=1}^{n} k = 1\\cdot 2\\cdot 3\\cdots n,\n",
        "\\qquad 0! = 1\n",
        "$$\n",
        "\n",
        "Define a function that implements this. Be sure that for the case `n=0` it returns 1 and otherwise evaluates the formula."
      ]
    },
    {
      "cell_type": "code",
      "execution_count": null,
      "id": "8eef8b79",
      "metadata": {
        "id": "8eef8b79",
        "outputId": "e58f8ac4-9da8-4243-8a16-1f0ca1d62aed"
      },
      "outputs": [
        {
          "name": "stdout",
          "output_type": "stream",
          "text": [
            "Factorial of 5 is 0\n"
          ]
        }
      ],
      "source": [
        "# Your code here\n",
        "def myfactorial(n):\n",
        "    return 0 # Your code here\n",
        "\n",
        "print(f'Factorial of 5 is {myfactorial(5)}')  # Should be 120"
      ]
    },
    {
      "cell_type": "markdown",
      "id": "a35f6141",
      "metadata": {
        "id": "a35f6141"
      },
      "source": [
        "10. Write a function that takes in a string and returns the same string reversed. Recall that you can traverse a `for` loop backwards using:\n",
        "```python\n",
        "s = \"hello\"\n",
        "for i in range(len(s)-1, -1, -1):\n",
        "    print(s[i])\n",
        "```"
      ]
    },
    {
      "cell_type": "code",
      "execution_count": null,
      "id": "359cd9cf",
      "metadata": {
        "id": "359cd9cf"
      },
      "outputs": [],
      "source": [
        "stringToReverse = \"It's a beautiful day for ENGR1050\"\n",
        "# Your code here"
      ]
    },
    {
      "cell_type": "markdown",
      "id": "0013b889",
      "metadata": {
        "id": "0013b889"
      },
      "source": [
        "11. Write a function called `isPalindrome` that returns `True` if the input string is the same forward and backward."
      ]
    },
    {
      "cell_type": "code",
      "execution_count": null,
      "id": "595e4dd3",
      "metadata": {
        "id": "595e4dd3"
      },
      "outputs": [],
      "source": [
        "def isPalindrome(s):\n",
        "    return False # Your code here\n",
        "\n",
        "\n",
        "print(f'Is \"racecar\" a palindrome? {isPalindrome(\"racecar\")}')  # Should be True\n",
        "print(f'Is \"hello\" a palindrome? {isPalindrome(\"hello\")}')      # Should be False"
      ]
    },
    {
      "cell_type": "markdown",
      "id": "421713f8",
      "metadata": {
        "id": "421713f8"
      },
      "source": [
        "12. The following is a `BankAccount` class. Modify the withdraw function so that it will print an error if the balance is too low.\n",
        "\n"
      ]
    },
    {
      "cell_type": "markdown",
      "id": "205c09a8",
      "metadata": {
        "id": "205c09a8"
      },
      "source": [
        "```python\n",
        "class BankAccount:\n",
        "    def __init__(self, account_holder, balance=0):\n",
        "        self.account_holder = account_holder\n",
        "        self.balance = balance\n",
        "\n",
        "    def deposit(self, amount):\n",
        "        self.balance += amount\n",
        "        print(f\"Deposited ${amount}. New balance is ${self.balance}.\")\n",
        "\n",
        "    def withdraw(self, amount):\n",
        "       self.balance -= amount\n",
        "       print(f\"Withdrew ${amount}. New balance is ${self.balance}.\")\n",
        "\n",
        "    def display_balance(self):\n",
        "        print(f\"Account holder: {self.account_holder}, Balance: ${self.balance}\")\n",
        "\n",
        "# Example code to use class\n",
        "bobsAccount = BankAccount(\"Bob\", 20)\n",
        "bobsAccount.display_balance()\n",
        "bobsAccount.deposit(50)\n",
        "bobsAccount.withdraw(130)\n",
        "bobsAccount.display_balance()\n",
        "```"
      ]
    },
    {
      "cell_type": "code",
      "execution_count": null,
      "id": "be27eb75",
      "metadata": {
        "id": "be27eb75"
      },
      "outputs": [],
      "source": [
        "# Your code here"
      ]
    },
    {
      "cell_type": "markdown",
      "id": "f8695d80",
      "metadata": {
        "id": "f8695d80"
      },
      "source": [
        "13. Define a simple class called `Person`. Each person should have a name and a `greet()` function, so that you can interact with it in the following way:\n",
        "```python\n",
        "alexPerson = Person(\"Alex\")\n",
        "print(alexPerson.greet())  # Hello, I'm Alex\n",
        "```"
      ]
    },
    {
      "cell_type": "code",
      "execution_count": null,
      "id": "fa66a9a4",
      "metadata": {
        "id": "fa66a9a4"
      },
      "outputs": [],
      "source": [
        "# Your code here"
      ]
    },
    {
      "cell_type": "markdown",
      "id": "f81765b1",
      "metadata": {
        "id": "f81765b1"
      },
      "source": [
        "14. What would be the output of each of the following list comprehensions?\n",
        "```python\n",
        "# 1\n",
        "listcomp1 = [x*x for x in range(10)]          \n",
        "\n",
        "# 2\n",
        "nums = list(range(11))\n",
        "listcomp2 = [n for n in nums if n % 2 == 0]     \n",
        "\n",
        "# 3\n",
        "words = [\"apple\", \"banana\", \"cherry\"]\n",
        "listcomp3 = [w[0] for w in words]         \n",
        "\n",
        "# 4\n",
        "listcomp4 = [(i, j) for i in range(3) for j in range(i+1, 3)]  \n",
        "\n",
        "# 5\n",
        "vals = [-2, -1, 0, 3]\n",
        "listcomp5 = [v if v > 0 else 0 for v in vals]   \n",
        "```"
      ]
    },
    {
      "cell_type": "markdown",
      "id": "472351e3",
      "metadata": {
        "id": "472351e3"
      },
      "source": [
        "15. The following code generates a plot of the curve $y = x^2$ for $x \\in [0,2]$. Modify it to plot $y = \\sin x$ for $x \\in [0,2 \\pi]$.\n",
        "\n",
        "```python\n",
        "import matplotlib.pyplot as plt\n",
        "\n",
        "n = 10\n",
        "x = [2*i/n for i in range(n)]  # [0.0, 0.1, ..., 0.9]\n",
        "y = [xx**2 for xx in x]\n",
        "plt.plot(x,y)\n",
        "```\n",
        "\n",
        "To do this, you'll need to import `sin` and `pi` from the math library\n",
        "```python\n",
        "from math import sin, pi\n",
        "print(f'sin(pi) = {float(sin(pi))}')\n",
        "```\n"
      ]
    },
    {
      "cell_type": "code",
      "execution_count": null,
      "id": "5a492981",
      "metadata": {
        "id": "5a492981"
      },
      "outputs": [],
      "source": [
        "# Your code here"
      ]
    },
    {
      "cell_type": "markdown",
      "id": "0bb4e8ea",
      "metadata": {
        "id": "0bb4e8ea"
      },
      "source": [
        "# Submit today's work #\n",
        "Today's assignment will be submitted individually.\n",
        "\n",
        "1. Run any blocks of code so that the notebook contains the output of your code.\n",
        "2. Save your notebook (File > Save or Ctrl+S).\n",
        "3. Download your notebook as an `.ipynb` file:\n",
        "   - In Colab: File > Download > Download .ipynb\n",
        "   - In Jupyter: File > Download as > Notebook (.ipynb)\n",
        "4. Go to the [Canvas assignment page](https://canvas.upenn.edu/courses/1881448/assignments/13974458) for this lecture.\n",
        "5. Upload your `.ipynb` file and submit.\n",
        "6. Double-check that your file uploaded correctly and is not empty.\n",
        "\n",
        "While we're still learning the ropes, you **should not be using AI**. Discussion with your neighbors is welcome. Attribute any external resources you used here to comply with Penn's academic integrity policy."
      ]
    },
    {
      "cell_type": "markdown",
      "id": "3e63e970",
      "metadata": {
        "id": "3e63e970"
      },
      "source": []
    }
  ],
  "metadata": {
    "kernelspec": {
      "display_name": "base",
      "language": "python",
      "name": "python3"
    },
    "language_info": {
      "codemirror_mode": {
        "name": "ipython",
        "version": 3
      },
      "file_extension": ".py",
      "mimetype": "text/x-python",
      "name": "python",
      "nbconvert_exporter": "python",
      "pygments_lexer": "ipython3",
      "version": "3.12.7"
    },
    "colab": {
      "provenance": []
    }
  },
  "nbformat": 4,
  "nbformat_minor": 5
}