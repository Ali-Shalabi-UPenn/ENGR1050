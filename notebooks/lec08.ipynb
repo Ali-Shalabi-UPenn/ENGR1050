{
  "cells": [
    {
      "cell_type": "markdown",
      "id": "e1defda3",
      "metadata": {
        "id": "e1defda3"
      },
      "source": [
        "# Lecture 8: Review and prep for lab\n",
        "[![Open In Colab](https://colab.research.google.com/assets/colab-badge.svg)](https://colab.research.google.com/github/PIMILab/ENGR1050/blob/main/notebooks/lec08.ipynb)\n"
      ]
    },
    {
      "cell_type": "markdown",
      "id": "256e4b37",
      "metadata": {
        "id": "256e4b37"
      },
      "source": [
        "## To get started\n",
        "\n",
        "Run the block of code to generate a subdirectory where you can store data."
      ]
    },
    {
      "cell_type": "code",
      "execution_count": 18,
      "id": "5ba11abb",
      "metadata": {
        "colab": {
          "base_uri": "https://localhost:8080/"
        },
        "id": "5ba11abb",
        "outputId": "eea322a1-cdd5-467f-df8d-bf70439b3192"
      },
      "outputs": [
        {
          "output_type": "stream",
          "name": "stdout",
          "text": [
            "Data/ directory ensured\n"
          ]
        }
      ],
      "source": [
        "import os\n",
        "# Ensure a small data folder to store downloaded data\n",
        "os.makedirs('Data', exist_ok=True)\n",
        "print('Data/ directory ensured')"
      ]
    },
    {
      "cell_type": "markdown",
      "id": "eaa15059",
      "metadata": {
        "id": "eaa15059"
      },
      "source": [
        "# Overview for today"
      ]
    },
    {
      "cell_type": "markdown",
      "id": "be995f5c",
      "metadata": {
        "id": "be995f5c"
      },
      "source": [
        "In the last class survey, folks felt like the material was going too quickly. I wanted to make sure that everyone feels like they've got their feet under them before we move to the next unit, so **I pushed the exam back a week to Wed Oct. 1st**. Today I will lead some exercises giving some practice on how to design functions and classes, and then I'll step through some material to prepare for our **first lab Wed Sept 24th**.\n",
        "\n",
        "From the surveys, a large contingent of those who were feeling behind have not been to office hours. We strongly recommend you come to office hours. I also suggest you get more practice using the links below.\n",
        "\n",
        "| Platform | Link | Key Features | Notes |\n",
        "|----------|------|--------------|--------------------|\n",
        "| **FutureCoder** | [futurecoder.io](https://futurecoder.io) | Fully interactive, step-by-step lessons with debugging tools, error explanations, and exercises. | Excellent for complete beginners; focuses on learning by doing. |\n",
        "| **LearnPython.org** | [learnpython.org](https://www.learnpython.org) | Interactive tutorials covering Python basics (variables, loops, functions, data structures). | More comprehensive, including more features than we covered in class.|"
      ]
    },
    {
      "cell_type": "markdown",
      "id": "f000af01",
      "metadata": {
        "id": "f000af01"
      },
      "source": [
        "# Last time: Classes"
      ]
    },
    {
      "cell_type": "markdown",
      "id": "c3caae83",
      "metadata": {
        "id": "c3caae83"
      },
      "source": [
        "I'm including here some code for the three types of classes we discussed last time that will be easy to copy and paste. For the exercises, you can use these to get started whenever you need a class."
      ]
    },
    {
      "cell_type": "code",
      "execution_count": 19,
      "id": "14086a93",
      "metadata": {
        "id": "14086a93"
      },
      "outputs": [],
      "source": [
        "class baseClass:\n",
        "    '''A simple base class with a name and a value that can be incremented.'''\n",
        "    def __init__(self, name):\n",
        "        self.name = name\n",
        "        self.value = 0\n",
        "\n",
        "    def increment(self):\n",
        "        self.value += 1\n",
        "\n",
        "    def display(self):\n",
        "        return f\"Name: {self.name}, Value: {self.value}\""
      ]
    },
    {
      "cell_type": "code",
      "execution_count": 20,
      "id": "e4741f02",
      "metadata": {
        "id": "e4741f02"
      },
      "outputs": [],
      "source": [
        "class derivedClass(baseClass):\n",
        "    '''A derived class that extends baseClass with an extra attribute and a modified display method.'''\n",
        "    def __init__(self, name, extra):\n",
        "        super().__init__(name)\n",
        "        self.extra = extra\n",
        "\n",
        "    def display(self):\n",
        "        return f\"Name: {self.name}, Value: {self.value}, Extra: {self.extra}\"\n"
      ]
    },
    {
      "cell_type": "code",
      "execution_count": 21,
      "id": "f6a331a8",
      "metadata": {
        "colab": {
          "base_uri": "https://localhost:8080/"
        },
        "id": "f6a331a8",
        "outputId": "df530c9d-023c-4a26-9bfc-fa013e4be3a9"
      },
      "outputs": [
        {
          "output_type": "stream",
          "name": "stdout",
          "text": [
            "Name: classesName, Value: 0\n",
            "Name: classesName, Value: 1\n",
            "Name: derivedName, Value: 0, Extra: extraInfo\n"
          ]
        }
      ],
      "source": [
        "myclass1 = baseClass(\"classesName\")\n",
        "myclass2 = derivedClass(\"derivedName\", \"extraInfo\")\n",
        "print(myclass1.display())\n",
        "myclass1.increment()\n",
        "print(myclass1.display())\n",
        "print(myclass2.display())\n"
      ]
    },
    {
      "cell_type": "markdown",
      "id": "a79e64aa",
      "metadata": {
        "id": "a79e64aa"
      },
      "source": [
        "## More exercises with classes"
      ]
    },
    {
      "cell_type": "markdown",
      "id": "9a161060",
      "metadata": {
        "id": "9a161060"
      },
      "source": [
        "1. Implement a counter class, which can be used to keep a running tally. It should have the following functions:\n",
        "    - `increment()` - add one to the running tally\n",
        "    - `decrement()` - subtract one from the running tally\n",
        "    - `reset()` - set the tally to 0\n",
        "    - `value()` - return the current value of the tally"
      ]
    },
    {
      "cell_type": "code",
      "execution_count": 22,
      "id": "b127a5a8",
      "metadata": {
        "id": "b127a5a8"
      },
      "outputs": [],
      "source": [
        "class CounterClass:\n",
        "    def __init__(self):\n",
        "        self.tally = 0\n",
        "\n",
        "    def increment(self):\n",
        "        self.tally += 1\n",
        "\n",
        "    def decrement(self):\n",
        "        self.tally -= 1\n",
        "\n",
        "    def reset(self):\n",
        "        self.tally = 0\n",
        "\n",
        "    def value(self):\n",
        "        return self.tally"
      ]
    },
    {
      "cell_type": "code",
      "execution_count": 23,
      "id": "47450dce",
      "metadata": {
        "colab": {
          "base_uri": "https://localhost:8080/"
        },
        "id": "47450dce",
        "outputId": "24b4cb91-d13d-40be-8969-88ac2883da14"
      },
      "outputs": [
        {
          "output_type": "stream",
          "name": "stdout",
          "text": [
            "0\n",
            "2\n",
            "0\n",
            "1\n"
          ]
        }
      ],
      "source": [
        "mycounter = CounterClass()\n",
        "print(mycounter.value())\n",
        "mycounter.increment()\n",
        "mycounter.increment()\n",
        "print(mycounter.value())\n",
        "\n",
        "mycounter2 = CounterClass()\n",
        "print(mycounter2.value())\n",
        "mycounter2.increment()\n",
        "print(mycounter2.value())"
      ]
    },
    {
      "cell_type": "markdown",
      "id": "a83e5d34",
      "metadata": {
        "id": "a83e5d34"
      },
      "source": [
        "2. Implement a `Die` class, which will roll a 6-sided die by calling the function `roll()`. We will need the following code for random number generation:\n",
        "```python\n",
        "import random\n",
        "\n",
        "def pick_1_to_4():\n",
        "    \"\"\"Return a random integer from 1 to 4 inclusive.\"\"\"\n",
        "    return random.randint(1, 4)\n",
        "\n",
        "print(pick_1_to_4())\n",
        "```"
      ]
    },
    {
      "cell_type": "code",
      "execution_count": 24,
      "id": "9c699b9f",
      "metadata": {
        "id": "9c699b9f"
      },
      "outputs": [],
      "source": [
        "import random\n",
        "class DieClass():\n",
        "    def __init__(self):\n",
        "        self.dievalue = random.randint(1,6)\n",
        "\n",
        "    def roll(self):\n",
        "        self.dievalue = random.randint(1,6)\n",
        "\n",
        "    def read(self):\n",
        "        return self.dievalue"
      ]
    },
    {
      "cell_type": "code",
      "execution_count": 25,
      "id": "8b1300fe",
      "metadata": {
        "colab": {
          "base_uri": "https://localhost:8080/"
        },
        "id": "8b1300fe",
        "outputId": "60a41731-7224-4a0e-b4b6-e9dd339e2ad2"
      },
      "outputs": [
        {
          "output_type": "stream",
          "name": "stdout",
          "text": [
            "1\n",
            "6\n",
            "6\n"
          ]
        }
      ],
      "source": [
        "myDie = DieClass()\n",
        "print(myDie.read())\n",
        "myDie.roll()\n",
        "print(myDie.read())\n",
        "print(myDie.dievalue)"
      ]
    },
    {
      "cell_type": "markdown",
      "id": "5ef52c57",
      "metadata": {
        "id": "5ef52c57"
      },
      "source": [
        "**Additional exercise:** When you play Yahtzee you need to roll 5 six sided dice."
      ]
    },
    {
      "cell_type": "code",
      "execution_count": 26,
      "id": "4ad1bafe",
      "metadata": {
        "colab": {
          "base_uri": "https://localhost:8080/"
        },
        "id": "4ad1bafe",
        "outputId": "98e923e1-204c-4435-a967-c27aacfb6cb5"
      },
      "outputs": [
        {
          "output_type": "stream",
          "name": "stdout",
          "text": [
            "Read the six different dice\n",
            "5\n",
            "1\n",
            "2\n",
            "4\n",
            "4\n",
            "5\n",
            "Read the six different dice after rerolling\n",
            "1\n",
            "6\n",
            "5\n",
            "3\n",
            "3\n",
            "5\n"
          ]
        }
      ],
      "source": [
        "# Create a list of six different dice\n",
        "listOfSixDie = [DieClass() for i in range(6)]\n",
        "\n",
        "print(\"Read the six different dice\")\n",
        "for die in listOfSixDie:\n",
        "    print(die.read())\n",
        "\n",
        "# Reroll the six different dice\n",
        "for die in listOfSixDie:\n",
        "    die.roll()\n",
        "\n",
        "print(\"Read the six different dice after rerolling\")\n",
        "for die in listOfSixDie:\n",
        "    print(die.read())"
      ]
    },
    {
      "cell_type": "markdown",
      "id": "ceb2eba9",
      "metadata": {
        "id": "ceb2eba9"
      },
      "source": [
        "3. Derive a `NsidedDie` class from the `Die` class. It should take the number of sides as an input to the initializer"
      ]
    },
    {
      "cell_type": "code",
      "execution_count": 27,
      "id": "66bb925e",
      "metadata": {
        "id": "66bb925e"
      },
      "outputs": [],
      "source": [
        "class NsidedDie(DieClass):\n",
        "    def __init__(self, sidestoinitializewith):\n",
        "        self.sides = sidestoinitializewith\n",
        "        self.dievalue = random.randint(1, sidestoinitializewith)\n",
        "\n",
        "    def roll(self):\n",
        "        self.dievalue = random.randint(1, self.sides)\n",
        "\n",
        "    # Note that we don't need to redefine read() since we inherited it from the Die class\n",
        ""
      ]
    },
    {
      "cell_type": "code",
      "execution_count": 28,
      "id": "0cfa983b",
      "metadata": {
        "colab": {
          "base_uri": "https://localhost:8080/"
        },
        "id": "0cfa983b",
        "outputId": "73b991d9-5f3c-4ba1-d6b6-02693d1e7ab8"
      },
      "outputs": [
        {
          "output_type": "stream",
          "name": "stdout",
          "text": [
            "9\n",
            "10\n"
          ]
        }
      ],
      "source": [
        "myDie = NsidedDie(10)\n",
        "print(myDie.read())\n",
        "myDie.roll()\n",
        "print(myDie.read())"
      ]
    },
    {
      "cell_type": "markdown",
      "id": "b5491687",
      "metadata": {
        "id": "b5491687"
      },
      "source": [
        "# Whack-a-mole"
      ]
    },
    {
      "cell_type": "markdown",
      "id": "cbdf23f6",
      "metadata": {
        "id": "cbdf23f6"
      },
      "source": [
        "In lab we are going to build a whack-a-mole game. To get ready for that we will step through together as a class how to design a similar version of the problem. The code will randomly assign a number 1-4, and then ask the user for a number 1-4. If the numbers are the different, the user will be prompted for another guess. If the guessed correctly, the program will restart.\n",
        "\n",
        "In lab, we will do the same, but using buttons and LEDs to set it up. This exercise will help you understand how to organize the program and set up some useful classes.\n",
        "\n",
        "To organize our code, we will break it into a few pieces\n",
        "- A class called `whackamole`, which tracks the current number and gives functions to help play the game\n",
        "- A while loop that repeats the game.\n",
        "- A class called `userIO` whose job is to collect and process user input that can be handed to the whackamole class\n"
      ]
    },
    {
      "cell_type": "code",
      "execution_count": null,
      "id": "106ab4f0",
      "metadata": {
        "colab": {
          "base_uri": "https://localhost:8080/"
        },
        "id": "106ab4f0",
        "outputId": "bb0f86a5-425c-46f9-c147-a28d8bfe125d"
      },
      "outputs": [
        {
          "output_type": "stream",
          "name": "stdout",
          "text": [
            "Type \"exit\" to quit.\n",
            "The lit up slot is 3\n"
          ]
        }
      ],
      "source": [
        "# Code from exercise will go here.\n",
        "\n",
        "class Whackamole:\n",
        "    def __init__(self):\n",
        "        self.litupslot = random.randint(1,4)\n",
        "\n",
        "    def whack(self, slotnumber):\n",
        "        if slotnumber == self.litupslot:\n",
        "            print(\"Hit!\")\n",
        "            self.litupslot = random.randint(1,4)\n",
        "\n",
        "class fileIO:\n",
        "    def __init__(self):\n",
        "        self.wheretohit = 0\n",
        "    def string2number(self,s):\n",
        "        return int(s)\n",
        "\n",
        "\n",
        "game = Whackamole()\n",
        "myfilething = fileIO()\n",
        "while True:\n",
        "    print(\"Type \\\"exit\\\" to quit.\")\n",
        "    print(f\"The lit up slot is {game.litupslot}\")\n",
        "    user_input = input(\"Enter a number 1-4 or type quit to quit:\")\n",
        "    if user_input.lower() == \"exit\":\n",
        "        break\n",
        "    else:\n",
        "        wheretohit = myfilething.string2number(user_input)\n",
        "        game.whack(wheretohit)"
      ]
    },
    {
      "cell_type": "markdown",
      "id": "35fcef5b",
      "metadata": {
        "id": "35fcef5b"
      },
      "source": [
        "# Exercises\n"
      ]
    },
    {
      "cell_type": "markdown",
      "id": "15891ada",
      "metadata": {
        "id": "15891ada"
      },
      "source": [
        "As we've moved through the class, you've seen a range of difficulty in terms of the questions we've solved. Getting fluent in Python is going to take time, and you will reinforce these Python fundamentals over and over for the rest of the semester. The following examples give a sense of the level of difficulty that I'm expecting you're able to handle.\n",
        "- You should be comfortable with basic Python syntax\n",
        "- You should be able to independently write simple programs\n",
        "- You should be able to read a list comprehension and explain what it's doing\n",
        "- If somebody hands you a class you should be able to use it\n",
        "- With guidance, you should be able to define your own functions/classes\n",
        "\n",
        "If you can complete the examples below, you should be in good shape for next weeks exam. You should anticipate questions of a similar difficulty to these."
      ]
    },
    {
      "cell_type": "markdown",
      "id": "31268e5d",
      "metadata": {
        "id": "31268e5d"
      },
      "source": [
        "## Exercises: basic command over python fundamentals"
      ]
    },
    {
      "cell_type": "markdown",
      "id": "542ef5d0",
      "metadata": {
        "id": "542ef5d0"
      },
      "source": [
        "1. Write a for loop that prints the numbers 1 through 10"
      ]
    },
    {
      "cell_type": "code",
      "execution_count": 1,
      "id": "d151d901",
      "metadata": {
        "colab": {
          "base_uri": "https://localhost:8080/"
        },
        "id": "d151d901",
        "outputId": "8fca1cfc-db90-4dc2-e4d5-b33455aacd52"
      },
      "outputs": [
        {
          "output_type": "stream",
          "name": "stdout",
          "text": [
            "1\n",
            "2\n",
            "3\n",
            "4\n",
            "5\n",
            "6\n",
            "7\n",
            "8\n",
            "9\n",
            "10\n"
          ]
        }
      ],
      "source": [
        "# Your code here.\n",
        "for i in range(1,11):\n",
        "    print(i)"
      ]
    },
    {
      "cell_type": "markdown",
      "id": "ca4c39be",
      "metadata": {
        "id": "ca4c39be"
      },
      "source": [
        "2. Write a while loop that does the same thing"
      ]
    },
    {
      "cell_type": "code",
      "execution_count": 2,
      "id": "17e82d4a",
      "metadata": {
        "colab": {
          "base_uri": "https://localhost:8080/"
        },
        "id": "17e82d4a",
        "outputId": "48b9b423-33f0-4554-aadd-181dde9794d1"
      },
      "outputs": [
        {
          "output_type": "stream",
          "name": "stdout",
          "text": [
            "1\n",
            "2\n",
            "3\n",
            "4\n",
            "5\n",
            "6\n",
            "7\n",
            "8\n",
            "9\n",
            "10\n"
          ]
        }
      ],
      "source": [
        "# Your code here.\n",
        "counter = 1\n",
        "while counter <= 10:\n",
        "    print(counter)\n",
        "    counter += 1"
      ]
    },
    {
      "cell_type": "markdown",
      "id": "14c09355",
      "metadata": {
        "id": "14c09355"
      },
      "source": [
        "3. Use a for loop to generate a list of even numbers between 0 and 10 (inclusive)."
      ]
    },
    {
      "cell_type": "code",
      "execution_count": 3,
      "id": "6dc56685",
      "metadata": {
        "colab": {
          "base_uri": "https://localhost:8080/"
        },
        "id": "6dc56685",
        "outputId": "6770c3ad-32f6-48d3-d4e3-0ec29bfeef2d"
      },
      "outputs": [
        {
          "output_type": "stream",
          "name": "stdout",
          "text": [
            "[0, 2, 4, 6, 8, 10]\n"
          ]
        }
      ],
      "source": [
        "# Your code here.\n",
        "evenlist = []\n",
        "for i in range(11):\n",
        "    if i % 2 == 0:\n",
        "        evenlist.append(i)\n",
        "print(evenlist)"
      ]
    },
    {
      "cell_type": "markdown",
      "id": "9343bee9",
      "metadata": {
        "id": "9343bee9"
      },
      "source": [
        "4. Given a list, generate a new list that consists of the initial list in reverse order."
      ]
    },
    {
      "cell_type": "code",
      "execution_count": 4,
      "id": "4dae164e",
      "metadata": {
        "colab": {
          "base_uri": "https://localhost:8080/"
        },
        "id": "4dae164e",
        "outputId": "4481ad3c-5e65-4d6b-8f6d-5ce09214ab39"
      },
      "outputs": [
        {
          "output_type": "stream",
          "name": "stdout",
          "text": [
            "['tiger', 'sheep', 'rabbit', 'quail', 'pig', 'octopus', 'newt', 'monkey', 'lemur', 'kangaroo', 'jaguar', 'iguana', 'horse', 'goat', 'fox', 'elephant', 'dog', 'cat', 'bear', 'aardvark']\n"
          ]
        }
      ],
      "source": [
        "initialList = ['aardvark', 'bear', 'cat', 'dog', 'elephant', 'fox', 'goat', 'horse', 'iguana', 'jaguar', 'kangaroo', 'lemur', 'monkey', 'newt', 'octopus', 'pig', 'quail', 'rabbit', 'sheep', 'tiger']\n",
        "\n",
        "# Your code here.\n",
        "reversedList = []\n",
        "lengthlist = len(initialList)\n",
        "for index in range(len(initialList)):\n",
        "    reversedList.append(initialList[lengthlist - index - 1])\n",
        "print(reversedList)\n",
        ""
      ]
    },
    {
      "cell_type": "markdown",
      "id": "bb45456d",
      "metadata": {
        "id": "bb45456d"
      },
      "source": [
        "5. Use a for loop to sum even numbers between 0 and 50."
      ]
    },
    {
      "cell_type": "code",
      "execution_count": 5,
      "id": "3c0fad55",
      "metadata": {
        "colab": {
          "base_uri": "https://localhost:8080/"
        },
        "id": "3c0fad55",
        "outputId": "24cfb545-3056-49c2-caaf-cb1e657d5a68"
      },
      "outputs": [
        {
          "output_type": "stream",
          "name": "stdout",
          "text": [
            "650\n"
          ]
        }
      ],
      "source": [
        "# Your code here.\n",
        "total = 0\n",
        "for i in range(51):\n",
        "    if i % 2 == 0:\n",
        "        total += i\n",
        "print(total)\n"
      ]
    },
    {
      "cell_type": "markdown",
      "id": "e7993b2c",
      "metadata": {
        "id": "e7993b2c"
      },
      "source": [
        "6. Write a function that takes two numbers as input and returns their sum"
      ]
    },
    {
      "cell_type": "code",
      "execution_count": 6,
      "id": "496f4f64",
      "metadata": {
        "colab": {
          "base_uri": "https://localhost:8080/"
        },
        "id": "496f4f64",
        "outputId": "aa556715-84b8-4e16-886d-76a9ee8aeb96"
      },
      "outputs": [
        {
          "output_type": "stream",
          "name": "stdout",
          "text": [
            "2 + 3 = 5\n"
          ]
        }
      ],
      "source": [
        "# Your code here\n",
        "def add_two_numbers(a,b):\n",
        "    return a + b\n",
        "\n",
        "# example using the function\n",
        "number1 = 2\n",
        "number2 = 3\n",
        "print(f'{number1} + {number2} = {add_two_numbers(number1, number2)}')"
      ]
    },
    {
      "cell_type": "markdown",
      "id": "0dbca83e",
      "metadata": {
        "id": "0dbca83e"
      },
      "source": [
        "Recall that you can work with strings the same as lists:\n",
        "```python\n",
        "mystring = \"It's a beautiful data for ENGR1050\"\n",
        "for letter in mystring:\n",
        "    print(letter)\n",
        "```\n",
        "7. Write a function that counts the number of vowels in a string."
      ]
    },
    {
      "cell_type": "code",
      "execution_count": 7,
      "id": "395e218b",
      "metadata": {
        "colab": {
          "base_uri": "https://localhost:8080/"
        },
        "id": "395e218b",
        "outputId": "1b7d9f08-87fe-4fe5-f613-1ea1c87a596f"
      },
      "outputs": [
        {
          "output_type": "stream",
          "name": "stdout",
          "text": [
            "a: 3, e: 2, i: 2, o: 1, u: 2\n",
            "total number of vowels: 10\n"
          ]
        }
      ],
      "source": [
        "stringToCount = \"It's a beautiful day for ENGR1050\"\n",
        "# Your code here\n",
        "numa = 0\n",
        "nume = 0\n",
        "numi = 0\n",
        "numo = 0\n",
        "numu = 0\n",
        "\n",
        "for letter in stringToCount:\n",
        "    #make it case insensitive\n",
        "    letter = letter.lower()\n",
        "\n",
        "    if letter == 'a':\n",
        "        numa = numa + 1\n",
        "    elif letter == 'e':\n",
        "        nume += 1\n",
        "    elif letter == 'i':\n",
        "        numi += 1\n",
        "    elif letter == 'o':\n",
        "        numo += 1\n",
        "    elif letter == 'u':\n",
        "        numu += 1\n",
        "\n",
        "print(f'a: {numa}, e: {nume}, i: {numi}, o: {numo}, u: {numu}')\n",
        "print(f'total number of vowels: {numa+nume+numi+numo+numu}')"
      ]
    },
    {
      "cell_type": "markdown",
      "id": "891d8777",
      "metadata": {
        "id": "891d8777"
      },
      "source": [
        "8. Repeat the last exercise, but using a dictionary. You might use `vowelDict = {'a':0, 'e':0, 'i':0, 'o':0, 'u':0}` to get started."
      ]
    },
    {
      "cell_type": "code",
      "execution_count": 8,
      "id": "2edd89c6",
      "metadata": {
        "colab": {
          "base_uri": "https://localhost:8080/"
        },
        "id": "2edd89c6",
        "outputId": "2fd2defc-216f-4f62-e69f-0f3c028cd390"
      },
      "outputs": [
        {
          "output_type": "stream",
          "name": "stdout",
          "text": [
            "{'a': 3, 'e': 2, 'i': 2, 'o': 1, 'u': 2}\n",
            "total number of vowels: 10\n"
          ]
        }
      ],
      "source": [
        "stringToCount = \"It's a beautiful day for ENGR1050\"\n",
        "# Your code here\n",
        "\n",
        "vowelDict = {'a':0,'e':0,'i':0,'o':0,'u':0}\n",
        "\n",
        "for letter in stringToCount:\n",
        "    #make it case insensitive\n",
        "    letter = letter.lower()\n",
        "\n",
        "    if letter in vowelDict:\n",
        "        vowelDict[letter] += 1\n",
        "\n",
        "print(vowelDict)\n",
        "print(f'total number of vowels: {sum(vowelDict.values())}')"
      ]
    },
    {
      "cell_type": "markdown",
      "id": "d07cdd3c",
      "metadata": {
        "id": "d07cdd3c"
      },
      "source": [
        "9. The factorial function is defined, for an integer n ≥ 0,\n",
        "\n",
        "$$\n",
        "n! = \\prod_{k=1}^{n} k = 1\\cdot 2\\cdot 3\\cdots n,\n",
        "\\qquad 0! = 1\n",
        "$$\n",
        "\n",
        "Define a function that implements this. Be sure that for the case `n=0` it returns 1 and otherwise evaluates the formula."
      ]
    },
    {
      "cell_type": "code",
      "execution_count": 9,
      "id": "8eef8b79",
      "metadata": {
        "colab": {
          "base_uri": "https://localhost:8080/"
        },
        "id": "8eef8b79",
        "outputId": "a29787f7-18ac-47f4-9fe5-8b0bc3bc1862"
      },
      "outputs": [
        {
          "output_type": "stream",
          "name": "stdout",
          "text": [
            "Factorial of 5 is 120\n"
          ]
        }
      ],
      "source": [
        "# Your code here\n",
        "def myfactorial(n):\n",
        "    if n == 0:\n",
        "        return 1\n",
        "\n",
        "    if n > 0:\n",
        "        output = 1\n",
        "\n",
        "        for i in range(1, n+1):\n",
        "            output = output*i\n",
        "\n",
        "        return output\n",
        "\n",
        "print(f'Factorial of 5 is {myfactorial(5)}')  # Should be 120"
      ]
    },
    {
      "cell_type": "markdown",
      "id": "a35f6141",
      "metadata": {
        "id": "a35f6141"
      },
      "source": [
        "10. Write a function that takes in a string and returns the same string reversed. Recall that you can traverse a `for` loop backwards using:\n",
        "```python\n",
        "s = \"hello\"\n",
        "for i in range(len(s)-1, -1, -1):\n",
        "    print(s[i])\n",
        "```"
      ]
    },
    {
      "cell_type": "code",
      "execution_count": 10,
      "id": "359cd9cf",
      "metadata": {
        "colab": {
          "base_uri": "https://localhost:8080/"
        },
        "id": "359cd9cf",
        "outputId": "e288577a-b4a0-46fc-f1ce-c59ca6600630"
      },
      "outputs": [
        {
          "output_type": "stream",
          "name": "stdout",
          "text": [
            "0501RGNE rof yad lufituaeb a s'tI\n"
          ]
        }
      ],
      "source": [
        "stringToReverse = \"It's a beautiful day for ENGR1050\"\n",
        "newString = \"\"\n",
        "for i in range(len(stringToReverse)-1, -1,-1):\n",
        "    newString += stringToReverse[i]\n",
        "print(newString)"
      ]
    },
    {
      "cell_type": "markdown",
      "id": "0013b889",
      "metadata": {
        "id": "0013b889"
      },
      "source": [
        "11. Write a function called `isPalindrome` that returns `True` if the input string is the same forward and backward."
      ]
    },
    {
      "cell_type": "code",
      "execution_count": 11,
      "id": "595e4dd3",
      "metadata": {
        "colab": {
          "base_uri": "https://localhost:8080/"
        },
        "id": "595e4dd3",
        "outputId": "756f8658-ae1b-4607-9041-78ff60150cfa"
      },
      "outputs": [
        {
          "output_type": "stream",
          "name": "stdout",
          "text": [
            "Is \"racecar\" a palindrome? True\n",
            "Is \"hello\" a palindrome? False\n"
          ]
        }
      ],
      "source": [
        "def isPalindrome(s):\n",
        "    reversedString = \"\"\n",
        "    for i in range(len(s)-1, -1, -1):\n",
        "        reversedString = reversedString + s[i]\n",
        "\n",
        "    if s == reversedString:\n",
        "        return True\n",
        "    elif s != reversedString:\n",
        "        return False\n",
        "\n",
        "print(f'Is \"racecar\" a palindrome? {isPalindrome(\"racecar\")}')  # Should be True\n",
        "print(f'Is \"hello\" a palindrome? {isPalindrome(\"hello\")}')      # Should be False"
      ]
    },
    {
      "cell_type": "markdown",
      "id": "421713f8",
      "metadata": {
        "id": "421713f8"
      },
      "source": [
        "12. The following is a `BankAccount` class. Modify the withdraw function so that it will print an error if the balance is too low.\n",
        "\n"
      ]
    },
    {
      "cell_type": "markdown",
      "id": "205c09a8",
      "metadata": {
        "id": "205c09a8"
      },
      "source": [
        "```python\n",
        "class BankAccount:\n",
        "    def __init__(self, account_holder, balance=0):\n",
        "        self.account_holder = account_holder\n",
        "        self.balance = balance\n",
        "\n",
        "    def deposit(self, amount):\n",
        "        self.balance += amount\n",
        "        print(f\"Deposited ${amount}. New balance is ${self.balance}.\")\n",
        "\n",
        "    def withdraw(self, amount):\n",
        "       self.balance -= amount\n",
        "       print(f\"Withdrew ${amount}. New balance is ${self.balance}.\")\n",
        "\n",
        "    def display_balance(self):\n",
        "        print(f\"Account holder: {self.account_holder}, Balance: ${self.balance}\")\n",
        "\n",
        "# Example code to use class\n",
        "bobsAccount = BankAccount(\"Bob\", 20)\n",
        "bobsAccount.display_balance()\n",
        "bobsAccount.deposit(50)\n",
        "bobsAccount.withdraw(130)\n",
        "bobsAccount.display_balance()\n",
        "```"
      ]
    },
    {
      "cell_type": "code",
      "execution_count": 12,
      "id": "be27eb75",
      "metadata": {
        "colab": {
          "base_uri": "https://localhost:8080/"
        },
        "id": "be27eb75",
        "outputId": "a595c3cd-6f91-4b65-884b-6640efd4156e"
      },
      "outputs": [
        {
          "output_type": "stream",
          "name": "stdout",
          "text": [
            "Account holder: Bob, Balance: $20\n",
            "Deposited $50. New balance is $70.\n",
            "Insufficient funds for this withdrawal.\n",
            "Account holder: Bob, Balance: $70\n"
          ]
        }
      ],
      "source": [
        "# Your code\n",
        "class BankAccount:\n",
        "    def __init__(self, account_holder, balance=0):\n",
        "        self.account_holder = account_holder\n",
        "        self.balance = balance\n",
        "\n",
        "    def deposit(self, amount):\n",
        "        self.balance += amount\n",
        "        print(f\"Deposited ${amount}. New balance is ${self.balance}.\")\n",
        "\n",
        "    def withdraw(self, amount):\n",
        "        if amount > self.balance:\n",
        "            print(\"Insufficient funds for this withdrawal.\")\n",
        "        else:\n",
        "           self.balance -= amount\n",
        "           print(f\"Withdrew ${amount}. New balance is ${self.balance}.\")\n",
        "\n",
        "    def display_balance(self):\n",
        "        print(f\"Account holder: {self.account_holder}, Balance: ${self.balance}\")\n",
        "\n",
        "# Example code to use class\n",
        "bobsAccount = BankAccount(\"Bob\", 20)\n",
        "bobsAccount.display_balance()\n",
        "bobsAccount.deposit(50)\n",
        "bobsAccount.withdraw(130)\n",
        "bobsAccount.display_balance()"
      ]
    },
    {
      "cell_type": "markdown",
      "id": "f8695d80",
      "metadata": {
        "id": "f8695d80"
      },
      "source": [
        "13. Define a simple class called `Person`. Each person should have a name and a `greet()` function, so that you can interact with it in the following way:\n",
        "```python\n",
        "alexPerson = Person(\"Alex\")\n",
        "print(alexPerson.greet())  # Hello, I'm Alex\n",
        "```"
      ]
    },
    {
      "cell_type": "code",
      "execution_count": 13,
      "id": "fa66a9a4",
      "metadata": {
        "colab": {
          "base_uri": "https://localhost:8080/"
        },
        "id": "fa66a9a4",
        "outputId": "4037f5d0-0bae-4834-f8a1-16fe8079eddd"
      },
      "outputs": [
        {
          "output_type": "stream",
          "name": "stdout",
          "text": [
            "Hello, I'm Alex.\n"
          ]
        }
      ],
      "source": [
        "# Your code here\n",
        "class Person:\n",
        "    def __init__(self, name):\n",
        "        self.name = name\n",
        "\n",
        "    def greet(self):\n",
        "        print(f\"Hello, I'm {self.name}.\")\n",
        "\n",
        "# Example code to use class\n",
        "alex = Person(\"Alex\")\n",
        "alex.greet()"
      ]
    },
    {
      "cell_type": "markdown",
      "id": "f81765b1",
      "metadata": {
        "id": "f81765b1"
      },
      "source": [
        "14. What would be the output of each of the following list comprehensions?\n",
        "```python\n",
        "# 1\n",
        "listcomp1 = [x*x for x in range(10)]          \n",
        "\n",
        "# 2\n",
        "nums = list(range(11))\n",
        "listcomp2 = [n for n in nums if n % 2 == 0]     \n",
        "\n",
        "# 3\n",
        "words = [\"apple\", \"banana\", \"cherry\"]\n",
        "listcomp3 = [w[0] for w in words]         \n",
        "\n",
        "# 4\n",
        "listcomp4 = [(i, j) for i in range(3) for j in range(i+1, 3)]  \n",
        "\n",
        "# 5\n",
        "vals = [-2, -1, 0, 3]\n",
        "listcomp5 = [v if v > 0 else 0 for v in vals]   \n",
        "```"
      ]
    },
    {
      "cell_type": "code",
      "execution_count": 14,
      "id": "58ac0113",
      "metadata": {
        "colab": {
          "base_uri": "https://localhost:8080/"
        },
        "id": "58ac0113",
        "outputId": "603aa50f-b04b-4cac-cf39-7b84b0ea75e5"
      },
      "outputs": [
        {
          "output_type": "stream",
          "name": "stdout",
          "text": [
            "['p', 'a', 'h']\n"
          ]
        }
      ],
      "source": [
        "words = [\"apple\", \"banana\", \"cherry\"]\n",
        "listcomp3 = [w[1] for w in words]\n",
        "print(listcomp3)"
      ]
    },
    {
      "cell_type": "code",
      "execution_count": 15,
      "id": "d88d2144",
      "metadata": {
        "colab": {
          "base_uri": "https://localhost:8080/"
        },
        "id": "d88d2144",
        "outputId": "07121d66-0b00-4b61-e602-beee6fc2e485"
      },
      "outputs": [
        {
          "output_type": "stream",
          "name": "stdout",
          "text": [
            "[0, 1, 2]\n",
            "(0, 1)\n",
            "(0, 2)\n",
            "(1, 2)\n"
          ]
        }
      ],
      "source": [
        "listcomp4 = [(i, j) for i in range(3) for j in range(i+1, 3)]\n",
        "print(list(range(3)))\n",
        "\n",
        "for i in range(3):\n",
        "    for j in range(i+1,3):\n",
        "        print((i,j))\n",
        "# print(listcomp4)"
      ]
    },
    {
      "cell_type": "markdown",
      "id": "472351e3",
      "metadata": {
        "id": "472351e3"
      },
      "source": [
        "15. The following code generates a plot of the curve $y = x^2$ for $x \\in [0,2]$. Modify it to plot $y = \\sin x$ for $x \\in [0,2 \\pi]$.\n",
        "\n",
        "```python\n",
        "import matplotlib.pyplot as plt\n",
        "\n",
        "n = 10\n",
        "x = [2*i/n for i in range(n+1)]  # 2*[0.0, 0.1, ..., 1.0]\n",
        "y = [xx**2 for xx in x]\n",
        "plt.plot(x,y)\n",
        "```\n",
        "\n",
        "To do this, you'll need to import `sin` and `pi` from the math library\n",
        "```python\n",
        "from math import sin, pi\n",
        "print(f'sin(pi) = {float(sin(pi))}')\n",
        "```\n"
      ]
    },
    {
      "cell_type": "code",
      "execution_count": 16,
      "id": "5a492981",
      "metadata": {
        "colab": {
          "base_uri": "https://localhost:8080/",
          "height": 485
        },
        "id": "5a492981",
        "outputId": "c34587d6-28d6-439a-ed81-736e753c3a8f"
      },
      "outputs": [
        {
          "output_type": "stream",
          "name": "stdout",
          "text": [
            "[0.0, 0.6283185307179586, 1.2566370614359172, 1.8849555921538759, 2.5132741228718345, 3.141592653589793, 3.7699111843077517, 4.39822971502571, 5.026548245743669, 5.654866776461628, 6.283185307179586]\n"
          ]
        },
        {
          "output_type": "execute_result",
          "data": {
            "text/plain": [
              "[<matplotlib.lines.Line2D at 0x7f27e60c2ff0>]"
            ]
          },
          "metadata": {},
          "execution_count": 16
        },
        {
          "output_type": "display_data",
          "data": {
            "text/plain": [
              "<Figure size 640x480 with 1 Axes>"
            ],
            "image/png": "[encoded data removed]"
          },
          "metadata": {}
        }
      ],
      "source": [
        "import matplotlib.pyplot as plt\n",
        "from math import sin, pi\n",
        "n = 10\n",
        "x = [(2*pi/n)*i for i in range(n+1)]  # [0.0, 0.1, ..., 2.0*pi]\n",
        "y = [sin(xx) for xx in x]\n",
        "print(x)\n",
        "plt.plot(x,y)"
      ]
    },
    {
      "cell_type": "markdown",
      "id": "0bb4e8ea",
      "metadata": {
        "id": "0bb4e8ea"
      },
      "source": [
        "# Submit today's work #\n",
        "Today's assignment will be submitted individually.\n",
        "\n",
        "1. Run any blocks of code so that the notebook contains the output of your code.\n",
        "2. Save your notebook (File > Save or Ctrl+S).\n",
        "3. Download your notebook as an `.ipynb` file:\n",
        "   - In Colab: File > Download > Download .ipynb\n",
        "   - In Jupyter: File > Download as > Notebook (.ipynb)\n",
        "4. Go to the [Canvas assignment page](https://canvas.upenn.edu/courses/1881448/assignments/13974458) for this lecture.\n",
        "5. Upload your `.ipynb` file and submit.\n",
        "6. Double-check that your file uploaded correctly and is not empty.\n",
        "\n",
        "While we're still learning the ropes, you **should not be using AI**. Discussion with your neighbors is welcome. Attribute any external resources you used here to comply with Penn's academic integrity policy."
      ]
    },
    {
      "cell_type": "markdown",
      "id": "3e63e970",
      "metadata": {
        "id": "3e63e970"
      },
      "source": []
    }
  ],
  "metadata": {
    "kernelspec": {
      "display_name": "Python 3",
      "language": "python",
      "name": "python3"
    },
    "language_info": {
      "codemirror_mode": {
        "name": "ipython",
        "version": 3
      },
      "file_extension": ".py",
      "mimetype": "text/x-python",
      "name": "python",
      "nbconvert_exporter": "python",
      "pygments_lexer": "ipython3",
      "version": "3.12.4"
    },
    "colab": {
      "provenance": []
    }
  },
  "nbformat": 4,
  "nbformat_minor": 5
}