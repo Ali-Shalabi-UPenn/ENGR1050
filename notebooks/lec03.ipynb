{
 "cells": [
  {
   "cell_type": "markdown",
   "id": "3a855527",
   "metadata": {},
   "source": [
    "# Lecture 3: Variables, Lists, If/For Loops and Baseball\n",
    "\n",
    "[![Open In Colab](https://colab.research.google.com/assets/colab-badge.svg)](https://colab.research.google.com/github/PIMILab/ENGR1050/blob/main/notebooks/lec03.ipynb)\n",
    "\n",
    "> Click the badge above to open this notebook in Google Colab. You are also welcome to run notebooks in your own environment (VSCode, jupyter-notebook server, etc) if you know how to do that, but for now this link will let you get started without configuring your computer.\n",
    "\n",
    "Today I will step through some of the basic syntax in Python. In this class, I will often alternate between days like today when I introduce a bunch of new syntax or ideas, and a follow-on day where you'll have lots of exercises to work through on your own and master the material. \n",
    "\n",
    "Today's lecture will culminate in a demo of how to process some baseball statistics and talk about the Phillies. For those who already know a little Python, you have the option to sit in the back, read through the notebook, complete the final exercise and submit on canvas. If you have trouble you can keep an ear on the conversation, if you don't you can quietly slip out the back when you're done with the exercise."
   ]
  },
  {
   "cell_type": "markdown",
   "id": "465ab8fa",
   "metadata": {},
   "source": [
    "\n",
    "## To get started\n",
    "\n",
    "\n",
    "1. Log into your Google Drive folder. Every SEAS student should have access to Google Drive through their SEAS account.\n",
    "1. Create a new folder to store all of your ENGR 1050 work.\n",
    "1. In this document, click on `File > Save a copy in Drive`, and put the document in your ENGR 1050 folder.\n",
    "<font color=\"blue\">MAKE SURE YOU DO THIS STEP. This is a read-only document and while you can edit it in your browser, your changes will NOT be saved.</font>\n",
    "\n",
    "(You may have to add the Colaboratory add-on. If you are not able to edit this notebook within your Drive, click on `New > More > Connect more apps` and search for \"Collaboratory.\")"
   ]
  },
  {
   "cell_type": "markdown",
   "id": "66801ee3",
   "metadata": {},
   "source": [
    "# **Our first Python program!**"
   ]
  },
  {
   "cell_type": "code",
   "execution_count": null,
   "id": "dc4699e1",
   "metadata": {},
   "outputs": [],
   "source": [
    "print(\"Welcome to ENGR 1050!\")"
   ]
  },
  {
   "cell_type": "markdown",
   "id": "9526d86a",
   "metadata": {},
   "source": [
    "The code above is an example of **Python code**. Let's break it down."
   ]
  },
  {
   "cell_type": "markdown",
   "id": "c8e6ddaf",
   "metadata": {},
   "source": [
    "![printbreakdown.png](data:image/png;base64,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)"
   ]
  },
  {
   "cell_type": "markdown",
   "id": "d1e775b5",
   "metadata": {},
   "source": [
    "The <font color=\"blue\">first part</font> is `print`. This is a **function call** (we'll learn more about functions later). Basically, you can think about this as special code that the developers of Python have already written and given a name so that you can use it yourself more easily.\n",
    "\n",
    "The <font color=\"blue\">second part</font> is `\"Welcome to ENGR 1050!\"`. The **parentheses** tell Python that this is the input to the function. The function `print` will take the input and do something with it, in this case print it to the screen. If you change the input, the function `print` will still have the same general behavior but different specific outputs."
   ]
  },
  {
   "cell_type": "markdown",
   "id": "c59d48a1",
   "metadata": {},
   "source": [
    "## Multiline programs\n",
    "We can create more complex programs by using multiple lines of code. Check the below example."
   ]
  },
  {
   "cell_type": "code",
   "execution_count": null,
   "id": "70677519",
   "metadata": {},
   "outputs": [],
   "source": [
    "print(\"ENGR 1050 is on scientific computation.\")\n",
    "print(\"To learn about computation, we'll first learn about Python.\")"
   ]
  },
  {
   "cell_type": "markdown",
   "id": "1884e362",
   "metadata": {},
   "source": [
    "**Exercise:** Add a new code cell under this one and write a program that prints \"Hello, [your name]\" in a box like this (square brackets [] mean fill in with your own info):\n"
   ]
  },
  {
   "cell_type": "markdown",
   "id": "5e8ffebd",
   "metadata": {},
   "source": [
    "# **Variables**\n",
    "\n",
    "Variables allow you to make your code more readable and general. Python allows you to assign variables values so that you can use them later. Take a look at the following code:\n"
   ]
  },
  {
   "cell_type": "code",
   "execution_count": null,
   "id": "849dc4d3",
   "metadata": {},
   "outputs": [],
   "source": [
    "name = \"Prof Trask\"\n",
    "print(\"My name is \" + name)"
   ]
  },
  {
   "cell_type": "markdown",
   "id": "3ce37f45",
   "metadata": {},
   "source": [
    "In the code above, I used a pound symbol (#) to denote a comment. You can drop these into code to help make it more readable."
   ]
  },
  {
   "cell_type": "markdown",
   "id": "945ffc48",
   "metadata": {},
   "source": [
    "## Variable Naming\n",
    "\n",
    "**Variable names**\n",
    "- must start with a letter or underscore\n",
    "- can only contain letters, numbers, or underscores\n",
    "\n",
    "**Variable values** can be\n",
    "- numbers (integers, decimals, positive, negative)\n",
    "- text (denoted by quotes \"\")\n",
    "- booleans (True or False only)\n",
    "\n",
    "Let's see what happens if you don't follow the rules.\n",
    "For each of the following variable names, **add a code cell** and try to set the variable name to a value (your choice what that value is, but try at least one of each category above). Below these code cells, add a text cell explaining which variable names are valid, which are not, and why. Take note of the errors you get for each of these names.\n",
    "1. `var`\n",
    "1. `_and`\n",
    "1. `var1`\n",
    "1. `1var`\n",
    "1. `my_name`\n",
    "1. `your-name`\n",
    "1. `COLOR`\n",
    "\n",
    "**NOTE: variable names are case-sensitive**. The variable myname is NOT the same as myName"
   ]
  },
  {
   "cell_type": "markdown",
   "id": "e46a7f16",
   "metadata": {},
   "source": [
    "## Put it together\n",
    "\n",
    "**Add a new code cell under this one** where you rewrite your multiline print statement from above. Define a new variable for your name. Choose a meaningful variable name."
   ]
  },
  {
   "cell_type": "markdown",
   "id": "95c8e64d",
   "metadata": {},
   "source": [
    "**Fun challenge exercise:** update your code so that your printed shape is wrapped in a box of stars no matter what the text in the variable is.\n",
    "```\n",
    "*****************************************\n",
    "*                                       *\n",
    "*          My name is Nat               *\n",
    "*                                       *\n",
    "*****************************************\n",
    "```\n",
    "Some useful tools:\n",
    "- The command `len(var)` returns the length of the text stored in the variable `var`.\n",
    "- String concatenation can also be done with the `*` sign. `var*n` creates a new string with `n` copies of the text inside of `var`.\n",
    "\n",
    "You can experiment with both of these commands in a separate code cell before using them in your printing code to see how they work."
   ]
  },
  {
   "cell_type": "code",
   "execution_count": null,
   "id": "09251a80",
   "metadata": {},
   "outputs": [],
   "source": [
    "# put code here to print a box around your name"
   ]
  },
  {
   "cell_type": "markdown",
   "id": "688af6ee",
   "metadata": {},
   "source": [
    "# **Arithmetic**\n",
    "\n",
    "Python can do math with numbers and variables with numerical values. Operations include:\n",
    "1. addition (`+`):  `5+3`\n",
    "1. subtraction (`-`): `5-3`\n",
    "1. multiplication (`*`): `5*3`\n",
    "1. division (`/`): `5/3`\n",
    "1. exponentiation (`**`): `5**3`\n",
    "1. modulo/remainder (`%`): `5%3`\n",
    "\n",
    "Order of operations is the same as in math: parentheses, exponents, multiplication/division, addition/subtraction"
   ]
  },
  {
   "cell_type": "markdown",
   "id": "e3e26d15",
   "metadata": {},
   "source": [
    "When we want to manipulate numbers as strings, we need to turn them into a string using the `str` command. The following will give an error which needs to be fixed by *casting* `year` as `str(year)`."
   ]
  },
  {
   "cell_type": "code",
   "execution_count": null,
   "id": "cb779b6f",
   "metadata": {},
   "outputs": [],
   "source": [
    "year = 2025\n",
    "print('The year is ' + year) "
   ]
  },
  {
   "cell_type": "markdown",
   "id": "7ef05a3d",
   "metadata": {},
   "source": [
    "# **Boolean variables and operations**\n",
    "Boolean variables consist of `True` and `False`. They are used to perform logical operations - we'll later show how to use these to steer the logic of a program using if statements. For reference, here are some operations on Boolean variables.\n",
    "\n",
    "Watching out for the capital T and F in `True` and `False`! It's case sensitive and this will be a common bug in your code."
   ]
  },
  {
   "cell_type": "code",
   "execution_count": null,
   "id": "61c7dc04",
   "metadata": {},
   "outputs": [],
   "source": [
    "a = True\n",
    "b = False   \n",
    "print('a AND b = ' + str(a and b))  \n",
    "print('a OR b = ' + str(a or b))   \n",
    "print('NOT a = ' + str(not a))    \n",
    "print('a != b = ' + str(a != b))   \n",
    "print('a == b = ' + str(a == b))  "
   ]
  },
  {
   "cell_type": "markdown",
   "id": "23f2a391",
   "metadata": {},
   "source": [
    "We can also use operators to compare integers and floating point numbers"
   ]
  },
  {
   "cell_type": "code",
   "execution_count": null,
   "id": "07810f40",
   "metadata": {},
   "outputs": [],
   "source": [
    "a = 1.2\n",
    "b = 3\n",
    "\n",
    "print('a < b = ' + str(a < b))   \n",
    "print('a <= b = ' + str(a <= b))  \n",
    "print('a > b = ' + str(a > b))   \n",
    "print('a >= b = ' + str(a >= b))   \n",
    "print('a != b = ' + str(a != b))  "
   ]
  },
  {
   "cell_type": "markdown",
   "id": "c6e8d83a",
   "metadata": {},
   "source": [
    "**Example:** Two trains are on the same track approaching each other at a speed of 50mph and 80mph, respectively. They are currently 300mi. apart. Will they collide after 2 hours?\n",
    "\n",
    "*Tips:* For more complicated code, write out a gameplan for how to solve using comments, then come back and convert to python code"
   ]
  },
  {
   "cell_type": "code",
   "execution_count": null,
   "id": "355bcad5",
   "metadata": {},
   "outputs": [],
   "source": [
    "# define relevant variables\n",
    "\n",
    "# the relative speed of the two trains is the sum of their speeds\n",
    "\n",
    "# time until collision = distance / relative speed\n",
    "\n",
    "# compare whether collision time is less than 2 hours\n",
    "\n",
    "# print response"
   ]
  },
  {
   "cell_type": "markdown",
   "id": "13750f6e",
   "metadata": {},
   "source": [
    "# **Running code over multiple cells**\n",
    "\n",
    "The notebook remembers previous cells that you have executed and reuses variables in new cells you write. This can be useful if you are trying to break code into multiple blocks, but it can also be dangerous if you forget that you already used a variable name.\n",
    "\n",
    "Here are a few blocks of code:"
   ]
  },
  {
   "cell_type": "code",
   "execution_count": null,
   "id": "a976c311",
   "metadata": {},
   "outputs": [],
   "source": [
    "# BLOCK 1\n",
    "var1 = 10\n",
    "var2 = 4"
   ]
  },
  {
   "cell_type": "code",
   "execution_count": null,
   "id": "0bb1c662",
   "metadata": {},
   "outputs": [],
   "source": [
    "# BLOCK 2\n",
    "print(var1 + var2)"
   ]
  },
  {
   "cell_type": "code",
   "execution_count": null,
   "id": "3063cdf0",
   "metadata": {},
   "outputs": [],
   "source": [
    "# BLOCK 3\n",
    "var1 = 4\n",
    "var3 = 7"
   ]
  },
  {
   "cell_type": "code",
   "execution_count": null,
   "id": "6342c291",
   "metadata": {},
   "outputs": [],
   "source": [
    "# BLOCK 4\n",
    "print(var1 - var3)"
   ]
  },
  {
   "cell_type": "markdown",
   "id": "91cf85f7",
   "metadata": {},
   "source": [
    "Try the following sequence of operations:\n",
    "1. run Block 1\n",
    "1. run Block 2\n",
    "1. run Block 3\n",
    "1. run Block 4\n",
    "1. run Block 2\n",
    "1. delete Block 3\n",
    "1. run Block 4\n",
    "\n",
    "**What happened?** Add a markdown block below and describe."
   ]
  },
  {
   "cell_type": "markdown",
   "id": "25ba2512",
   "metadata": {},
   "source": [
    "To be safe, you can always test for strange dependencies on historical variables by clicking on (at the top of the notebook) `Runtime > Restart and run all`, then scroll through the notebook to see if any of your results have changed."
   ]
  },
  {
   "cell_type": "markdown",
   "id": "15c97ed7",
   "metadata": {},
   "source": [
    "# Lists\n",
    "So far we've learned about variables, which allow us to store information that we might want to use later in a program. For example,\n",
    "```\n",
    "x = 1\n",
    "```\n",
    "creates a variable called `x` that carries the value 1 whenever you use `x` later in the program. The real power of working with a computer is that you can work with many variables at the same time. The natural way to work with these in python is through *lists*.\n",
    "\n",
    "**Example code:**\n",
    "```python\n",
    "example_of_a_list = [1, 3, 6, -1, 2, 4]\n",
    "print(example_of_a_list)  # prints the whole list"
   ]
  },
  {
   "cell_type": "code",
   "execution_count": null,
   "id": "d75ad63d",
   "metadata": {},
   "outputs": [],
   "source": [
    "# try here"
   ]
  },
  {
   "cell_type": "markdown",
   "id": "adbb4e1e",
   "metadata": {},
   "source": [
    "A list is denoted by square brackets, with elements of the list separated by commas.\n",
    "\n",
    "Lists can contain multiple different value types. For example,"
   ]
  },
  {
   "cell_type": "code",
   "execution_count": null,
   "id": "0ef77b06",
   "metadata": {},
   "outputs": [],
   "source": [
    "mixed_list = [1, \"hello\", -5.3, True]\n",
    "print(mixed_list)  # prints the whole list"
   ]
  },
  {
   "cell_type": "markdown",
   "id": "01fc2c89",
   "metadata": {},
   "source": [
    "For many tasks, we are going to need to pop up a list of numbers to help us count. Python gives a shorthand for this called `range`.\n",
    "\n",
    "Because it can be wasteful to store the actual list of numbers, you will need to tell Python to convert range into a list, the exact same way that we converted integers to strings before."
   ]
  },
  {
   "cell_type": "code",
   "execution_count": null,
   "id": "b33d83f5",
   "metadata": {},
   "outputs": [],
   "source": [
    "print(range(10))  # prints range(0, 10) - this is a special \"range\" object, not a list\n",
    "print(list(range(10))) # prints the list [0, 1, 2, 3, 4, 5, 6, 7, 8, 9]"
   ]
  },
  {
   "cell_type": "markdown",
   "id": "d5f3e451",
   "metadata": {},
   "source": [
    "Often times you won't want a list of numbers from `0` to `N-1`. \n",
    "\n",
    "If you give two arguments `range(a,b)` you will get `a` to `b-1`.\n",
    "\n",
    "If you provide a third argument `range(a,b,c)` it will traverse the range in steps of `c`. For a negative `c` it will traverse backwards."
   ]
  },
  {
   "cell_type": "code",
   "execution_count": null,
   "id": "f7b59d3e",
   "metadata": {},
   "outputs": [],
   "source": [
    "# examples of syntax for using range:\n",
    "print(list(range(3, 10)))  # prints [3, 4, 5, 6, 7, 8, 9]\n",
    "print(list(range(3, 10, 2)))  # prints [3, 5, 7, 9]\n",
    "print(list(range(10, 3, -1)))  # prints [10, 9, 8, 7, 6, 5, 4]"
   ]
  },
  {
   "cell_type": "markdown",
   "id": "a42d5a83",
   "metadata": {},
   "source": [
    "## Accessing List Entries\n",
    "\n",
    "You can access the *elements* in a list by using square brackets as in\n",
    "\n",
    "```\n",
    "list_name[index]\n",
    "```\n",
    "\n",
    "Python counts the index of the elements starting at 0, so\n",
    "`the_list[0]`\n",
    "grabs the first element of `the_list`, `the_list[1]` grabs the second element, and so on.\n",
    "\n",
    "You can also grab elements from the back using negative indices, so `the_list[-1]` grabs the last element, `the_list[-2]` grabs the second to last, and so on."
   ]
  },
  {
   "cell_type": "code",
   "execution_count": null,
   "id": "e844c412",
   "metadata": {},
   "outputs": [],
   "source": [
    "# Here is a list of numbers\n",
    "new_list = [3, 5, -2, 9, 0, 1]\n",
    "# Practice indexing to print the first, third, and second to last elements of new_list:\n",
    "\n",
    "# add stuff here!"
   ]
  },
  {
   "cell_type": "markdown",
   "id": "bf855adf",
   "metadata": {},
   "source": [
    "## For loops 101"
   ]
  },
  {
   "cell_type": "markdown",
   "id": "58668693",
   "metadata": {},
   "source": [
    "A main task of programming is to automate repeated tasks. We will learn a few ways to do this, but for today we'll learn about **for loops** which will be your bread and butter way of doing this."
   ]
  },
  {
   "cell_type": "markdown",
   "id": "a6be0668",
   "metadata": {},
   "source": [
    "A **for loop** is used to repeat a block of code multiple times.  \n",
    "It is especially useful when you want to *iterate* over a sequence such as a list, string, or range of numbers.\n",
    "\n",
    "### Basic Syntax\n",
    "\n",
    "```python\n",
    "for variable in list:\n",
    "    # code block that runs each time, swapping in the value of variable\n",
    "```\n",
    "\n",
    "Indentation means adding spaces at the beginning of a line.  You can see the second line is indented - this inner *block* is how we signify the chunk of code to be repeated.\n",
    "\n",
    "In Python, indentation is **not optional**—it defines which lines of code belong to a block.\n",
    "\n",
    "### Example\n",
    "\n",
    "```python\n",
    "for i in range(3):\n",
    "    print(\"Inside the loop\")   # indented → part of the loop\n",
    "print(\"Outside the loop\")      # not indented → runs once after the loop\n",
    "```\n",
    "\n",
    "Here are some examples showing how you can traverse a list and print out each element"
   ]
  },
  {
   "cell_type": "code",
   "execution_count": null,
   "id": "35002a3d",
   "metadata": {
    "vscode": {
     "languageId": "markdown"
    }
   },
   "outputs": [],
   "source": [
    "for i in [0,1,2,3,4]:\n",
    "    print(i)"
   ]
  },
  {
   "cell_type": "code",
   "execution_count": null,
   "id": "e544495a",
   "metadata": {
    "vscode": {
     "languageId": "markdown"
    }
   },
   "outputs": [],
   "source": [
    "for i in range(5):\n",
    "    print(i)"
   ]
  },
  {
   "cell_type": "markdown",
   "id": "854233f5",
   "metadata": {},
   "source": [
    "This can be used to automate the same action applied over an entire list. The following example gives a list of the starting lineup for the Phillies and their batting averages. Note that this shows some new details of how to make lists and use range:\n",
    "- Lists can be spread out over multiple lines to make them easy to read\n",
    "- `range(len(some_list))` is a useful way to generate a list that matches the length of `some_list`\n",
    "\n",
    "**Example code:**\n",
    "```python\n",
    "# List of Phillies starting lineup \n",
    "players = [\n",
    "    \"Kyle Schwarber\",\n",
    "    \"Trea Turner\",\n",
    "    \"Bryce Harper\",\n",
    "    \"Alec Bohm\",\n",
    "    \"JT Realmuto\",\n",
    "    \"Nick Castellanos\",\n",
    "    \"Bryson Stott\",\n",
    "    \"Johan Rojas\",\n",
    "    \"Cristian Pache\"\n",
    "]\n",
    "\n",
    "# Corresponding batting averages\n",
    "averages = [0.247, 0.276, 0.293, 0.285, 0.260, 0.272, 0.267, 0.235, 0.250]\n",
    "\n",
    "# Loop through both lists by index\n",
    "for i in range(len(players)):\n",
    "    print(players[i] + \": batting average \" + str(averages[i]))"
   ]
  },
  {
   "cell_type": "code",
   "execution_count": null,
   "id": "8c7f417b",
   "metadata": {
    "vscode": {
     "languageId": "markdown"
    }
   },
   "outputs": [],
   "source": [
    "# try here"
   ]
  },
  {
   "cell_type": "markdown",
   "id": "a3885fc3",
   "metadata": {},
   "source": [
    "# Using for loops to build up a list element by element using (`append`)\n",
    "\n",
    "Sometimes you don’t know all the values of a list in advance, but you can generate them with a loop.  \n",
    "You start with an empty list, then use the **`.append()`** function to add one element at a time inside a `for` loop.\n",
    "\n",
    "### Example.\n",
    "The follow takes number 1 through 5 and builds a list consisting of their squares\n",
    "```python\n",
    "squares = []                # start with an empty list\n",
    "\n",
    "for i in range(1, 6):       # loop over numbers 1 through 5\n",
    "    squares.append(i * i)   # add the square of i to the list\n",
    "\n",
    "print(squares)\n"
   ]
  },
  {
   "cell_type": "code",
   "execution_count": null,
   "id": "50d3ff5f",
   "metadata": {
    "vscode": {
     "languageId": "markdown"
    }
   },
   "outputs": [],
   "source": [
    "# try here"
   ]
  },
  {
   "cell_type": "markdown",
   "id": "e1ad3e0a",
   "metadata": {},
   "source": [
    "# If statements 101"
   ]
  },
  {
   "cell_type": "markdown",
   "id": "e59512f8",
   "metadata": {},
   "source": [
    "An **if statement** is used to make decisions in your code.  \n",
    "It allows you to run a block of code *only if* a certain condition is true.  \n",
    "You can also chain conditions with **elif** (else if) and provide a default action with **else**.\n",
    "\n",
    "### Basic Syntax\n",
    "\n",
    "```python\n",
    "if condition1:\n",
    "    # runs if condition1 is true\n",
    "elif condition2:\n",
    "    # runs if condition1 is false AND condition2 is true\n",
    "elif condition3:\n",
    "    # runs if condition1 is false AND condition2 is false AND condition3 is true\n",
    "else:\n",
    "    # runs if none of the above conditions are true\n",
    "```\n",
    "\n",
    "You can omit the `elif` and the `else` conditions and blocks if you don't need them. We'll get more into the weeds about this in a later lecture - for today we're just going to put together a basic program.\n",
    "\n",
    "Remember to be careful with your indents!\n",
    "```python\n",
    "x = 5\n",
    "\n",
    "if x > 10:\n",
    "    print(\"x is greater than 10\")      # runs only if condition is true\n",
    "elif x > 3:\n",
    "    print(\"x is greater than 3\")       # runs only if first test fails, but this one is true\n",
    "else:\n",
    "    print(\"x is 3 or less\")            # runs only if all above tests fail\n",
    "print(\"This line always runs\")         # not indented → runs no matter what\n",
    "```"
   ]
  },
  {
   "cell_type": "markdown",
   "id": "1c537678",
   "metadata": {},
   "source": [
    "Here's an example of how to use an if statement without the elif and else blocks:\n",
    "\n",
    "```python\n",
    "x = 2.5\n",
    "\n",
    "if x > 2.0:\n",
    "    print(\"x is greater than 2.0\")\n",
    "if x <= 2.0:\n",
    "    print(\"x is not greater than 2.0\")\n",
    "if x < 3.0:\n",
    "    print(\"x is less than 3.0\")\n",
    "if x >= 3.0:\n",
    "    print(\"x is not less than 3.0\")"
   ]
  },
  {
   "cell_type": "code",
   "execution_count": null,
   "id": "022ef732",
   "metadata": {
    "vscode": {
     "languageId": "markdown"
    }
   },
   "outputs": [],
   "source": [
    "# try here"
   ]
  },
  {
   "cell_type": "markdown",
   "id": "315d4f6a",
   "metadata": {},
   "source": [
    "And here's an example of how to use elif and else:\n",
    "\n",
    "```python\n",
    "y = 4.2\n",
    "\n",
    "if y > 5.0:\n",
    "    print(\"y is greater than 5.0\")\n",
    "elif y > 3.0:\n",
    "    print(\"y is greater than 3.0 but not greater than 5.0\")\n",
    "else:\n",
    "    print(\"y is 3.0 or less\")"
   ]
  },
  {
   "cell_type": "code",
   "execution_count": null,
   "id": "2c582be5",
   "metadata": {
    "vscode": {
     "languageId": "markdown"
    }
   },
   "outputs": [],
   "source": [
    "# try here"
   ]
  },
  {
   "cell_type": "markdown",
   "id": "7b252dd5",
   "metadata": {},
   "source": [
    "**Warning:** In floating point arithmetic, there are some funny things that happen."
   ]
  },
  {
   "cell_type": "markdown",
   "id": "6d910c3b",
   "metadata": {},
   "source": [
    "Computers store floating-point numbers in binary, which can introduce tiny rounding errors. As we get into scientific computing, we will see this pop up over and over again. For now, this will be our first glimpse at the way how numbers are stored on silcon in the computer need to be accounted for when we write code.\n",
    "\n",
    "Direct equality checks may not behave as expected:\n",
    "\n",
    "```python\n",
    "z = 0.1 + 0.2\n",
    "print(z)          # prints 0.30000000000000004\n",
    "print(z == 0.3)   # prints False\n",
    "```\n",
    "\n",
    "This is because to the computer, `0.1+0.3 ~= 0.4 + 1e-15`. This approximate `1e-15` number is the smallest number that can be represented, and we'll spend lots of time talking about it. To safely compare if two numbers are equal, you can instead use the `abs` function to check if the absolute value of their difference is sufficiently small using a *tolerance*. \n",
    "\n",
    "```python\n",
    "if abs(z - 0.3) < 1e-9:   # tolerance of 1e-9\n",
    "    print(\"z is approximately equal to 0.3\")\n",
    "```\n"
   ]
  },
  {
   "cell_type": "markdown",
   "id": "91c29ca7",
   "metadata": {},
   "source": [
    "## Example: Finding the Maximum Number in a List \n",
    "\n",
    "We can find the largest number in a list by:\n",
    "1. Starting with the first element as our \"current maximum\".\n",
    "2. Looping through the rest of the list.\n",
    "3. Using an `if` statement to check if the current element is larger than our current maximum.\n",
    "4. Updating the maximum if the condition is true.\n",
    "\n",
    "### Example\n",
    "\n",
    "```python\n",
    "numbers = [12, 7, 19, 3, 25, 8]\n",
    "\n",
    "# We will loop through the list, keeping track of the running maximum and what index it occurs at in max_number and max_index\n",
    "\n",
    "# Step 1: Start with the first element as a guess for the maximum\n",
    "max_number = numbers[0]\n",
    "max_index = 0\n",
    "\n",
    "# Step 2: Loop through the list\n",
    "for i in range(len(numbers)):\n",
    "    # Step 3: Check if the current number is larger\n",
    "    if numbers[i] > max_number:\n",
    "        # Step 4: Update the maximum\n",
    "        max_number = numbers[i]\n",
    "        max_index = i\n",
    "\n",
    "print(\"The maximum number is: \" + str(max_number) + \" and it occurs at index \" + str(max_index) + \".\" )\n"
   ]
  },
  {
   "cell_type": "code",
   "execution_count": null,
   "id": "336b187f",
   "metadata": {
    "vscode": {
     "languageId": "markdown"
    }
   },
   "outputs": [],
   "source": [
    "# try here"
   ]
  },
  {
   "cell_type": "markdown",
   "id": "8e13f487",
   "metadata": {},
   "source": [
    "# Today's exercise: getting to know your local baseball team"
   ]
  },
  {
   "cell_type": "markdown",
   "id": "64914020",
   "metadata": {},
   "source": [
    "Below I've compiled a list of stats for the Philadelphia Phillies, your friendly neighborhood baseball team. To get some practice using for loops to process lists of data, you are going to do a strategic analysis of the Phillies offense. This way, when you're riding the MFL to Center City and a friendly Philadelphian asks you whether we have a good enough offense to make the World Series, you can say something intelligible.\n",
    "\n",
    "In baseball, there are a couple kinds of hitters - those who can strategically get on base, and those who hit big home runs and send everyone on base home for a run. I've given you three lists below:\n",
    "- A list of the players\n",
    "- A list of batting averages for each player\n",
    "- A list of RBIs for each player\n",
    "\n",
    "I've also given a short description of what these numbers mean, for those seeing baseball for the first time.\n",
    "\n",
    "Your program should produce a print statement of the following form:\n",
    "`\"[Name 1] is good at getting on base, [Name 2] is good at sending people home.\"`\n",
    "\n",
    "If you want to sound like you're from Philly, you can complain about them even though they're our best players:\n",
    "`\"We could've won last night with the way [Name 1] was hitting, but [Name 2] couldn't get it together and put the runs on the board.\"`\n",
    "\n",
    "**Strategy to approach this problem:**\n",
    "- This is a complicated program. Chart out the steps using comments in your code.\n",
    "- You will need to step through lists of batting averages and identify which index in both stat lists is the biggest\n",
    "- You will need to use those two numbers to pull out the corresponding name of the player.\n",
    "- You will then need to print a string filling out the template above.\n",
    "\n",
    "For todays in-class exercise you will complete this alone. You are welcome to (and *encouraged*) to talk to neighbors to figure out tricky bits and get help when you run into bugs. The TA and I will float around answering questions, just raise your hand. After we've worked on this for a bit I will come back to the front and step through a solution. Submit this jupyter notebook to canvas at the end of class; as always if you finish early you're welcome to quietly leave without disrupting others."
   ]
  },
  {
   "cell_type": "markdown",
   "id": "94a6f494",
   "metadata": {},
   "source": [
    "## Baseball Stats: Batting Average and RBI\n",
    "\n",
    "- **Batting Average (AVG):**  \n",
    "  A measure of how often a player gets a hit when they are at bat.  \n",
    "  It is calculated as:\n",
    "\n",
    "  $$\n",
    "  \\text{Batting Average} = \\frac{\\text{Number of Hits}}{\\text{Number of At-Bats}}\n",
    "  $$\n",
    "\n",
    "  Example: a batting average of `.300` means the player gets a hit 30% of the time.\n",
    "\n",
    "- **Runs Batted In (RBI):**  \n",
    "  The number of runs a player causes to score by hitting the ball.  \n",
    "  If a teammate crosses home plate because of your hit, you earn an RBI.\n",
    "\n",
    "**Simplified analogy:**  \n",
    "- Batting average = “How often do you succeed?”  \n",
    "- RBI = “How many points do you help your team score?”\n"
   ]
  },
  {
   "cell_type": "code",
   "execution_count": null,
   "id": "116ce5d5",
   "metadata": {
    "vscode": {
     "languageId": "markdown"
    }
   },
   "outputs": [],
   "source": [
    "# Philadelphia Phillies — Full Offensive Roster (2025) with Batting Average and RBI \n",
    "\n",
    "players = [\n",
    "    \"Trea Turner\",\n",
    "    \"Kyle Schwarber\",\n",
    "    \"Nick Castellanos\",\n",
    "    \"J.T. Realmuto\",\n",
    "    \"Bryson Stott\",\n",
    "    \"Bryce Harper\",\n",
    "    \"Alec Bohm\",\n",
    "    \"Max Kepler\",\n",
    "    \"Brandon Marsh\",\n",
    "    \"Edmundo Sosa\",\n",
    "    \"Johan Rojas\",\n",
    "    \"Otto Kemp\",\n",
    "    \"Rafael Marchan\",\n",
    "    \"Harrison Bader\",\n",
    "    \"Weston Wilson\",\n",
    "    \"Cal Stevenson\",\n",
    "    \"Buddy Kennedy\",\n",
    "    \"Kody Clemens\",\n",
    "    \"Garrett Stubbs\"\n",
    "]\n",
    "\n",
    "batting_averages = [\n",
    "    0.301,  # Trea Turner\n",
    "    0.245,  # Kyle Schwarber\n",
    "    0.251,  # Nick Castellanos\n",
    "    0.264,  # J.T. Realmuto\n",
    "    0.248,  # Bryson Stott\n",
    "    0.269,  # Bryce Harper\n",
    "    0.269,  # Alec Bohm\n",
    "    0.295,  # Max Kepler\n",
    "    0.275,  # Brandon Marsh\n",
    "    0.200,  # Edmundo Sosa\n",
    "    0.253,  # Johan Rojas\n",
    "    0.000,  # Otto Kemp\n",
    "    0.000,  # Rafael Marchan\n",
    "    0.000,   # Harrison Bader (acquired mid-season; stats not in team table)\n",
    "    0.000,  # Weston Wilson\n",
    "    0.250,  # Cal Stevenson\n",
    "    0.000,  # Buddy Kennedy\n",
    "    0.000,  # Kody Clemens\n",
    "    0.000   # Garrett Stubbs\n",
    "]\n",
    "\n",
    "rbis = [\n",
    "    66,   # Trea Turner\n",
    "    119,  # Kyle Schwarber\n",
    "    61,   # Nick Castellanos\n",
    "    47,   # J.T. Realmuto\n",
    "    55,   # Bryson Stott\n",
    "    64,   # Bryce Harper\n",
    "    64,   # Alec Bohm\n",
    "    20,   # Max Kepler\n",
    "    31,   # Brandon Marsh\n",
    "    4,    # Edmundo Sosa\n",
    "    70,   # Johan Rojas\n",
    "    0,    # Otto Kemp\n",
    "    0,    # Rafael Marchan\n",
    "    0,    # Harrison Bader\n",
    "    0,    # Weston Wilson\n",
    "    0,    # Cal Stevenson\n",
    "    0,    # Buddy Kennedy\n",
    "    0,    # Kody Clemens\n",
    "    0     # Garrett Stubbs\n",
    "]\n"
   ]
  },
  {
   "cell_type": "code",
   "execution_count": null,
   "id": "dc8c77b7",
   "metadata": {
    "vscode": {
     "languageId": "markdown"
    }
   },
   "outputs": [],
   "source": [
    "# Write you code here. We will check this box when grading today's in-class assignment"
   ]
  },
  {
   "cell_type": "markdown",
   "id": "d2124c68",
   "metadata": {},
   "source": [
    "The in-class assignment for the day is to be submited on [Canvas](https://canvas.upenn.edu/courses/1881448/assignments/13942478) by Friday 9/5. "
   ]
  },
  {
   "cell_type": "markdown",
   "id": "b5d0b277",
   "metadata": {},
   "source": []
  }
 ],
 "metadata": {
  "kernelspec": {
   "display_name": "base",
   "language": "python",
   "name": "python3"
  },
  "language_info": {
   "codemirror_mode": {
    "name": "ipython",
    "version": 3
   },
   "file_extension": ".py",
   "mimetype": "text/x-python",
   "name": "python",
   "nbconvert_exporter": "python",
   "pygments_lexer": "ipython3",
   "version": "3.12.7"
  }
 },
 "nbformat": 4,
 "nbformat_minor": 5
}
