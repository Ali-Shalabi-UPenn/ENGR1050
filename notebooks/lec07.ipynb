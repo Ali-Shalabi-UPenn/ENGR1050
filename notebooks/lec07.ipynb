{
  "cells": [
    {
      "cell_type": "markdown",
      "id": "e1defda3",
      "metadata": {
        "id": "e1defda3"
      },
      "source": [
        "# Lecture 7: Classes, dictionaries and refactoring\n",
        "[![Open In Colab](https://colab.research.google.com/assets/colab-badge.svg)](https://colab.research.google.com/github/PIMILab/ENGR1050/blob/main/notebooks/lec07.ipynb)\n",
        "\n",
        "Our first unit is drawing to a close, and in principle everyone should now have a handle on python basics."
      ]
    },
    {
      "cell_type": "markdown",
      "id": "256e4b37",
      "metadata": {
        "id": "256e4b37"
      },
      "source": [
        "## To get started\n",
        "\n",
        "Run the block of code to generate a subdirectory where you can store data."
      ]
    },
    {
      "cell_type": "code",
      "execution_count": 20,
      "id": "5ba11abb",
      "metadata": {
        "colab": {
          "base_uri": "https://localhost:8080/"
        },
        "id": "5ba11abb",
        "outputId": "2fa24ba1-69b0-42be-a1c6-7c2cdb229624"
      },
      "outputs": [
        {
          "output_type": "stream",
          "name": "stdout",
          "text": [
            "Data/ directory ensured\n"
          ]
        }
      ],
      "source": [
        "import os\n",
        "# Ensure a small data folder to store downloaded data\n",
        "os.makedirs('Data', exist_ok=True)\n",
        "print('Data/ directory ensured')"
      ]
    },
    {
      "cell_type": "markdown",
      "id": "eaa15059",
      "metadata": {
        "id": "eaa15059"
      },
      "source": [
        "# Overview for today"
      ]
    },
    {
      "cell_type": "markdown",
      "id": "be995f5c",
      "metadata": {
        "id": "be995f5c"
      },
      "source": [
        "Today we will introduce\n",
        "- Dictionaries\n",
        "- Classes\n",
        "\n",
        "Then we will do an in-class exercise to *refactor* our previous stress/strain data into a nice class that's easy to work with.\n",
        "\n",
        "**Reminder:** Monday is an exam prep day, Wed is our first exam. There is [one more homework](https://canvas.upenn.edu/courses/1881448/assignments/13974459) that will be due a week from Monday so that you have some extra time after the exam to work on it.\n",
        "\n",
        "In today's lecture I pointed to some resources you can use to help prepare for the exam. Remember that learning Python is like learning a foreign language; you can try memorizing syntax/grammar, but at the end of the day you will only become fluent through practice! In the course I've intentionally avoided more complicated aspects of Python to get you up and running, so these will have more in them than what you need. If you stick to the variables, lists, loops, conditionals, and classes sections you will get good practice for the exam.\n",
        "\n",
        "| Platform | Link | Key Features | Notes |\n",
        "|----------|------|--------------|--------------------|\n",
        "| **FutureCoder** | [futurecoder.io](https://futurecoder.io) | Fully interactive, step-by-step lessons with debugging tools, error explanations, and exercises. | Excellent for complete beginners; focuses on learning by doing. |\n",
        "| **LearnPython.org** | [learnpython.org](https://www.learnpython.org) | Interactive tutorials covering Python basics (variables, loops, functions, data structures). | More comprehensive, including more features than we covered in class.|"
      ]
    },
    {
      "cell_type": "markdown",
      "id": "b5491687",
      "metadata": {
        "id": "b5491687"
      },
      "source": [
        "# Dictionaries"
      ]
    },
    {
      "cell_type": "markdown",
      "id": "d968e7cd",
      "metadata": {
        "id": "d968e7cd"
      },
      "source": [
        "### Basic syntax\n",
        "\n",
        "```python\n",
        "dictionaryName = {key1:value1,...,keyN:valueN}\n",
        "```\n",
        "\n",
        "where `key1`-`keyN` are keys (typically a string) and `value1`-`valueN` are objects associated with the key (can be anything, same as a list)"
      ]
    },
    {
      "cell_type": "markdown",
      "id": "93e98b38",
      "metadata": {
        "id": "93e98b38"
      },
      "source": [
        "### Simple example\n",
        "Lets say I'm trying to keep track of how many pets I have in my house. I could store that information in a list.\n",
        "```python\n",
        "list1 = ['Cats','Dogs','Lizards']\n",
        "list2 = [6,3,18]\n",
        "for dataPair in zip(list1,list2):\n",
        "    if dataPair[0] == 'Lizards':\n",
        "        print(f'Prof Trask has {dataPair[1]} {dataPair[0]} in his house.')\n",
        "```\n",
        "\n",
        "That's painful, particularly if you have a huge list. Instead, we can directly grab entries through the keys of a dictionary.\n",
        "```python\n",
        "mydict = {'Cats':6,'Dogs':3,'Lizards':18}\n",
        "key = 'Lizards'\n",
        "print(f'Prof Trask has {mydict[key]} {key} in his house.')\n",
        "```"
      ]
    },
    {
      "cell_type": "code",
      "source": [
        "list1 = ['Cats','Dogs','Lizards']\n",
        "list2 = [6,3,18]\n",
        "for dataPair in zip(list1,list2):\n",
        "    if dataPair[0] == 'Lizards':\n",
        "        print(f'Prof Trask has {dataPair[1]} {dataPair[0]} in his house.')"
      ],
      "metadata": {
        "colab": {
          "base_uri": "https://localhost:8080/"
        },
        "id": "yKac1QU35tg5",
        "outputId": "9743ebef-68f4-4686-ebd1-6f4a457a63e7"
      },
      "id": "yKac1QU35tg5",
      "execution_count": 1,
      "outputs": [
        {
          "output_type": "stream",
          "name": "stdout",
          "text": [
            "Prof Trask has 18 Lizards in his house.\n"
          ]
        }
      ]
    },
    {
      "cell_type": "code",
      "source": [
        "mydict = {'Cats':6,'Dogs':3,'Lizards':18}\n",
        "key = 'Lizards'\n",
        "print(f'Prof Trask has {mydict[key]} {key} in his house.')\n"
      ],
      "metadata": {
        "colab": {
          "base_uri": "https://localhost:8080/"
        },
        "id": "xv-s9k5z5zNA",
        "outputId": "be7d590c-be15-41ac-ca5f-ca11a7862b15"
      },
      "id": "xv-s9k5z5zNA",
      "execution_count": 2,
      "outputs": [
        {
          "output_type": "stream",
          "name": "stdout",
          "text": [
            "Prof Trask has 18 Lizards in his house.\n"
          ]
        }
      ]
    },
    {
      "cell_type": "markdown",
      "id": "8ff1815f",
      "metadata": {
        "id": "8ff1815f"
      },
      "source": [
        "### Basic functionality (quick reference)\n",
        "- **Create**:\n",
        "\t```python\n",
        "\t# a couple ways to create empty dictionaries\n",
        "\tmydict = {}\n",
        "\tother = dict()\n",
        "\t# or to initialize a dictionary so that is starts with several entries\n",
        "\tmydict2 = {\"key1\":1.2,\"key2\":3.5}\n",
        "\t```\n",
        "- **Read**:\n",
        "\t```python\n",
        "\t# direct (may raise KeyError if the key hasn't been defined)\n",
        "\tvalue = mydict['key']\n",
        "\t# safe (if key5 hasn't been defined, return a default value)\n",
        "\tvalue = mydict.get('key', 0)\n",
        "\t```\n",
        "- **Write**:\n",
        "\t```python\n",
        "\t# add a key. if the key already exists change the value associated with it\n",
        "\tmydict['temperature'] = 23.5\n",
        "\t```\n",
        "- **Remove**:\n",
        "\t```python\n",
        "\t# delete an entry (KeyError if missing)\n",
        "\tdel mydict['temperature']\n",
        "\t# pop with default (works the same way as pop for lists, returns default value [None] if key doesn't exist)\n",
        "\ttemp = mydict.pop('temperature', None)\n",
        "\t```\n",
        "- **Iterate**:\n",
        "\t```python\n",
        "\t# keys only\n",
        "\tfor k in mydict:\n",
        "\t    print(k, mydict[k])\n",
        "\t# values only\n",
        "\tfor v in mydict.values():\n",
        "\t    print(v)\n",
        "\t# key/value pairs\n",
        "\tfor k, v in mydict.items():\n",
        "\t    print(k, v)\n",
        "\t```"
      ]
    },
    {
      "cell_type": "markdown",
      "id": "6a6122fb",
      "metadata": {
        "id": "6a6122fb"
      },
      "source": [
        "## Exercise 1\n",
        "\n",
        "From Lecture 3 we had the following lists of players and RBIs. If I asked you to get Garrett Stubbs' RBIs, you would need to use a `for` loop to iterate all the way to the bottom of the list, find the `stubbsIndex` associated with that name, and then look up the corresponding `rbi[stubbsIndex]`. As you start looking at datasets with billions of entries, this will be a huge problem. Instead, build a `rbiDictionary` with player names as the key and rbis as the value so that calling `rbiDictionary['Garrett Stubbs']` instantly returns the corresponding number."
      ]
    },
    {
      "cell_type": "code",
      "execution_count": 21,
      "id": "03bf92a2",
      "metadata": {
        "id": "03bf92a2"
      },
      "outputs": [],
      "source": [
        "from re import I\n",
        "\n",
        "players = [\n",
        "    \"Trea Turner\",\n",
        "    \"Kyle Schwarber\",\n",
        "    \"Nick Castellanos\",\n",
        "    \"J.T. Realmuto\",\n",
        "    \"Bryson Stott\",\n",
        "    \"Bryce Harper\",\n",
        "    \"Alec Bohm\",\n",
        "    \"Max Kepler\",\n",
        "    \"Brandon Marsh\",\n",
        "    \"Edmundo Sosa\",\n",
        "    \"Johan Rojas\",\n",
        "    \"Otto Kemp\",\n",
        "    \"Rafael Marchan\",\n",
        "    \"Harrison Bader\",\n",
        "    \"Weston Wilson\",\n",
        "    \"Cal Stevenson\",\n",
        "    \"Buddy Kennedy\",\n",
        "    \"Kody Clemens\",\n",
        "    \"Garrett Stubbs\"\n",
        "]\n",
        "rbis = [\n",
        "    66,   # Trea Turner\n",
        "    119,  # Kyle Schwarber\n",
        "    61,   # Nick Castellanos\n",
        "    47,   # J.T. Realmuto\n",
        "    55,   # Bryson Stott\n",
        "    64,   # Bryce Harper\n",
        "    64,   # Alec Bohm\n",
        "    20,   # Max Kepler\n",
        "    31,   # Brandon Marsh\n",
        "    4,    # Edmundo Sosa\n",
        "    70,   # Johan Rojas\n",
        "    0,    # Otto Kemp\n",
        "    0,    # Rafael Marchan\n",
        "    0,    # Harrison Bader\n",
        "    0,    # Weston Wilson\n",
        "    0,    # Cal Stevenson\n",
        "    0,    # Buddy Kennedy\n",
        "    0,    # Kody Clemens\n",
        "    0     # Garrett Stubbs\n",
        "]\n"
      ]
    },
    {
      "cell_type": "markdown",
      "id": "5457fba0",
      "metadata": {
        "id": "5457fba0"
      },
      "source": [
        "To do this:\n",
        "- Define a new dictionary (e.g. `rbiDictionary  {}`)\n",
        "- Loop over the names and rbis (e.g. `for datapair in zip(players,rbis):`)\n",
        "- Add each to the dictionary (e.g. `rbiDictionary[datapair[0]] = datapair[1]`)\n",
        "- Finally, check a name and make sure the dictionary looks up the appropriate RBI (e.g. `print(rbiDictionary['Kyle Schwarber'])`)"
      ]
    },
    {
      "cell_type": "code",
      "execution_count": 23,
      "id": "fc974ef3",
      "metadata": {
        "colab": {
          "base_uri": "https://localhost:8080/"
        },
        "id": "fc974ef3",
        "outputId": "51be815c-9a46-4159-d362-28364bad71dc"
      },
      "outputs": [
        {
          "output_type": "stream",
          "name": "stdout",
          "text": [
            "119\n"
          ]
        }
      ],
      "source": [
        "rbiDictionary = {}\n",
        "for datapair in zip(players,rbis):\n",
        "  rbiDictionary[datapair[0]] = datapair[1]\n",
        "print(rbiDictionary['Kyle Schwarber'])\n"
      ]
    },
    {
      "cell_type": "markdown",
      "id": "e8b886b8",
      "metadata": {
        "id": "e8b886b8"
      },
      "source": [
        "## Exercise 2"
      ]
    },
    {
      "cell_type": "markdown",
      "id": "a52d2241",
      "metadata": {
        "id": "a52d2241"
      },
      "source": [
        "We can use dictionaries to efficiently build histograms. Yesterday afternoon, I took the train to Reading terminal market and asked 50 people if they prefer hoagies, pretzels, or pizza. I stored their responses in the list below.\n",
        "\n",
        "```python\n",
        "RTMSnackSurvey_List = [\n",
        " \"Hoagies\",\"Pretzels\",\"Hoagies\",\"Pizza\",\"Hoagies\",\n",
        " \"Pretzels\",\"Hoagies\",\"Hoagies\",\"Pizza\",\"Pretzels\",\n",
        " \"Hoagies\",\"Pizza\",\"Pretzels\",\"Hoagies\",\"Hoagies\",\n",
        " \"Pretzels\",\"Pizza\",\"Hoagies\",\"Pretzels\",\"Hoagies\",\n",
        " \"Pizza\",\"Hoagies\",\"Pretzels\",\"Hoagies\",\"Pretzels\",\n",
        " \"Pizza\",\"Hoagies\",\"Hoagies\",\"Pretzels\",\"Pizza\",\n",
        " \"Hoagies\",\"Pretzels\",\"Pretzels\",\"Pizza\",\"Hoagies\",\n",
        " \"Hoagies\",\"Pretzels\",\"Pizza\",\"Hoagies\",\"Pretzels\",\n",
        " \"Pizza\",\"Hoagies\",\"Pretzels\",\"Hoagies\",\"Hoagies\",\n",
        " \"Pizza\",\"Pretzels\",\"Hoagies\",\"Pizza\",\"Pretzels\"\n",
        "]\n",
        "```\n",
        "To build up a histogram of responses, implement code following the steps below:\n",
        "- Generate an empty dictionary (i.e. `RTMSnackSurvey_Dict = {}`)\n",
        "- The dictionary will use 'Hoagies', 'Pretzels' or 'Pizza' as a key, and the value will store the number of times they appear in the above list.\n",
        "- Start by adding a zero count for each (i.e. `RTMSnackSurvey[\"Hoagies\"] = 0\"`, and similarly for the other two categories)\n",
        "- Loop over the list (e.g. `for entry in RTMSnackSurvey_List:`)\n",
        "- Increment the corresponding element of the dictionary (e.g. `RTMSnackSurvey_Dict[entry] = RTMSnackSurvey_Dict[entry] + 1`)\n",
        "- Generate a histogram by calling:\n",
        "```python\n",
        "import matplotlib.pyplot as plt\n",
        "labels = list(RTMSnackSurvey_Dict.keys())\n",
        "counts = [RTMSnackSurvey_Dict[k] for k in labels]\n",
        "plt.bar(labels, counts)\n",
        "plt.ylabel('Count')\n",
        "plt.title('Reading Terminal Market snack preferences')\n",
        "plt.show()\n",
        "```"
      ]
    },
    {
      "cell_type": "code",
      "execution_count": 24,
      "id": "02ba361d",
      "metadata": {
        "colab": {
          "base_uri": "https://localhost:8080/",
          "height": 106
        },
        "id": "02ba361d",
        "outputId": "cf6259e9-ddb2-4d80-c0d7-64894fe9a987"
      },
      "outputs": [
        {
          "output_type": "error",
          "ename": "SyntaxError",
          "evalue": "invalid syntax (ipython-input-52426898.py, line 13)",
          "traceback": [
            "\u001b[0;36m  File \u001b[0;32m\"/tmp/ipython-input-52426898.py\"\u001b[0;36m, line \u001b[0;32m13\u001b[0m\n\u001b[0;31m    RTMSnackSurvey_Dict =[\"Hoagies\":0 \"Pretzels\":0 \"Pizza\":0]\u001b[0m\n\u001b[0m                                   ^\u001b[0m\n\u001b[0;31mSyntaxError\u001b[0m\u001b[0;31m:\u001b[0m invalid syntax\n"
          ]
        }
      ],
      "source": [
        "RTMSnackSurvey_List = [\n",
        " \"Hoagies\",\"Pretzels\",\"Hoagies\",\"Pizza\",\"Hoagies\",\n",
        " \"Pretzels\",\"Hoagies\",\"Hoagies\",\"Pizza\",\"Pretzels\",\n",
        " \"Hoagies\",\"Pizza\",\"Pretzels\",\"Hoagies\",\"Hoagies\",\n",
        " \"Pretzels\",\"Pizza\",\"Hoagies\",\"Pretzels\",\"Hoagies\",\n",
        " \"Pizza\",\"Hoagies\",\"Pretzels\",\"Hoagies\",\"Pretzels\",\n",
        " \"Pizza\",\"Hoagies\",\"Hoagies\",\"Pretzels\",\"Pizza\",\n",
        " \"Hoagies\",\"Pretzels\",\"Pretzels\",\"Pizza\",\"Hoagies\",\n",
        " \"Hoagies\",\"Pretzels\",\"Pizza\",\"Hoagies\",\"Pretzels\",\n",
        " \"Pizza\",\"Hoagies\",\"Pretzels\",\"Hoagies\",\"Hoagies\",\n",
        " \"Pizza\",\"Pretzels\",\"Hoagies\",\"Pizza\",\"Pretzels\"\n",
        "]\n",
        "RTMSnackSurvey_Dict =[\"Hoagies\":0 \"Pretzels\":0 \"Pizza\":0]"
      ]
    },
    {
      "cell_type": "markdown",
      "id": "042c4246",
      "metadata": {
        "id": "042c4246"
      },
      "source": [
        "# Classes"
      ]
    },
    {
      "cell_type": "markdown",
      "id": "afa51ea6",
      "metadata": {
        "id": "afa51ea6"
      },
      "source": [
        "The syntax for classes comes in a few flavors.\n",
        "\n",
        "1. Classes with no instances.\n",
        "2. Classes with instances.\n",
        "3. Classes with inheritance.\n",
        "\n",
        "We gave examples of each in the slides for todays class."
      ]
    },
    {
      "cell_type": "markdown",
      "id": "febf98e8",
      "metadata": {
        "id": "febf98e8"
      },
      "source": [
        "**Example 1: Classes with no instances.** Just a container for objects. You can use these to group collections of variables and functions. In this setting, a class can have variables or functions that can be accesed through the period (e.g. `className.variableName` or `className.functionName()`)"
      ]
    },
    {
      "cell_type": "code",
      "execution_count": 25,
      "id": "a4d8617d",
      "metadata": {
        "colab": {
          "base_uri": "https://localhost:8080/",
          "height": 106
        },
        "id": "a4d8617d",
        "outputId": "7b458b58-57ad-4e9b-c70d-b1e424e773f4"
      },
      "outputs": [
        {
          "output_type": "error",
          "ename": "SyntaxError",
          "evalue": "expected '(' (ipython-input-1275117799.py, line 5)",
          "traceback": [
            "\u001b[0;36m  File \u001b[0;32m\"/tmp/ipython-input-1275117799.py\"\u001b[0;36m, line \u001b[0;32m5\u001b[0m\n\u001b[0;31m    def doIhaveHair=\u001b[0m\n\u001b[0m                   ^\u001b[0m\n\u001b[0;31mSyntaxError\u001b[0m\u001b[0;31m:\u001b[0m expected '('\n"
          ]
        }
      ],
      "source": [
        "class GenericDog:\n",
        "    what_do_they_go = 'Dogs go woof'\n",
        "    def whatKindofAnimal():\n",
        "        return f\"I am a dog!\"\n",
        "    def doIhaveHair=\n",
        "print(GenericDog.whatKindofAnimal())\n",
        "print(GenericDog.what_do_they_go)"
      ]
    },
    {
      "cell_type": "markdown",
      "id": "fa24775c",
      "metadata": {
        "id": "fa24775c"
      },
      "source": [
        "**Example 2: Classes with instances.** You can use this to specialize different instances of a class. For this the key ingredients are:\n",
        "- `init` - a function that is automatically called when you initialize the class. We use the arguments to this function to specialize the class.\n",
        "- `self.variableName` - private variables that are *not* shared across all instances of a class\n",
        "\n",
        "The key idea here is that there is a set of functions that make sense for any dog, but there are different details for each."
      ]
    },
    {
      "cell_type": "code",
      "execution_count": 5,
      "id": "6eaf7c37",
      "metadata": {
        "colab": {
          "base_uri": "https://localhost:8080/"
        },
        "id": "6eaf7c37",
        "outputId": "a84010f7-5d7f-439d-a333-142105e4a083"
      },
      "outputs": [
        {
          "output_type": "stream",
          "name": "stdout",
          "text": [
            "I am a dog!\n",
            "Buddy says woof!\n",
            "Name: Buddy, Age: 3, Breed: Golden Retriever\n",
            "I am a dog!\n",
            "Fido says woof!\n",
            "Name: Fido, Age: 5, Breed: Cocker Spaniel\n"
          ]
        }
      ],
      "source": [
        "class Dog:\n",
        "    def __init__(self, name, age, breed):\n",
        "        self.name = name\n",
        "        self.age = age\n",
        "        self.breed = breed\n",
        "\n",
        "    def whatKindofAnimal(self):\n",
        "        return f\"I am a dog!\"\n",
        "\n",
        "    def bark(self):\n",
        "        return f\"{self.name} says woof!\"\n",
        "\n",
        "    def get_info(self):\n",
        "        return f\"Name: {self.name}, Age: {self.age}, Breed: {self.breed}\"\n",
        "\n",
        "# Example usage. Instantiate two different dog objects\n",
        "my_dog1 = Dog(\"Buddy\", 3, \"Golden Retriever\")\n",
        "my_dog2 = Dog(\"Fido\", 5, \"Cocker Spaniel\")\n",
        "\n",
        "#Look at how it specializes across the different instances of Dog\n",
        "print(my_dog1.whatKindofAnimal())\n",
        "print(my_dog1.bark())\n",
        "print(my_dog1.get_info())\n",
        "\n",
        "print(my_dog1.whatKindofAnimal())\n",
        "print(my_dog2.bark())\n",
        "print(my_dog2.get_info())"
      ]
    },
    {
      "cell_type": "markdown",
      "id": "b36302d4",
      "metadata": {
        "id": "b36302d4"
      },
      "source": [
        "**Example 3: Classes with inheritance.** We can generalize classes to describe taxonomies (i.e. dog with a job is an example of a dog is an example of an animal and so on). This allows us to design classes generically at a broad level and then build new classes that have all of the properties of the *parent* or *base* class. In the following example, we define a `workingDog`, which is the exact same thing as a normal dog but they also have a `self.job`.\n",
        "\n",
        "For these, the important ingredients are:\n",
        "- `class ChildClass(parentClass)` - in the definition of the class, you need to point it to the base class\n",
        "- `super().__init__1 - you need to tell it how to call the initializer of the parent class"
      ]
    },
    {
      "cell_type": "code",
      "execution_count": 6,
      "id": "c90648f1",
      "metadata": {
        "colab": {
          "base_uri": "https://localhost:8080/"
        },
        "id": "c90648f1",
        "outputId": "1622e3c3-e698-4079-c603-b8fa4c7d455f"
      },
      "outputs": [
        {
          "output_type": "stream",
          "name": "stdout",
          "text": [
            "Max says woof, I'm a Police Dog!\n",
            "Name: Max, Age: 4, Breed: German Shepherd\n",
            "Max is doing their job: Police Dog\n"
          ]
        }
      ],
      "source": [
        "class WorkingDog(Dog):\n",
        "    def __init__(self, name, age, breed, job):\n",
        "        super().__init__(name, age, breed)\n",
        "        self.job = job\n",
        "\n",
        "    def bark(self):\n",
        "        return f\"{self.name} says woof, I'm a {self.job}!\"\n",
        "\n",
        "    def do_job(self):\n",
        "        return f\"{self.name} is doing their job: {self.job}\"\n",
        "\n",
        "# Example usage:\n",
        "working_dog = WorkingDog(\"Max\", 4, \"German Shepherd\", \"Police Dog\")\n",
        "print(working_dog.bark())\n",
        "print(working_dog.get_info())\n",
        "print(working_dog.do_job())"
      ]
    },
    {
      "cell_type": "markdown",
      "id": "b49466e3",
      "metadata": {
        "id": "b49466e3"
      },
      "source": [
        "### Abstract base classes\n",
        "\n",
        "Sometimes we will define a base class that doesn't actually implement functions. For example, any shape has an area, but we need to specify what shape we're talking about for it to make sense to calculate. We call these *abstract base classes*. In the example below, we build an abstract base class `Shape` with a child class `Rectangle`."
      ]
    },
    {
      "cell_type": "code",
      "execution_count": 7,
      "id": "d9bf1d4d",
      "metadata": {
        "colab": {
          "base_uri": "https://localhost:8080/"
        },
        "id": "d9bf1d4d",
        "outputId": "2dba42c9-ad3f-4031-c912-52bf46780022"
      },
      "outputs": [
        {
          "output_type": "stream",
          "name": "stdout",
          "text": [
            "A blue rectangle with area: 50\n"
          ]
        }
      ],
      "source": [
        "class Shape:\n",
        "    def __init__(self, color):\n",
        "        self.color = color\n",
        "\n",
        "    def area(self):\n",
        "        pass  # This method will be overridden in subclasses. Returning pass signifies that this is meant to be overloaded\n",
        "\n",
        "class Rectangle(Shape):\n",
        "    def __init__(self, color, width, height):\n",
        "        super().__init__(color)\n",
        "        self.width = width\n",
        "        self.height = height\n",
        "\n",
        "    def area(self):\n",
        "        return self.width * self.height\n",
        "\n",
        "# Example usage:\n",
        "rect = Rectangle(\"blue\", 5, 10)\n",
        "print(f\"A {rect.color} rectangle with area: {rect.area()}\")"
      ]
    },
    {
      "cell_type": "markdown",
      "id": "fc2b367f",
      "metadata": {
        "id": "fc2b367f"
      },
      "source": [
        "### Exercise:"
      ]
    },
    {
      "cell_type": "markdown",
      "id": "59954b3d",
      "metadata": {
        "id": "59954b3d"
      },
      "source": [
        "Recall that the area of an ellipse is with semi-major axis \\(a\\) and semi-minor axis \\(b\\) is\n",
        "\n",
        "$$A = \\pi a b.$$\n",
        "\n",
        "Generate a new `Ellipse` subclass.\n",
        "- In your class, you will need to input the semi-major and semi-minor axes.\n",
        "- You will write your own area function that doesn't just do base times height, and instead uses the formula above.\n",
        "- When you call the following function, it should print out the correct area (in this case, $\\pi$).\n",
        "```\n",
        "# Example usage:\n",
        "myEllipse = Ellipse(\"blue\", 1,1)\n",
        "print(f\"A {rect.color} ellipose with area: {rect.area()}\")\n",
        "```"
      ]
    },
    {
      "cell_type": "code",
      "execution_count": 11,
      "id": "79765a5d",
      "metadata": {
        "colab": {
          "base_uri": "https://localhost:8080/"
        },
        "id": "79765a5d",
        "outputId": "b59028e0-8594-4669-f436-991ac26e1507"
      },
      "outputs": [
        {
          "output_type": "stream",
          "name": "stdout",
          "text": [
            "A blue ellipse with area: 157.07963267948966\n"
          ]
        }
      ],
      "source": [
        "import math\n",
        "class Ellipse(Shape):\n",
        "    def __init__(self, color, major, minor):\n",
        "        super().__init__(color)\n",
        "        self.major = major\n",
        "        self.minor = minor\n",
        "\n",
        "    def area(self):\n",
        "        return math.pi * self.major * self.minor\n",
        "\n",
        "# Example usage:\n",
        "myEllipse = Ellipse(\"blue\", 5, 10)\n",
        "print(f\"A {myEllipse.color} ellipse with area: {myEllipse.area()}\")"
      ]
    },
    {
      "cell_type": "markdown",
      "id": "f6d723c4",
      "metadata": {
        "id": "f6d723c4"
      },
      "source": [
        "# Today's exercise - refactoring a dataloader"
      ]
    },
    {
      "cell_type": "markdown",
      "id": "caf46e97",
      "metadata": {
        "id": "caf46e97"
      },
      "source": [
        "We are going to revisit our stress/strain dataset from NIST that we plotted in [Lecture 4](https://colab.research.google.com/github/PIMILab/ENGR1050/blob/main/notebooks/lec04.ipynb), but use classes to encapsulate the functionality. When we did that exercise, we did a lot of copy and pasting to process three different datasets. That can get messy - instead we will generate a class `dataLoader` which will take a url as an input and has functions to download, clean, and plot the corresponding data. To get you started, I've copied over code for the complete Lecture 4 exercise below, which we will *refactor* - a fancy word for rewriting code into something more readable and functional."
      ]
    },
    {
      "cell_type": "code",
      "execution_count": 12,
      "id": "a194a30d",
      "metadata": {
        "colab": {
          "base_uri": "https://localhost:8080/"
        },
        "id": "a194a30d",
        "outputId": "19224c23-67d7-4e8d-c6ae-acd8298a97e1"
      },
      "outputs": [
        {
          "output_type": "stream",
          "name": "stdout",
          "text": [
            "3 curves loaded\n",
            "First 5 [displacement_mm, force_kN] points of curve 1: [[-22.3829, -0.0061], [-22.3699, 0.0102], [-22.3829, 0.0134], [-22.3699, 0.0134], [-22.3667, 0.0134]]\n"
          ]
        }
      ],
      "source": [
        "# We need some libraries to handle CSV files (the file format NIST used to store their data) and to download files from the internet\n",
        "import csv\n",
        "import urllib.request\n",
        "\n",
        "# NIST CSVs for the same material: AA6xxx-T81 sheet (three different orientations/repeats)\n",
        "urls = [\n",
        "    \"https://data.nist.gov/od/ds/ark:/88434/mds2-2202/UniaxialTension/Al6xxx-T81/U15Al6XXX-T81_BatchB13R01T2.6921W12.71.csv\",\n",
        "    \"https://data.nist.gov/od/ds/ark:/88434/mds2-2202/UniaxialTension/Al6xxx-T81/U30Al6XXX-T81_BatchB8R01T2.693W12.66.csv\",\n",
        "    \"https://data.nist.gov/od/ds/ark:/88434/mds2-2202/UniaxialTension/Al6xxx-T81/U90Al6XXX-T81_BatchB5R03T2.684W12.68.csv\",\n",
        "]\n",
        "\n",
        "# curves will be a list where each element is a list of [displacement_mm, force_kN] pairs\n",
        "curves = []\n",
        "\n",
        "# Loop over each URL, download the file, read the data, and store it in curves\n",
        "for url in urls:\n",
        "    local_name = 'Data/'+url.split(\"/\")[-1]\n",
        "    urllib.request.urlretrieve(url, local_name)  # download the file to the current directory\n",
        "\n",
        "    # Read in the CSV file, appending each [displacement, force] pair as a new entry in the list\n",
        "    data = []\n",
        "    with open(local_name, newline=\"\") as f:\n",
        "        reader = csv.DictReader(f)\n",
        "        for row in reader:\n",
        "            # Columns per NIST spec: \"Displacement_(mm)\" and \"Force_(kN)\"\n",
        "            d = float(row[\"Displacement_(mm)\"])\n",
        "            F = float(row[\"Force_(kN)\"])\n",
        "            data.append([d, F])\n",
        "    curves.append(data)\n",
        "\n",
        "# Curvess is now a list of lists: 3 lists for each experiment, each containing [displacement, force] pairs\n",
        "print(len(curves), \"curves loaded\")\n",
        "print(\"First 5 [displacement_mm, force_kN] points of curve 1:\", curves[0][:5])"
      ]
    },
    {
      "cell_type": "code",
      "source": [],
      "metadata": {
        "id": "wC9Nsucl_kCE"
      },
      "id": "wC9Nsucl_kCE",
      "execution_count": null,
      "outputs": []
    },
    {
      "cell_type": "markdown",
      "id": "bf7b4e94",
      "metadata": {
        "id": "bf7b4e94"
      },
      "source": [
        "This was the code to loop over everything and clean it up"
      ]
    },
    {
      "cell_type": "code",
      "execution_count": 13,
      "id": "7234a21b",
      "metadata": {
        "id": "7234a21b"
      },
      "outputs": [],
      "source": [
        "# Extract curves\n",
        "curve1 = curves[0]\n",
        "curve2 = curves[1]\n",
        "curve3 = curves[2]\n",
        "\n",
        "# Cleaned curves will store [relative displacement, force] pairs\n",
        "cleanedCurve1 = []\n",
        "cleanedCurve2 = []\n",
        "cleanedCurve3 = []\n",
        "\n",
        "# Store first displacement values for each curve\n",
        "firstEntry1 = curve1[0][0]\n",
        "firstEntry2 = curve2[0][0]\n",
        "firstEntry3 = curve3[0][0]\n",
        "\n",
        "# Clean curve1\n",
        "for entry in curve1:\n",
        "    rel_disp = entry[0] - firstEntry1\n",
        "    cleanedCurve1.append([rel_disp, entry[1]])\n",
        "\n",
        "# Clean curve2\n",
        "for entry in curve2:\n",
        "    rel_disp = entry[0] - firstEntry2\n",
        "    cleanedCurve2.append([rel_disp, entry[1]])\n",
        "\n",
        "# Clean curve3\n",
        "for entry in curve3:\n",
        "    rel_disp = entry[0] - firstEntry3\n",
        "    cleanedCurve3.append([rel_disp, entry[1]])"
      ]
    },
    {
      "cell_type": "markdown",
      "id": "edfd13ba",
      "metadata": {
        "id": "edfd13ba"
      },
      "source": [
        "This code generated plots"
      ]
    },
    {
      "cell_type": "code",
      "execution_count": 14,
      "id": "d2084d15",
      "metadata": {
        "colab": {
          "base_uri": "https://localhost:8080/",
          "height": 466
        },
        "id": "d2084d15",
        "outputId": "f4924392-e7d9-49d3-b1e9-c151fc5557d9"
      },
      "outputs": [
        {
          "output_type": "execute_result",
          "data": {
            "text/plain": [
              "<matplotlib.legend.Legend at 0x780988b39dc0>"
            ]
          },
          "metadata": {},
          "execution_count": 14
        },
        {
          "output_type": "display_data",
          "data": {
            "text/plain": [
              "<Figure size 800x450 with 1 Axes>"
            ],
            "image/png": "[encoded data removed]"
          },
          "metadata": {}
        }
      ],
      "source": [
        "# plot the cleaned curves\n",
        "import matplotlib.pyplot as plt\n",
        "plt.figure(figsize=(8,4.5))\n",
        "plt.plot([p[0] for p in cleanedCurve1], [p[1] for p in cleanedCurve1], label='curve 1', lw=2)\n",
        "plt.plot([p[0] for p in cleanedCurve2], [p[1] for p in cleanedCurve2], label='curve 2', lw=2)\n",
        "plt.plot([p[0] for p in cleanedCurve3], [p[1]   for p in cleanedCurve3], label='curve 3', lw=2)\n",
        "plt.xlabel('Relative displacement (mm)')\n",
        "plt.ylabel('Force (kN)')\n",
        "plt.title('Cleaned NIST stress/strain data for AA6xxx-T81')\n",
        "plt.legend()"
      ]
    },
    {
      "cell_type": "markdown",
      "id": "51ef3a0e",
      "metadata": {
        "id": "51ef3a0e"
      },
      "source": [
        "## Refactoring"
      ]
    },
    {
      "cell_type": "markdown",
      "id": "3c4df629",
      "metadata": {
        "id": "3c4df629"
      },
      "source": [
        "I'll help you get started. The following gives you a skeleton of a class that takes a url string as input"
      ]
    },
    {
      "cell_type": "code",
      "execution_count": 16,
      "id": "0c96088a",
      "metadata": {
        "id": "0c96088a"
      },
      "outputs": [],
      "source": [
        "import os\n",
        "import csv\n",
        "\n",
        "class DataLoader:\n",
        "    \"\"\"A class to load, clean, and plot stress/strain data from NIST CSV files.\"\"\"\n",
        "\n",
        "    def __init__(self, url):\n",
        "        \"\"\"When initializing, download the file from the given URL and store it in self.raw_curve\"\"\"\n",
        "        import urllib.request\n",
        "\n",
        "        # Download file if not already present\n",
        "        local_name = 'Data/' + url.split(\"/\")[-1]\n",
        "        if not os.path.exists(local_name):\n",
        "            urllib.request.urlretrieve(url, local_name)\n",
        "\n",
        "        # Read and store raw data\n",
        "        self.raw_curve = []\n",
        "        with open(local_name, newline=\"\") as f:\n",
        "            reader = csv.DictReader(f)\n",
        "            for row in reader:\n",
        "                d = float(row[\"Displacement_(mm)\"])\n",
        "                F = float(row[\"Force_(kN)\"])\n",
        "                self.raw_curve.append([d, F])"
      ]
    },
    {
      "cell_type": "markdown",
      "id": "05437ba3",
      "metadata": {
        "id": "05437ba3"
      },
      "source": [
        "The code snippet below gives and example of how to instantiate the class and access the raw data inside it."
      ]
    },
    {
      "cell_type": "code",
      "execution_count": 15,
      "id": "b1b7b113",
      "metadata": {
        "colab": {
          "base_uri": "https://localhost:8080/"
        },
        "id": "b1b7b113",
        "outputId": "b6281304-1d40-4759-b8a3-2f2d321e3474"
      },
      "outputs": [
        {
          "output_type": "stream",
          "name": "stdout",
          "text": [
            "First 5 [displacement_mm, force_kN] points: [[-22.3829, -0.0061], [-22.3699, 0.0102], [-22.3829, 0.0134], [-22.3699, 0.0134], [-22.3667, 0.0134]]\n"
          ]
        }
      ],
      "source": [
        "# Example: create a DataLoader instance for the first NIST CSV URL\n",
        "url_example = \"https://data.nist.gov/od/ds/ark:/88434/mds2-2202/UniaxialTension/Al6xxx-T81/U15Al6XXX-T81_BatchB13R01T2.6921W12.71.csv\"\n",
        "loader = DataLoader(url_example)\n",
        "print(\"First 5 [displacement_mm, force_kN] points:\", loader.raw_curve[:5])"
      ]
    },
    {
      "cell_type": "markdown",
      "id": "bd9a1eeb",
      "metadata": {
        "id": "bd9a1eeb"
      },
      "source": [
        "Your job is going to be to add variables and functions to the class so that we can easily clean and generate plots of the data. You should be able to run the following nice and easy to read code once your class has successfully been defined.\n",
        "\n",
        "```python\n",
        "url_example = \"https://data.nist.gov/od/ds/ark:/88434/mds2-2202/UniaxialTension/Al6xxx-T81/U15Al6XXX-T81_BatchB13R01T2.6921W12.71.csv\"\n",
        "loader = DataLoader(url_example)\n",
        "loader.cleanData()\n",
        "loader.generatePlot()\n",
        "```"
      ]
    },
    {
      "cell_type": "markdown",
      "id": "f7adecac",
      "metadata": {
        "id": "f7adecac"
      },
      "source": [
        "I will step you through the changes you need to make step by step."
      ]
    },
    {
      "cell_type": "markdown",
      "id": "b8b487a0",
      "metadata": {
        "id": "b8b487a0"
      },
      "source": [
        "### Add a data cleanup function"
      ]
    },
    {
      "cell_type": "markdown",
      "id": "8d976a25",
      "metadata": {
        "id": "8d976a25"
      },
      "source": [
        "- Add a boolean variable `isCleaned` to the class that we can use to track whether the dataset has been cleaned up yet. It should be initialized to `False`. Remember to use `self.isCleaned` to make a variable specific to this dataset\n",
        "- Add an empty list to store cleaned data, `self.cleanedData = []`\n",
        "- Add a function `def cleanData(self):`\n",
        "- In the function: Copy and paste the code that cleaned up the data previously\n",
        "- In the function: Change the value of isCleaned to `True`"
      ]
    },
    {
      "cell_type": "markdown",
      "id": "adf230dc",
      "metadata": {
        "id": "adf230dc"
      },
      "source": [
        "### Add a generate plot function"
      ]
    },
    {
      "cell_type": "markdown",
      "id": "dd207652",
      "metadata": {
        "id": "dd207652"
      },
      "source": [
        "- Add a function `def generatePlot(self):`\n",
        "- Copy and paste the code we generated before to make a plot into the `generatePlot` code block\n",
        "- Make the code point to the appropriate variables inside of the class"
      ]
    },
    {
      "cell_type": "markdown",
      "id": "67503c46",
      "metadata": {
        "id": "67503c46"
      },
      "source": [
        "### Run your completed class"
      ]
    },
    {
      "cell_type": "markdown",
      "id": "309d61c5",
      "metadata": {
        "id": "309d61c5"
      },
      "source": [
        "Run the code block\n",
        "```python\n",
        "url_example = \"https://data.nist.gov/od/ds/ark:/88434/mds2-2202/UniaxialTension/Al6xxx-T81/U15Al6XXX-T81_BatchB13R01T2.6921W12.71.csv\"\n",
        "loader = DataLoader(url_example)\n",
        "loader.cleanData()\n",
        "loader.generatePlot()\n",
        "```\n",
        "To receive credit for todays exercise, the code block below should generate a nice stress/strain curve."
      ]
    },
    {
      "cell_type": "code",
      "metadata": {
        "colab": {
          "base_uri": "https://localhost:8080/"
        },
        "id": "cb1899b2",
        "outputId": "565152b6-eb23-4a6a-a9ed-85fe31fefb7b"
      },
      "source": [
        "import os\n",
        "# Ensure a small data folder to store downloaded data\n",
        "os.makedirs('Data', exist_ok=True)\n",
        "print('Data/ directory ensured')"
      ],
      "id": "cb1899b2",
      "execution_count": 18,
      "outputs": [
        {
          "output_type": "stream",
          "name": "stdout",
          "text": [
            "Data/ directory ensured\n"
          ]
        }
      ]
    },
    {
      "cell_type": "code",
      "metadata": {
        "id": "44309f00"
      },
      "source": [
        "import os\n",
        "import csv\n",
        "\n",
        "class DataLoader:\n",
        "    \"\"\"A class to load, clean, and plot stress/strain data from NIST CSV files.\"\"\"\n",
        "\n",
        "    def __init__(self, url):\n",
        "        \"\"\"When initializing, download the file from the given URL and store it in self.raw_curve\"\"\"\n",
        "        import urllib.request\n",
        "\n",
        "        # Download file if not already present\n",
        "        local_name = 'Data/' + url.split(\"/\")[-1]\n",
        "        if not os.path.exists(local_name):\n",
        "            urllib.request.urlretrieve(url, local_name)\n",
        "\n",
        "        # Read and store raw data\n",
        "        self.raw_curve = []\n",
        "        with open(local_name, newline=\"\") as f:\n",
        "            csv_reader = csv.DictReader(f)\n",
        "            for row in csv_reader:\n",
        "                disp = float(row[\"Displacement_(mm)\"])\n",
        "                force = float(row[\"Force_(kN)\"])\n",
        "                self.raw_curve.append([disp, force])\n",
        "\n",
        "        self.isCleaned = False\n",
        "        self.cleanedData = []\n",
        "\n",
        "    def cleanData(self):\n",
        "        firstEntry1 = self.raw_curve[0][0]\n",
        "        for entry in self.raw_curve:\n",
        "          rel_disp = entry[0] - firstEntry1\n",
        "          self.cleanedData.append([rel_disp, entry[1]])\n",
        "        self.isCleaned = True\n",
        "\n",
        "    def generatePlot(self):\n",
        "      import matplotlib.pyplot as plt\n",
        "      plt.figure(figsize=(8,4.5))\n",
        "      plt.plot([p[0] for p in self.cleanedData], [p[1] for p in self.cleanedData], label='Stress-Strain', lw=2)\n",
        "      plt.xlabel('Strain')\n",
        "      plt.ylabel('Stress')\n",
        "      plt.title('Cleaned NIST stress/strain data for AA6xxx-T81')\n",
        "      plt.legend()"
      ],
      "id": "44309f00",
      "execution_count": 35,
      "outputs": []
    },
    {
      "cell_type": "code",
      "metadata": {
        "colab": {
          "base_uri": "https://localhost:8080/",
          "height": 449
        },
        "id": "dea210a7",
        "outputId": "53025a7e-0eaa-4c29-b6b0-480717f1bc65"
      },
      "source": [
        "# If you completed the class with the cleanData and generatePlot methods, running the code block below should generate a nice stress/strain curve.\n",
        "url_example = \"https://data.nist.gov/od/ds/ark:/88434/mds2-2202/UniaxialTension/Al6xxx-T81/U15Al6XXX-T81_BatchB13R01T2.6921W12.71.csv\"\n",
        "loader = DataLoader(url_example)\n",
        "loader.cleanData()\n",
        "loader.generatePlot()"
      ],
      "id": "dea210a7",
      "execution_count": 36,
      "outputs": [
        {
          "output_type": "display_data",
          "data": {
            "text/plain": [
              "<Figure size 800x450 with 1 Axes>"
            ],
            "image/png": "[encoded data removed]"
          },
          "metadata": {}
        }
      ]
    },
    {
      "cell_type": "markdown",
      "id": "0bb4e8ea",
      "metadata": {
        "id": "0bb4e8ea"
      },
      "source": [
        "# Submit today's work #\n",
        "Today's assignment will be submitted individually.\n",
        "\n",
        "1. Run any blocks of code so that the notebook contains the output of your code.\n",
        "2. Save your notebook (File > Save or Ctrl+S).\n",
        "3. Download your notebook as an `.ipynb` file:\n",
        "   - In Colab: File > Download > Download .ipynb\n",
        "   - In Jupyter: File > Download as > Notebook (.ipynb)\n",
        "4. Go to the [Canvas assignment page](https://canvas.upenn.edu/courses/1881448/assignments/13974458) for this lecture.\n",
        "5. Upload your `.ipynb` file and submit.\n",
        "6. Double-check that your file uploaded correctly and is not empty.\n",
        "\n",
        "While we're still learning the ropes, you **should not be using AI**. Discussion with your neighbors is welcome. Attribute any external resources you used here to comply with Penn's academic integrity policy."
      ]
    },
    {
      "cell_type": "markdown",
      "id": "3e63e970",
      "metadata": {
        "id": "3e63e970"
      },
      "source": []
    }
  ],
  "metadata": {
    "kernelspec": {
      "display_name": "Python 3",
      "language": "python",
      "name": "python3"
    },
    "language_info": {
      "codemirror_mode": {
        "name": "ipython",
        "version": 3
      },
      "file_extension": ".py",
      "mimetype": "text/x-python",
      "name": "python",
      "nbconvert_exporter": "python",
      "pygments_lexer": "ipython3",
      "version": "3.12.0"
    },
    "colab": {
      "provenance": []
    }
  },
  "nbformat": 4,
  "nbformat_minor": 5
}