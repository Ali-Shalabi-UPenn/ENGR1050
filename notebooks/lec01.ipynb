{
 "cells": [
  {
   "cell_type": "markdown",
   "id": "59fa1c54",
   "metadata": {},
   "source": [
    "# Lecture 1: Getting Started with Python and Google Colab\n",
    "\n",
    "Welcome to ENGR1050! In this notebook, you'll learn how to use Google Colab, write Markdown, and practice Python basics including loops."
   ]
  },
  {
   "cell_type": "markdown",
   "id": "d2f6eff5",
   "metadata": {},
   "source": [
    "[![Open In Colab](https://colab.research.google.com/assets/colab-badge.svg)](https://colab.research.google.com/drive/your-notebook-link-here)\n",
    "\n",
    "> Click the badge above to open this notebook in Google Colab. (Update the link after uploading to Google Drive or GitHub.)"
   ]
  },
  {
   "cell_type": "markdown",
   "id": "7db4132a",
   "metadata": {},
   "source": [
    "## 1. Getting Started with Google Colab\n",
    "\n",
    "Google Colab is a free, cloud-based Jupyter notebook environment. You can write and execute Python code in your browser, with no setup required.\n",
    "\n",
    "**To get started:**\n",
    "- Go to [Google Colab](https://colab.research.google.com/)\n",
    "- Click on `File` > `New notebook`\n",
    "- You can now write and run Python code!\n",
    "\n",
    "Let's try running a simple code cell below."
   ]
  },
  {
   "cell_type": "code",
   "execution_count": null,
   "id": "b239c84d",
   "metadata": {},
   "outputs": [],
   "source": [
    "# Run this cell to see output below!\n",
    "print('Hello, Colab!')"
   ]
  },
  {
   "cell_type": "markdown",
   "id": "b6c293f0",
   "metadata": {},
   "source": [
    "## 2. Basics of Markdown in Colab\n",
    "\n",
    "You can add text cells in Colab using Markdown. This is useful for notes, instructions, and formatting your notebook. For your assignments when submitting a jupyter notebook, use headings to clearly present your work.\n",
    "\n",
    "**Markdown Examples:**\n",
    "\n",
    "# Heading 1\n",
    "## Heading 2\n",
    "**Bold text**\n",
    "*Italic text*\n",
    "- Bullet list item 1\n",
    "- Bullet list item 2\n",
    "\n",
    "Inline code: `print('Hello!')`\n",
    "\n",
    "You can try editing this cell or add your own Markdown cell!"
   ]
  },
  {
   "cell_type": "markdown",
   "id": "28b983f3",
   "metadata": {},
   "source": [
    "## 3. Writing and Running Python Code Cells\n",
    "\n",
    "You can add code cells to write and run Python code. Try the example below:"
   ]
  },
  {
   "cell_type": "code",
   "execution_count": null,
   "id": "b941c1cb",
   "metadata": {},
   "outputs": [],
   "source": [
    "# Assign a value to a variable and print it\n",
    "x = 5\n",
    "print('The value of x is:', x)"
   ]
  },
  {
   "cell_type": "markdown",
   "id": "89334fe3",
   "metadata": {},
   "source": [
    "## 4. Looping Over a List: Examples\n",
    "\n",
    "Loops let you repeat actions for each item in a list. Here are some examples:"
   ]
  },
  {
   "cell_type": "code",
   "execution_count": null,
   "id": "e1910d39",
   "metadata": {},
   "outputs": [],
   "source": [
    "# Print each item in a list\n",
    "fruits = ['apple', 'banana', 'cherry']\n",
    "for fruit in fruits:\n",
    "    print(fruit)"
   ]
  },
  {
   "cell_type": "code",
   "execution_count": null,
   "id": "adea1f6d",
   "metadata": {},
   "outputs": [],
   "source": [
    "# Square each number in a list and print the result\n",
    "numbers = [1, 2, 3, 4]\n",
    "for num in numbers:\n",
    "    print(num, 'squared is', num ** 2)"
   ]
  },
  {
   "cell_type": "markdown",
   "id": "28b70123",
   "metadata": {},
   "source": [
    "## 5. Fill in the Blank: Loop Exercises\n",
    "\n",
    "Try to complete the following code cells by filling in the blanks!"
   ]
  },
  {
   "cell_type": "code",
   "execution_count": null,
   "id": "bdebcdb9",
   "metadata": {},
   "outputs": [],
   "source": [
    "# Fill in the blanks to print each color in the list\n",
    "colors = ['red', 'green', 'blue']\n",
    "for ____ in ____:\n",
    "    print(____)  # Replace the blanks to make this work"
   ]
  },
  {
   "cell_type": "code",
   "execution_count": null,
   "id": "2e5525b7",
   "metadata": {},
   "outputs": [],
   "source": [
    "# Fill in the blanks to print each number squared\n",
    "nums = [2, 4, 6]\n",
    "for ____ in ____:\n",
    "    print(____, 'squared is', ____ ** 2)  # Replace the blanks"
   ]
  },
  {
   "cell_type": "markdown",
   "id": "ab9487c4",
   "metadata": {},
   "source": [
    "## 6. Using input() to Define Variables\n",
    "\n",
    "You can use the `input()` function to get user input and save it in a variable. Try the example below:"
   ]
  },
  {
   "cell_type": "code",
   "execution_count": null,
   "id": "f32eb751",
   "metadata": {},
   "outputs": [],
   "source": [
    "# Example: Save user input in a variable\n",
    "x = input('Input a value to save in variable x: ')\n",
    "print('You entered:', x)"
   ]
  },
  {
   "cell_type": "markdown",
   "id": "8eda310b",
   "metadata": {},
   "source": [
    "## 7. Exercise: Penn-themed Mad Libs Story\n",
    "\n",
    "To put everything together, we will create a Mad Libs story! Complete the code below to ask the user for different types of words (adjective, animal, place on campus, verb, noun, etc.), then print a funny story set at the University of Pennsylvania using their answers. "
   ]
  },
  {
   "cell_type": "code",
   "execution_count": null,
   "id": "bbc51f50",
   "metadata": {},
   "outputs": [],
   "source": [
    "# Take user input to define the variables adjective1, animal, verb, campus_place, adjective2, noun\n",
    "\n",
    "# If you have successfully used the 'input' function above, the following code will fill the user input into the placeholders for the story\n",
    "print(f\"On my first day at the University of Pennsylvania, I saw a {adjective1} {animal} {verb} across from {campus_place}. It stopped to admire a {adjective2} {noun} before heading to class. What a day at Penn!\")"
   ]
  },
  {
   "cell_type": "markdown",
   "id": "96855579",
   "metadata": {},
   "source": [
    "## 7. Submitting Your Notebook to Canvas\n",
    "\n",
    "When you are finished with your work:\n",
    "\n",
    "1. Run any blocks of code so that the notebook contains the output of your code.\n",
    "2. Save your notebook (File > Save or Ctrl+S).\n",
    "3. Download your notebook as an `.ipynb` file:\n",
    "   - In Colab: File > Download > Download .ipynb\n",
    "   - In Jupyter: File > Download as > Notebook (.ipynb)\n",
    "4. Go to the Canvas assignment page for this lecture.\n",
    "5. Upload your `.ipynb` file and submit.\n",
    "6. Double-check that your file uploaded correctly and is not empty.\n",
    "\n",
    "For this project we will submit **in groups** - follow the directions from the lecture slides to make sure you understand the process for this."
   ]
  },
  {
   "cell_type": "markdown",
   "id": "9f586330",
   "metadata": {},
   "source": []
  }
 ],
 "metadata": {
  "language_info": {
   "name": "python"
  }
 },
 "nbformat": 4,
 "nbformat_minor": 5
}
