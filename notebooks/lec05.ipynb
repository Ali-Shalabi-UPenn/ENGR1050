{
 "cells": [
  {
   "cell_type": "markdown",
   "id": "e1defda3",
   "metadata": {},
   "source": [
    "# Lecture 5: Collecting data: functions, while loops, widgets and lab reports\n",
    "[![Open In Colab](https://colab.research.google.com/assets/colab-badge.svg)](https://colab.research.google.com/github/PIMILab/ENGR1050/blob/main/notebooks/lec05.ipynb)\n",
    "\n",
    "In Lecture 4 we discussed how to process a list of data and generate plots of it. Today we will talk about a few ways of writing programs to collect data. These will give some more practice manipulating lists and will give us some nice ways to make interactive programs. "
   ]
  },
  {
   "cell_type": "markdown",
   "id": "256e4b37",
   "metadata": {},
   "source": [
    "## To get started\n",
    "\n",
    "Run the block of code to generate a subdirectory where you can store data."
   ]
  },
  {
   "cell_type": "code",
   "execution_count": null,
   "id": "5ba11abb",
   "metadata": {},
   "outputs": [],
   "source": [
    "import os\n",
    "# Ensure a small data folder to store downloaded data\n",
    "os.makedirs('Data', exist_ok=True)\n",
    "print('Data/ directory ensured')"
   ]
  },
  {
   "cell_type": "markdown",
   "id": "eaa15059",
   "metadata": {},
   "source": [
    "# Functions"
   ]
  },
  {
   "cell_type": "markdown",
   "id": "be995f5c",
   "metadata": {},
   "source": [
    "So far we've only used built in functions. You can easily write your own, which gives you a convenient way to organize your programs.\n",
    "\n",
    "Functions are reusable blocks of code that allow you to organize your programs and avoid repetition. By defining your own functions, you can break complex tasks into smaller, manageable pieces and make your code easier to read and maintain.\n",
    "\n",
    "A function typically takes input values (called arguments), performs a specific task, and can return a result. Python provides many built-in functions, but you can easily write your own to suit your needs."
   ]
  },
  {
   "cell_type": "markdown",
   "id": "b6152537",
   "metadata": {},
   "source": [
    "### Basic syntax\n",
    "\n",
    "To define a function called `function_name` that takes input variables `argument1`,`argument2`... and outputs `result`. The first line is followed by an optional *docstring* which explains how the function is meant to be used. This helps people understand how to call your function without needing to understand the nitty gritty details of how you implemented it.\n",
    "\n",
    "```python\n",
    "def function_name(argument1,...,argument2):\n",
    "    \"\"\"\n",
    "    Short description of what the function does, what is expected from arguments\n",
    "    \"\"\"\n",
    "    # code block that assigns a value to result\n",
    "    return result\n",
    "```\n",
    "\n",
    "For example, the following adds two numbers\n",
    "```python\n",
    "def addTwoNumbers(number1,number2):\n",
    "    \"\"\"\n",
    "    Input: two floating point values number1 and number2. \n",
    "    Return: the sum of the two numbers\n",
    "    \"\"\"\n",
    "    sumOfTwoNumbers = number1+number2\n",
    "    return sumOfTwoNumbers\n",
    "```\n",
    "\n",
    "The inputs and returns of a function can be anything - variables, lists, and so on."
   ]
  },
  {
   "cell_type": "markdown",
   "id": "b5a78b5a",
   "metadata": {},
   "source": [
    "### Examples\n",
    "1. Define a function that will summarize the max and min value of a list. By writing a function, we have *reusable* code that lets us easily apply the same task for different inputs."
   ]
  },
  {
   "cell_type": "code",
   "execution_count": null,
   "id": "fb47c3b3",
   "metadata": {},
   "outputs": [],
   "source": [
    "myList1 = [1,42,8,999,23,7]\n",
    "myList2 = [3,5,7,2,8,10]\n",
    "myList3 = [-5,-2,-8,-1,-4]\n",
    "myList4 = [3.5,2.1,5.7,8.9,1.2]\n",
    "myList5 = [1]\n",
    "\n",
    "# TODO: write a function that returns the max and min of a list"
   ]
  },
  {
   "cell_type": "markdown",
   "id": "832f4e71",
   "metadata": {},
   "source": [
    "2. If you don't want your function to return anything, just write return with nothing after it."
   ]
  },
  {
   "cell_type": "code",
   "execution_count": null,
   "id": "dc68814e",
   "metadata": {},
   "outputs": [],
   "source": [
    "def printSomething():\n",
    "    print(\"Hello ENGR1050!\")\n",
    "    return\n",
    "printSomething()"
   ]
  },
  {
   "cell_type": "markdown",
   "id": "c224eff3",
   "metadata": {},
   "source": [
    "# While loops"
   ]
  },
  {
   "cell_type": "markdown",
   "id": "df9eb957",
   "metadata": {},
   "source": [
    "\n",
    "`While` loops provide an almost identical functionality to `for` loops, but are a bit more flexible so that they can be used for open-ended tasks. "
   ]
  },
  {
   "cell_type": "markdown",
   "id": "f614925d",
   "metadata": {},
   "source": [
    "### Basic Syntax\n",
    "\n",
    "```python\n",
    "while booleanExpression:\n",
    "    # code block that runs repeatedly, as long as booleanExpression is True\n",
    "```"
   ]
  },
  {
   "cell_type": "markdown",
   "id": "43c13ced",
   "metadata": {},
   "source": [
    "### Examples"
   ]
  },
  {
   "cell_type": "markdown",
   "id": "c9a85e99",
   "metadata": {},
   "source": [
    "\n",
    "1. We can use a `while` in the exact same way as we use a `for`"
   ]
  },
  {
   "cell_type": "code",
   "execution_count": null,
   "id": "db578af2",
   "metadata": {},
   "outputs": [],
   "source": [
    "print('This came from a while loop:')\n",
    "counter = 0\n",
    "while counter < 5:\n",
    "    print(counter)\n",
    "    counter += 1\n",
    "\n",
    "print('This came from a for loop:')\n",
    "for i in range(5):\n",
    "    print(i)"
   ]
  },
  {
   "cell_type": "markdown",
   "id": "336696b4",
   "metadata": {},
   "source": [
    "2. What they're really useful for is when you don't know ahead of time exactly how many times you'd like to repeat a loop. For example, say you wanted to count up integers and stop when their square is less than 50,"
   ]
  },
  {
   "cell_type": "code",
   "execution_count": null,
   "id": "3c685c65",
   "metadata": {},
   "outputs": [],
   "source": [
    "currentInteger = 1\n",
    "while currentInteger**2 < 50:\n",
    "    print(f'{currentInteger} squared is {currentInteger**2}, which is less than 50')\n",
    "    currentInteger += 1"
   ]
  },
  {
   "cell_type": "markdown",
   "id": "6695b54e",
   "metadata": {},
   "source": [
    "*Note:* That code block used an `fstring` as a shortcut. If you add a letter `f` before a string `f\\' \\'` it signals that you will be plugging variables into it - anywhere there is an expression in curly brackets it will swap in the evaluated expression. For example:"
   ]
  },
  {
   "cell_type": "code",
   "execution_count": null,
   "id": "648217cb",
   "metadata": {},
   "outputs": [],
   "source": [
    "someVariable = 42\n",
    "print(f'The value of someVariable is {someVariable}')"
   ]
  },
  {
   "cell_type": "markdown",
   "id": "e3d20da6",
   "metadata": {},
   "source": [
    "### Infinite loops"
   ]
  },
  {
   "cell_type": "markdown",
   "id": "7c2d47af",
   "metadata": {},
   "source": [
    "\n",
    "If the body of your `while` never causes `booleanExpression` to evaluate to `False`, the loop will run forever! If you get caught in an infinite loop, you will have to manually stop the cell by clicking on the stop icon to the left of the block."
   ]
  },
  {
   "cell_type": "code",
   "execution_count": null,
   "id": "75340bf8",
   "metadata": {},
   "outputs": [],
   "source": [
    "somePositiveNumber = 1\n",
    "while somePositiveNumber > 0:\n",
    "    print(f'Current positive number is {somePositiveNumber}')\n",
    "    somePositiveNumber += 1"
   ]
  },
  {
   "cell_type": "markdown",
   "id": "16e5673b",
   "metadata": {},
   "source": [
    "### break and continue"
   ]
  },
  {
   "cell_type": "markdown",
   "id": "5be3eefe",
   "metadata": {},
   "source": [
    "To control infinite loops, we can put `break`/`continue` calls in to control how the block is repeated.\n",
    "\n",
    "- `break` immediately exits the nearest loop. Use it when you have found a condition that makes further looping unnecessary.\n",
    "- `continue` stops the current iteration and jumps to the next loop iteration. Use it to skip processing for one item but keep looping.\n",
    "\n",
    "```python\n",
    "# Use a break to exit loop after printing 0 through 4\n",
    "number = 0\n",
    "while True:\n",
    "    print(f'Current number is {number}')\n",
    "    number += 1\n",
    "    if number >= 5:\n",
    "        break\n",
    "```\n",
    "\n",
    "```python\n",
    "# Same, but only print every other number\n",
    "number = 0\n",
    "while True:\n",
    "    number += 1\n",
    "    if number%2 == 0:\n",
    "        continue\n",
    "    print(f'Current number is {number}')\n",
    "    if number >= 5:\n",
    "        break\n",
    "```"
   ]
  },
  {
   "cell_type": "markdown",
   "id": "a7b65e38",
   "metadata": {},
   "source": [
    "So far, this sounds like `for` but with lots of extra steps. But this is incredibly useful for collecting information from a user. Below we will collect information from a text prompt. In order to do that, `input` is a function to save user input as a string, and there are some nice string functions to clean up strings.\n",
    "\n",
    "```python\n",
    "user_input = input(\"Enter something: \")  # Reads input as a string\n",
    "\n",
    "# Common string processing functions\n",
    "user_input.lower()            # Converts to lowercase\n",
    "user_input.upper()            # Converts to uppercase\n",
    "user_input.strip()            # Removes leading/trailing whitespace\n",
    "user_input.split(',')         # Splits string into a list by comma\n",
    "user_input.replace('a', 'b')  # Replaces 'a' with 'b'\n",
    "user_input.isdigit()          # Checks if string contains only digits\n",
    "user_input.isalpha()          # Checks if string contains only letters\n",
    "len(user_input)               # Gets length of string"
   ]
  },
  {
   "cell_type": "markdown",
   "id": "fba4216a",
   "metadata": {},
   "source": [
    "When a user inputs a string, they could give it in any format. For example:\n",
    "\n",
    "```python\n",
    "user_input = input('What city do you live in?')\n",
    "```\n",
    "Could give you responses of `Philadelphia`, `philadelphia`, `philly`, `Philly`, `phladelia`\n",
    "\n",
    "We can use the string processing to force everything to e.g. be lowercase, which makes it easy to process with if statements"
   ]
  },
  {
   "cell_type": "code",
   "execution_count": null,
   "id": "4e21fc98",
   "metadata": {},
   "outputs": [],
   "source": [
    "print('Enter input below. Type \\'stop\\' to end the loop.') # note that the backslash is necessary to interpret it as a character and note the end of the string\n",
    "while True:\n",
    "    user_input = input(\"> \")\n",
    "    if user_input.lower() == 'stop':\n",
    "        print('Stopping the loop as requested.')\n",
    "        break\n",
    "    else:\n",
    "        print(f'You entered: {user_input}')"
   ]
  },
  {
   "cell_type": "markdown",
   "id": "9b714e7e",
   "metadata": {},
   "source": [
    "### Examples:"
   ]
  },
  {
   "cell_type": "markdown",
   "id": "39e80bda",
   "metadata": {},
   "source": [
    "Finally we are ready to write a while loop that will collect numbers one at a time from a user and add them to a list. Be careful - the `input` function saves the user input as a string. To make a plot, we will need it stored as a number. You will also need to check whether the input has the right format and skip processing if it is invalid."
   ]
  },
  {
   "cell_type": "code",
   "execution_count": null,
   "id": "e14d74eb",
   "metadata": {},
   "outputs": [],
   "source": [
    "numbers = []\n",
    "print(\"Enter numbers one at a time. Type 'stop' to finish.\")\n",
    "\n",
    "while True:\n",
    "    user_input = input(\"> \")\n",
    "    cleaned_input = user_input.strip().lower() # throws out leading/trailing whitespace and makes it lowercase\n",
    "    if cleaned_input == 'stop':\n",
    "        print(\"Finished collecting numbers.\")\n",
    "        break\n",
    "    elif user_input.isdigit():\n",
    "        numbers.append(float(user_input)) # convert to float and add to list\n",
    "    else:\n",
    "        print(\"Invalid input, please enter a number or 'stop'.\")\n",
    "\n",
    "print(\"Collected numbers:\", numbers)"
   ]
  },
  {
   "cell_type": "markdown",
   "id": "a207adc9",
   "metadata": {},
   "source": [
    "**Sanitizing input:** There are lots of other tricks to cleaning up input. For example, you can use `myString.split(' ')` to break the input into individual words, use `len` to count how many words they gave you, etc."
   ]
  },
  {
   "cell_type": "markdown",
   "id": "4decc2c3",
   "metadata": {},
   "source": [
    "# Widgets"
   ]
  },
  {
   "cell_type": "markdown",
   "id": "589c6484",
   "metadata": {},
   "source": [
    "Text prompts are a simple way to read in a string at a time, but we are living in 2025 and not 1985 - people expect a nice interface when they're inputing data. There are nice python libraries for generating graphical user interfaces (GUIs, pronounced affectionately as \"gooeys\"). Python has a very simple tool for this called widgets. "
   ]
  },
  {
   "cell_type": "markdown",
   "id": "905c3d35",
   "metadata": {},
   "source": [
    "### Basic Syntax\n",
    "\n",
    "Widgets are interactive GUI elements that allow users to input data or interact with your notebook visually. The most common widget functions include:\n",
    "\n",
    "- `widgets.Text()` : Creates a text box for string input.\n",
    "- `widgets.IntSlider()` : Creates a slider for integer input.\n",
    "- `widgets.FloatSlider()` : Creates a slider for float input.\n",
    "- `widgets.Dropdown()` : Creates a dropdown menu for selecting from options.\n",
    "- `widgets.Button()` : Creates a clickable button.\n",
    "\n",
    "To use widgets, you typically import the `ipywidgets` library and display them using the `display()` function.\n",
    "\n",
    "We will need to define a function `on_button_clicked` to tell the button what to do when the user clicks it."
   ]
  },
  {
   "cell_type": "code",
   "execution_count": null,
   "id": "d3a381c0",
   "metadata": {},
   "outputs": [],
   "source": [
    "import ipywidgets as widgets\n",
    "from IPython.display import display\n",
    "\n",
    "# Components to add to the widget\n",
    "text_box = widgets.Text(value='Default text', description='Text:')\n",
    "int_slider = widgets.IntSlider(value=5, min=0, max=10, description='Int:')\n",
    "dropdown = widgets.Dropdown(options=['Option 1', 'Option 2', 'Option 3'], value='Option 1', description='Choice:')\n",
    "button = widgets.Button(description='Show values')\n",
    "\n",
    "# Read-only area to show values \n",
    "result = widgets.Textarea(value='', description='Values:', disabled=True)\n",
    "\n",
    "# Button handler: update the result area with current widget values\n",
    "def on_button_clicked(b):\n",
    "    textToPrint = f\"Text: {text_box.value}\\nInt: {int_slider.value}\\nChoice: {dropdown.value}\"\n",
    "    result.value = textToPrint\n",
    "\n",
    "button.on_click(on_button_clicked)\n",
    "\n",
    "# Initial display - the widgit will add components vertically in the order you give them\n",
    "display(text_box, int_slider, dropdown, button, result)"
   ]
  },
  {
   "cell_type": "markdown",
   "id": "4d6f40f2",
   "metadata": {},
   "source": [
    "**Example:**\n",
    "Let's make a widget that will collect a couple values and add them to a list. Note that if you read a number as a string you have to clean it up and make sure its valid. The sliders and dropdown menus keeps the input \"on the rails\" so you can steer the user more easily toward an input that's easy for (as a programmer) to handle."
   ]
  },
  {
   "cell_type": "code",
   "execution_count": null,
   "id": "e8f39b5a",
   "metadata": {},
   "outputs": [],
   "source": [
    "import ipywidgets as widgets\n",
    "from IPython.display import display\n",
    "\n",
    "list1 = []\n",
    "list2 = []\n",
    "\n",
    "label = widgets.Label('Enter two numbers to append to the list:')\n",
    "text_box1 = widgets.Text(value='', description='Number one:')\n",
    "float_slider = widgets.FloatSlider(value=0.0, min=-10.0, max=10.0, step=0.1, description='Number two:')\n",
    "button1 = widgets.Button(description='Add to lists')\n",
    "button2 = widgets.Button(description='Show lists')\n",
    "result = widgets.Textarea(value='', description='Lists:', disabled=True)\n",
    "def on_add_clicked(b):\n",
    "    num1_str = text_box1.value.strip()\n",
    "    if num1_str.isalpha() or num1_str == '':\n",
    "        result.value = \"Invalid input for Number one. Please enter a valid number (e.g., 3.5).\"\n",
    "        return\n",
    "\n",
    "    # safe to convert after validation\n",
    "    num1 = float(num1_str)\n",
    "    num2 = float_slider.value  # slider already numeric\n",
    "\n",
    "    list1.append(num1)\n",
    "    list2.append(num2)\n",
    "\n",
    "    # clear the text box and show confirmation + updated lists\n",
    "    text_box1.value = ''\n",
    "\n",
    "def on_show_clicked(b):\n",
    "    result.value = f\"List 1: {list1}\\nList 2: {list2}\"\n",
    "\n",
    "button1.on_click(on_add_clicked)\n",
    "button2.on_click(on_show_clicked)\n",
    "display(label, text_box1, float_slider, button1, button2, result)\n"
   ]
  },
  {
   "cell_type": "markdown",
   "id": "2cbd8e3b",
   "metadata": {},
   "source": [
    "After you've used that widget to add some numbers to your lists, you can work with those lists the same as we have so far."
   ]
  },
  {
   "cell_type": "code",
   "execution_count": null,
   "id": "4203b27a",
   "metadata": {},
   "outputs": [],
   "source": [
    "for entries in zip(list1, list2):\n",
    "    print(f'Entry: {entries[0]}, {entries[1]}')"
   ]
  },
  {
   "cell_type": "markdown",
   "id": "f6d723c4",
   "metadata": {},
   "source": [
    "# Today's exercises"
   ]
  },
  {
   "cell_type": "markdown",
   "id": "caf46e97",
   "metadata": {},
   "source": [
    "Today we are going to write code that will help us collect data for a lab report. In the old timey days we would do experiments and write values down one at a time in a notebook, or maybe fill in an excel spreadsheet. We are going to write code to collect (x,y) pairs of data and then generate a plot. We'll do this two ways - first using a while loop to gather data from a text prompt, and then designing a widget to collect data through a GUI."
   ]
  },
  {
   "cell_type": "markdown",
   "id": "f70378c0",
   "metadata": {},
   "source": [
    "## 1. Functions"
   ]
  },
  {
   "cell_type": "markdown",
   "id": "3c771073",
   "metadata": {},
   "source": [
    "Write a function called `sanitizeData` that takes in a string, converts it into a float, and returns the value. It should print out an error message if the string contains letters and not numbers. You don't need to go overboard catching every possible input - just make sure you get a number before converting and returning it."
   ]
  },
  {
   "cell_type": "code",
   "execution_count": null,
   "id": "1e26c7ef",
   "metadata": {},
   "outputs": [],
   "source": [
    "# Write code here"
   ]
  },
  {
   "cell_type": "markdown",
   "id": "182fd762",
   "metadata": {},
   "source": [
    "## 2. While loops"
   ]
  },
  {
   "cell_type": "markdown",
   "id": "53cca84f",
   "metadata": {},
   "source": [
    "Write a while loop to repeatedly collect pairs of numbers from the user and add them to two lists. Afterward, generate a plot with proper axis labels and a title.\n",
    "\n",
    "*Hints:*\n",
    "- Start with two lists: `list1 = []`, `list2 = []`\n",
    "- Copy and paste the while loop from the exercise to get a quick starting point.\n",
    "- Use your `sanitizeData` function as a way to process each string\n",
    "- For convenience, I'm copying the syntax for how to make a plot from last lecture below.\n",
    "\n",
    "```python\n",
    "import matplotlib.pyplot as plt\n",
    "\n",
    "# Create data\n",
    "x = [i * 0.1 for i in range(0, 31)]            # 0.0 .. 3.0\n",
    "y = [2.0 * xi for xi in x]                     # simple linear relation\n",
    "\n",
    "# Plot\n",
    "plt.figure(figsize=(7,4))\n",
    "plt.plot(x, y, marker='o', linestyle='-', color='tab:blue', label='linear model')\n",
    "plt.xlabel('X axis label')\n",
    "plt.ylabel('Y axis label')\n",
    "plt.title('This is the title of the plot')\n",
    "plt.show()\n",
    "```"
   ]
  },
  {
   "cell_type": "code",
   "execution_count": null,
   "id": "3250cff0",
   "metadata": {},
   "outputs": [],
   "source": [
    "# Write code here"
   ]
  },
  {
   "cell_type": "markdown",
   "id": "b977480f",
   "metadata": {},
   "source": [
    "## 3. Widgets"
   ]
  },
  {
   "cell_type": "markdown",
   "id": "a526257b",
   "metadata": {},
   "source": [
    "Repeat Exercise 2, but build a widget to populate the lists instead of using a `while`. \n",
    "\n",
    "*Hints:*\n",
    "- Copy and paste your code from the previous exercise\n",
    "- Delete the while loop\n",
    "- Copy and paste the widget example code to fill in a list\n",
    "- Modify as needed to make it do what you want"
   ]
  },
  {
   "cell_type": "code",
   "execution_count": 34,
   "id": "071acb38",
   "metadata": {},
   "outputs": [],
   "source": [
    "# Write code here"
   ]
  },
  {
   "cell_type": "markdown",
   "id": "0bb4e8ea",
   "metadata": {},
   "source": [
    "# Submit today's work #\n",
    "Today's assignment will be submitted in groups of two. As always, add yourself to a group in Canvas, have one group member submit, and **each group member is responsible** for confirming their assignment was submitted.\n",
    "\n",
    "1. Run any blocks of code so that the notebook contains the output of your code.\n",
    "2. Save your notebook (File > Save or Ctrl+S).\n",
    "3. Download your notebook as an `.ipynb` file:\n",
    "   - In Colab: File > Download > Download .ipynb\n",
    "   - In Jupyter: File > Download as > Notebook (.ipynb)\n",
    "4. Go to the [Canvas assignment page](https://canvas.upenn.edu/courses/1881448/assignments/13959152) for this lecture.\n",
    "5. Upload your `.ipynb` file and submit.\n",
    "6. Double-check that your file uploaded correctly and is not empty.\n",
    "\n",
    "While we're still learning the ropes, you **should not be using AI**. Discussion with your neighbors is welcome. Attribute any external resources you used here to comply with Penn's academic integrity policy."
   ]
  }
 ],
 "metadata": {
  "kernelspec": {
   "display_name": "base",
   "language": "python",
   "name": "python3"
  },
  "language_info": {
   "codemirror_mode": {
    "name": "ipython",
    "version": 3
   },
   "file_extension": ".py",
   "mimetype": "text/x-python",
   "name": "python",
   "nbconvert_exporter": "python",
   "pygments_lexer": "ipython3",
   "version": "3.12.7"
  }
 },
 "nbformat": 4,
 "nbformat_minor": 5
}
