{
 "cells": [
  {
   "cell_type": "markdown",
   "id": "e1defda3",
   "metadata": {},
   "source": [
    "# Lecture 5: Making stuff: While loops, widgits, and Google forms\n",
    "\n",
    "[![Open In Colab](https://colab.research.google.com/assets/colab-badge.svg)](https://colab.research.google.com/github/PIMILab/ENGR1050/blob/main/notebooks/lec05.ipynb)\n",
    "\n",
    "In Lecture 4 we discussed how to process a list of data and generate plots of it. Today we will talk about a few ways of writing programs to collect data. These will give some more practice manipulating lists and will give us some nice ways to make interactive programs. "
   ]
  },
  {
   "cell_type": "markdown",
   "id": "256e4b37",
   "metadata": {},
   "source": [
    "## To get started\n",
    "\n",
    "Run the block of code to generate a subdirectory where you can store data."
   ]
  },
  {
   "cell_type": "code",
   "execution_count": null,
   "id": "5ba11abb",
   "metadata": {},
   "outputs": [],
   "source": [
    "import os\n",
    "# Ensure a small data folder to store downloaded data\n",
    "os.makedirs('Data', exist_ok=True)\n",
    "print('Data/ directory ensured')"
   ]
  },
  {
   "cell_type": "markdown",
   "id": "c224eff3",
   "metadata": {},
   "source": [
    "# While loops\n",
    "`While` loops provide an almost identical functionality to `for` loops, but are a bit more flexible so that they can be used for open-ended tasks. "
   ]
  },
  {
   "cell_type": "markdown",
   "id": "f614925d",
   "metadata": {},
   "source": [
    "### Basic Syntax\n",
    "\n",
    "```python\n",
    "while booleanExpression:\n",
    "    # code block that runs repeatedly, as long as booleanExpression is True\n",
    "```"
   ]
  },
  {
   "cell_type": "markdown",
   "id": "43c13ced",
   "metadata": {},
   "source": [
    "### Examples\n",
    "\n",
    "1. We can use a `while` in the exact same way as we use a `for`"
   ]
  },
  {
   "cell_type": "code",
   "execution_count": null,
   "id": "db578af2",
   "metadata": {},
   "outputs": [],
   "source": [
    "print('This came from a while loop:')\n",
    "counter = 0\n",
    "while counter < 5:\n",
    "    print(counter)\n",
    "    counter += 1\n",
    "\n",
    "print('This came from a for loop:')\n",
    "for i in range(5):\n",
    "    print(i)"
   ]
  },
  {
   "cell_type": "markdown",
   "id": "336696b4",
   "metadata": {},
   "source": [
    "2. What they're really useful for is when you don't know ahead of time exactly how many times you'd like to repeat a loop. For example, say you wanted to count up integers and stop when their square is less than 50,"
   ]
  },
  {
   "cell_type": "code",
   "execution_count": null,
   "id": "3c685c65",
   "metadata": {},
   "outputs": [],
   "source": [
    "currentInteger = 1\n",
    "while currentInteger**2 < 50:\n",
    "    print(f'{currentInteger} squared is {currentInteger**2}, which is less than 50')\n",
    "    currentInteger += 1"
   ]
  },
  {
   "cell_type": "markdown",
   "id": "6695b54e",
   "metadata": {},
   "source": [
    "*Note:* That code block used an `fstring` as a shortcut. If you add a letter `f` before a string `f\\' \\'` it signals that you will be plugging variables into it - anywhere there is an expression in curly brackets it will swap in the evaluated expression. For example:"
   ]
  },
  {
   "cell_type": "code",
   "execution_count": null,
   "id": "648217cb",
   "metadata": {},
   "outputs": [],
   "source": [
    "someVariable = 42\n",
    "print(f'The value of someVariable is {someVariable}')"
   ]
  },
  {
   "cell_type": "markdown",
   "id": "e3d20da6",
   "metadata": {},
   "source": [
    "### Infinite loops\n",
    "\n",
    "If the body of your `while` never causes `booleanExpression` to evaluate to `False`, the loop will run forever! If you get caught in an infinite loop, you will have to manually stop the cell by clicking on the stop icon to the left of the block."
   ]
  },
  {
   "cell_type": "code",
   "execution_count": null,
   "id": "75340bf8",
   "metadata": {},
   "outputs": [],
   "source": [
    "somePositiveNumber = 1\n",
    "while somePositiveNumber > 0:\n",
    "    print(f'Current positive number is {somePositiveNumber}')\n",
    "    somePositiveNumber += 1"
   ]
  },
  {
   "cell_type": "markdown",
   "id": "5be3eefe",
   "metadata": {},
   "source": [
    "### break and continue\n",
    "\n",
    "To control infinite loops, we can put `break`/`continue` calls in to control how the block is repeated.\n",
    "\n",
    "- `break` immediately exits the nearest loop. Use it when you have found a condition that makes further looping unnecessary.\n",
    "- `continue` stops the current iteration and jumps to the next loop iteration. Use it to skip processing for one item but keep looping.\n",
    "\n",
    "```python\n",
    "# Use a break to exit loop after printing 0 through 4\n",
    "number = 0\n",
    "while True:\n",
    "    print(f'Current number is {number}')\n",
    "    number += 1\n",
    "    if number >= 5:\n",
    "        break\n",
    "\n",
    "\n",
    "# Same, but only print every other number\n",
    "number = 0\n",
    "while True:\n",
    "    number += 1\n",
    "    if number%2 == 0:\n",
    "        continue\n",
    "    print(f'Current number is {number}')\n",
    "    if number >= 5:\n",
    "        break\n",
    "```"
   ]
  },
  {
   "cell_type": "markdown",
   "id": "a7b65e38",
   "metadata": {},
   "source": [
    "So far, this sounds like `for` but with lots of extra steps. But this is incredibly useful for collecting information from a user. Below we will collect information from a text prompt. In order to do that, `input` is a function to save user input as a string, and there are some nice string functions to clean up strings.\n",
    "\n",
    "```python\n",
    "user_input = input(\"Enter something: \")  # Reads input as a string\n",
    "\n",
    "# Common string processing functions\n",
    "user_input.lower()            # Converts to lowercase\n",
    "user_input.upper()            # Converts to uppercase\n",
    "user_input.strip()            # Removes leading/trailing whitespace\n",
    "user_input.split(',')         # Splits string into a list by comma\n",
    "user_input.replace('a', 'b')  # Replaces 'a' with 'b'\n",
    "user_input.isdigit()          # Checks if string contains only digits\n",
    "user_input.isalpha()          # Checks if string contains only letters\n",
    "len(user_input)               # Gets length of string"
   ]
  },
  {
   "cell_type": "markdown",
   "id": "fba4216a",
   "metadata": {},
   "source": [
    "When a user inputs a string, they could give it in any format. For example:\n",
    "\n",
    "```python\n",
    "user_input = input('What city do you live in?')\n",
    "```\n",
    "Could give you responses of `Philadelphia`, `philadelphia`, `philly`, `Philly`, `phladelia`\n",
    "\n",
    "We can use the string processing to force everything to e.g. be lowercase, which makes it easy to process with if statements"
   ]
  },
  {
   "cell_type": "code",
   "execution_count": 1,
   "id": "4e21fc98",
   "metadata": {},
   "outputs": [
    {
     "name": "stdout",
     "output_type": "stream",
     "text": [
      "Enter input below. Type 'stop' to end the loop.\n",
      "You entered: asdf\n",
      "You entered: asdf\n",
      "Stopping the loop as requested.\n",
      "Stopping the loop as requested.\n"
     ]
    }
   ],
   "source": [
    "print('Enter input below. Type \\'stop\\' to end the loop.') # note that the backslash is necessary to interpret it as a character and note the end of the string\n",
    "while True:\n",
    "    user_input = input(\"> \")\n",
    "    if user_input.lower() == 'stop':\n",
    "        print('Stopping the loop as requested.')\n",
    "        break\n",
    "    else:\n",
    "        print(f'You entered: {user_input}')"
   ]
  },
  {
   "cell_type": "markdown",
   "id": "4decc2c3",
   "metadata": {},
   "source": [
    "# Widgits"
   ]
  },
  {
   "cell_type": "markdown",
   "id": "6b6681df",
   "metadata": {},
   "source": [
    "# Notebook-friendly name prompt: try a widget and fall back to input()\n",
    "try:\n",
    "    from ipywidgets import Text, Button, Output, VBox\n",
    "    from IPython.display import display\n",
    "\n",
    "    out = Output()\n",
    "    txt = Text(description='Name:')\n",
    "    btn = Button(description='Submit')\n",
    "\n",
    "    def _on_click(b):\n",
    "        with out:\n",
    "            print('Hello', txt.value)\n",
    "\n",
    "    btn.on_click(_on_click)\n",
    "    display(VBox([txt, btn, out]))\n",
    "\n",
    "except Exception:\n",
    "    # Fallback for environments without ipywidgets (or in headless runs)\n",
    "    try:\n",
    "        user_input = input(\"What is your name? (or q to quit) \")\n",
    "    except EOFError:\n",
    "        user_input = ''\n",
    "\n",
    "    if user_input.strip().lower() in ('', 'q'):\n",
    "        print('No name entered; continuing without blocking.')\n",
    "    else:\n",
    "        print('Hello', user_input)"
   ]
  },
  {
   "cell_type": "markdown",
   "id": "9007dee8",
   "metadata": {},
   "source": [
    "## Exercises\n",
    "\n",
    "1. Create a short Google Form with at least 3 questions. Collect 10 responses (ask classmates). Download the CSV and load it with the loader cell above. Print the column names and first 3 responses.\n",
    "2. Use the widget cell to collect 5 manual samples and open `data/manual_responses.csv` to verify saved rows.\n",
    "3. Implement a small cleaning pipeline that extracts two columns (name and a numeric score), handles missing or malformed values, and computes the average score.\n",
    "\n",
    "Each step should use readable code (lists, for-loops, and simple conditionals)."
   ]
  },
  {
   "cell_type": "markdown",
   "id": "468acd2c",
   "metadata": {},
   "source": [
    "## Submission\n",
    "\n",
    "Save your notebook with outputs, and upload it to Canvas as instructed by the course. If you used Google Forms, include the exported CSV as supplementary material when asked."
   ]
  }
 ],
 "metadata": {
  "kernelspec": {
   "display_name": "base",
   "language": "python",
   "name": "python3"
  },
  "language_info": {
   "codemirror_mode": {
    "name": "ipython",
    "version": 3
   },
   "file_extension": ".py",
   "mimetype": "text/x-python",
   "name": "python",
   "nbconvert_exporter": "python",
   "pygments_lexer": "ipython3",
   "version": "3.12.7"
  }
 },
 "nbformat": 4,
 "nbformat_minor": 5
}
